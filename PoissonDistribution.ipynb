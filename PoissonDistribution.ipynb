{
 "cells": [
  {
   "cell_type": "code",
   "execution_count": 29,
   "metadata": {},
   "outputs": [],
   "source": [
    "# Generating some simple photon count data\n",
    "import numpy as np\n",
    "import pandas as pd\n",
    "\n",
    "from scipy import stats\n",
    "\n",
    "%matplotlib inline\n",
    "import matplotlib.pyplot as plt"
   ]
  },
  {
   "cell_type": "code",
   "execution_count": 30,
   "metadata": {},
   "outputs": [],
   "source": [
    "#read a file\n",
    "dfcmms=pd.read_excel('CMMS_demodata.xlsx', index_col=0, header=0) \n",
    "#dfcmms"
   ]
  },
  {
   "cell_type": "code",
   "execution_count": 31,
   "metadata": {},
   "outputs": [],
   "source": [
    "#estimate the in service life of the impellers\n",
    "\n",
    "birth=pd.to_datetime(\"2012-01-01\")\n",
    "dfcmms[\"life\"]=dfcmms[\"Notif.date\"]-birth\n",
    "#dfcmms[\"life\"]"
   ]
  },
  {
   "cell_type": "code",
   "execution_count": 32,
   "metadata": {},
   "outputs": [],
   "source": [
    "#sort values on in_service life\n",
    "\n",
    "dfcmms=dfcmms.sort_values(by=\"life\",ascending=True)\n",
    "#dfcmms"
   ]
  },
  {
   "cell_type": "code",
   "execution_count": 55,
   "metadata": {},
   "outputs": [
    {
     "data": {
      "text/plain": [
       "[<matplotlib.lines.Line2D at 0x279ee553f88>]"
      ]
     },
     "execution_count": 55,
     "metadata": {},
     "output_type": "execute_result"
    },
    {
     "data": {
      "image/png": "[encoded data removed]",
      "text/plain": [
       "<Figure size 432x288 with 1 Axes>"
      ]
     },
     "metadata": {
      "needs_background": "light"
     },
     "output_type": "display_data"
    }
   ],
   "source": [
    "plt.step(dfcmms[\"life\"]/10**9/3600/24,range(len(dfcmms[\"life\"])))"
   ]
  },
  {
   "cell_type": "code",
   "execution_count": 47,
   "metadata": {},
   "outputs": [
    {
     "data": {
      "text/plain": [
       "array([226.23260776, 221.65247937, 213.778365  , 243.20194477,\n",
       "       183.76779708, 188.03951059, 226.94712763, 224.22025832,\n",
       "       179.76638016, 169.0652724 , 246.50291356, 192.29201907,\n",
       "       219.57426377, 200.53808618, 217.89159471, 235.03666267,\n",
       "       171.81244707, 241.3954555 , 235.02403705, 205.04975175,\n",
       "       175.87841089, 226.11471281, 189.22373283, 187.56701259,\n",
       "       198.52206461, 172.13488337, 169.32505536, 164.74779514,\n",
       "       232.77151287, 187.06394814, 199.58354658, 211.72930628,\n",
       "       219.41945237, 152.88255768, 196.81031666, 187.0170641 ,\n",
       "       218.37858051, 233.67128304, 213.75637634, 194.27372106,\n",
       "       216.53079066, 186.59078832, 187.9513906 , 207.81808907,\n",
       "       121.95403681, 166.03807472, 196.43404483, 194.57507686,\n",
       "       199.1782999 , 245.80361708, 208.80899602, 205.91612832,\n",
       "       236.96370163, 238.85766424, 172.23477558, 220.59471407,\n",
       "       216.6318672 , 217.86915974, 169.23032368, 252.38505318,\n",
       "       184.91951296, 240.3388265 , 193.65039874, 162.1030307 ,\n",
       "       197.06933693, 212.38570897, 182.43522881, 209.87673839,\n",
       "       171.91802448, 157.11113037, 193.22237134, 202.15601847,\n",
       "       172.73822037, 202.81357533, 176.15888834, 201.25557986,\n",
       "       187.92098494, 233.3475825 , 212.004702  , 181.25683351,\n",
       "       166.98058599, 208.30578999, 193.33479147, 215.90505063,\n",
       "       172.04212069, 206.61362878, 202.32648532, 170.09504774,\n",
       "       177.526805  , 198.86508199, 185.07081045, 200.39047882,\n",
       "       184.82040218, 218.03502075, 211.60694195, 220.66398547,\n",
       "       202.32530083, 143.44292279, 224.76809115, 168.15460601])"
      ]
     },
     "execution_count": 47,
     "metadata": {},
     "output_type": "execute_result"
    }
   ],
   "source": [
    "x"
   ]
  },
  {
   "cell_type": "code",
   "execution_count": 45,
   "metadata": {},
   "outputs": [
    {
     "data": {
      "text/plain": [
       "array([0, 0, 0, 0, 0, 0, 0, 0, 0, 0, 0, 0, 0, 0, 0, 0, 0, 0, 0, 0, 0, 1,\n",
       "       0, 0, 0, 0, 0, 0, 0, 0, 0, 1, 0, 0, 0, 0, 0, 0, 1, 0, 0, 0, 0, 1,\n",
       "       0, 0, 0, 0, 0, 0])"
      ]
     },
     "execution_count": 45,
     "metadata": {},
     "output_type": "execute_result"
    }
   ],
   "source": [
    "np.random.seed(1)                 # for repeatability\n",
    "\n",
    "Lambda = 0.1  # arrival rate\n",
    "N = 50        # sample size\n",
    "F = stats.poisson(Lambda).rvs(N)  # compose a sample\n",
    "F"
   ]
  },
  {
   "cell_type": "code",
   "execution_count": null,
   "metadata": {},
   "outputs": [],
   "source": []
  }
 ],
 "metadata": {
  "kernelspec": {
   "display_name": "Python 3",
   "language": "python",
   "name": "python3"
  },
  "language_info": {
   "codemirror_mode": {
    "name": "ipython",
    "version": 3
   },
   "file_extension": ".py",
   "mimetype": "text/x-python",
   "name": "python",
   "nbconvert_exporter": "python",
   "pygments_lexer": "ipython3",
   "version": "3.7.6"
  }
 },
 "nbformat": 4,
 "nbformat_minor": 4
}
