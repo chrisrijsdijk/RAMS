{
 "cells": [
  {
   "cell_type": "code",
   "execution_count": 1,
   "metadata": {},
   "outputs": [],
   "source": [
    "import pandas as pd\n",
    "import numpy as np\n",
    "import matplotlib.pyplot as plt\n",
    "from sklearn.linear_model import LinearRegression\n"
   ]
  },
  {
   "cell_type": "code",
   "execution_count": 2,
   "metadata": {},
   "outputs": [],
   "source": [
    "#read a file\n",
    "#dfcmms=pd.read_excel('C:/Users/Chris/Pythonprojects/RAMS/inputfile/CMMS_demodata.xlsx', index_col=0, header=0) \n",
    "dfcmms=pd.to_datetime([\"2015-01-21\",\"2016-04-14\",\"2016-11-08\",\"2016-12-01\"])\n",
    "dfcmms=pd.DataFrame(dfcmms,columns=[\"Notif.date\"])\n",
    "#dfcmms"
   ]
  },
  {
   "cell_type": "code",
   "execution_count": 3,
   "metadata": {},
   "outputs": [],
   "source": [
    "# infer the life times out of the notifications. Note that this inference takes the heavy assumption that interarrival times are life times\n",
    "# Moreover this script ignores suspended life times at the beginning and at the end of the time bracket\n",
    "\n",
    "#calculate the life times\n",
    "dfcmms[\"Life\"]=dfcmms[\"Notif.date\"].diff()\n",
    "dfcmms[\"Life\"]=dfcmms[\"Life\"].dt.days\n",
    "#dfcmms"
   ]
  },
  {
   "cell_type": "code",
   "execution_count": 4,
   "metadata": {},
   "outputs": [],
   "source": [
    "# clean up the dataframe for further analysis\n",
    "#sort the life times in ascending order\n",
    "\n",
    "dfcmms.sort_values(\"Life\", axis=\"index\",ascending=True, inplace=True)\n",
    "\n",
    "#remove NaN rows from the \n",
    "dfcmms.dropna(axis=\"index\", inplace=True)\n",
    "#dfcmms"
   ]
  },
  {
   "cell_type": "code",
   "execution_count": 5,
   "metadata": {},
   "outputs": [],
   "source": [
    "# assess the median rank probabilities\n",
    "\n",
    "dfcmms[\"MedianRank\"]=0\n",
    "\n",
    "for i in range(len(dfcmms[\"Life\"])): \n",
    "    dfcmms.iloc[i,dfcmms.columns.get_loc(\"MedianRank\")]=(len(dfcmms[\"Life\"])-i-0.3)/(len(dfcmms[\"Life\"])+0.4)\n",
    "\n",
    "#dfcmms"
   ]
  },
  {
   "cell_type": "code",
   "execution_count": 6,
   "metadata": {},
   "outputs": [],
   "source": [
    "#convert the data to estimate the Weibull parameters by linear regression\n",
    "\n",
    "dfcmms[\"ln(Life)\"]=np.log(dfcmms[\"Life\"])\n",
    "dfcmms[\"ln(ln(1/R))\"]=np.log(np.log(1/dfcmms[\"MedianRank\"]))\n",
    "#dfcmms"
   ]
  },
  {
   "cell_type": "code",
   "execution_count": 7,
   "metadata": {},
   "outputs": [],
   "source": [
    "#create the dataframes for sklearn\n",
    "\n",
    "X = pd.DataFrame(dfcmms[\"ln(Life)\"])\n",
    "y = pd.DataFrame(dfcmms[\"ln(ln(1/R))\"])"
   ]
  },
  {
   "cell_type": "code",
   "execution_count": 8,
   "metadata": {},
   "outputs": [],
   "source": [
    "model = LinearRegression(fit_intercept=True)"
   ]
  },
  {
   "cell_type": "code",
   "execution_count": 9,
   "metadata": {},
   "outputs": [],
   "source": [
    "# fit the parameters\n",
    "\n",
    "model.fit(X,y)\n",
    "\n",
    "xfit = np.linspace(dfcmms[\"ln(Life)\"].min(), dfcmms[\"ln(Life)\"].max(), 1000)\n",
    "yfit = model.predict(xfit[:, np.newaxis])\n",
    "\n",
    "#calculate the parameters of the Weibull distribution from the slope and the intercept\n",
    "Beta=float(model.coef_)\n",
    "Eta=float(1/np.exp(model.intercept_/Beta))"
   ]
  },
  {
   "cell_type": "code",
   "execution_count": 10,
   "metadata": {},
   "outputs": [
    {
     "data": {
      "image/png": "[encoded data removed]",
      "text/plain": [
       "<Figure size 432x288 with 1 Axes>"
      ]
     },
     "metadata": {
      "needs_background": "light"
     },
     "output_type": "display_data"
    }
   ],
   "source": [
    "#plot the linear regression line and the \"observed\" data\n",
    "\n",
    "plt.scatter(X,y,label=\"Observations\",color=\"red\")\n",
    "plt.plot(xfit,yfit,label=\"OLS fit\",color=\"black\", linestyle=\"dashed\")\n",
    "\n",
    "plt.xlabel('ln(time)') \n",
    "plt.ylabel('ln(ln(1/R))')\n",
    "plt.xlim([dfcmms[\"ln(Life)\"].min()-1, dfcmms[\"ln(Life)\"].max()+1])\n",
    "plt.ylim([dfcmms[\"ln(ln(1/R))\"].min()-1, dfcmms[\"ln(ln(1/R))\"].max()+1])\n",
    "\n",
    "plt.legend()\n",
    "#plt.savefig(\"C:/Users/Chris/Pythonprojects/RAMS/figures/DecideOnQualityPlot01.png\")\n",
    "plt.show()"
   ]
  },
  {
   "cell_type": "code",
   "execution_count": 11,
   "metadata": {},
   "outputs": [
    {
     "data": {
      "image/png": "[encoded data removed]",
      "text/plain": [
       "<Figure size 432x288 with 1 Axes>"
      ]
     },
     "metadata": {
      "needs_background": "light"
     },
     "output_type": "display_data"
    }
   ],
   "source": [
    "# plot the Weibull distribution with the linear regression parameters\n",
    "\n",
    "xw = np.array(range(1001))/1000*dfcmms[\"Life\"].max()\n",
    "yw = np.exp(-(xw/Eta)**Beta)\n",
    "\n",
    "plt.scatter(dfcmms[\"Life\"],dfcmms[\"MedianRank\"],label=\"Observations\",color=\"red\")\n",
    "plt.plot(xw,yw,label=\"Weibull Eta={}, Beta={}\".format(round(Eta),round(Beta,3)),color=\"black\", linestyle=\"dashed\",) \n",
    "\n",
    "plt.xlabel('time') \n",
    "plt.ylabel('reliability')\n",
    "plt.xlim([0, dfcmms[\"Life\"].max()])\n",
    "plt.ylim([0,1])\n",
    "\n",
    "plt.legend()\n",
    "#plt.savefig(\"C:/Users/Chris/Pythonprojects/RAMS/figures/DecideOnQualityPlot01.png\")\n",
    "plt.show()\n"
   ]
  },
  {
   "cell_type": "code",
   "execution_count": null,
   "metadata": {},
   "outputs": [],
   "source": []
  }
 ],
 "metadata": {
  "kernelspec": {
   "display_name": "Python 3",
   "language": "python",
   "name": "python3"
  },
  "language_info": {
   "codemirror_mode": {
    "name": "ipython",
    "version": 3
   },
   "file_extension": ".py",
   "mimetype": "text/x-python",
   "name": "python",
   "nbconvert_exporter": "python",
   "pygments_lexer": "ipython3",
   "version": "3.7.6"
  }
 },
 "nbformat": 4,
 "nbformat_minor": 4
}
