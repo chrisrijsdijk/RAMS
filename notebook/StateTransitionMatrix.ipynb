{
 "cells": [
  {
   "cell_type": "code",
   "execution_count": 1,
   "metadata": {},
   "outputs": [],
   "source": [
    "#import some libraries\n",
    "\n",
    "import numpy as np\n",
    "import pandas as pd\n",
    "import matplotlib.pyplot as plt"
   ]
  },
  {
   "cell_type": "code",
   "execution_count": 2,
   "metadata": {},
   "outputs": [],
   "source": [
    "#this sample represents the evolution of the system states in time\n",
    "\n",
    "#this sample represents a non repairable system, i.e. it assesses reliability\n",
    "#sample =[\"up\",\"up\",\"up\",\"up\",\"down\",\"down\"]\n",
    "\n",
    "#this sample represents a repairable system, i.e. it assesses availability \n",
    "sample =[\"up\",\"up\",\"up\",\"up\",\"down\",\"down\",\"up\"]\n",
    "\n",
    "#this sample represents a repairable system at a more refined time scale, i.e. it assesses availability \n",
    "sample =[\"up\",\"up\",\"up\",\"up\",\"up\",\"up\",\"up\",\"up\",\"up\",\"up\",\"up\",\"up\",\"up\",\"up\",\"up\",\"up\",\"down\",\"down\",\"down\",\"down\",\"down\",\"down\",\"down\",\"down\",\"up\"]\n",
    "\n",
    "#this sample represents a repairable multiple state system, i.e. it assesses availability of some configuration\n",
    "#sample =[\"up/up\",\"up/up\",\"up/down\",\"up/up\",\"down/up\",\"up/up\",\"up/down\",\"up/down\",\"down/down\",\"up/down\",\"down/down\",\"down/up\",\"down/down\",\"down/up\",\"down/up\",\"up/up\",\"up/up\",\"up/up\"]\n",
    "\n",
    "#this is an incomplete sample as the transitions from down/down have not been observed\n",
    "#sample =[\"up/up\",\"up/up\",\"up/down\",\"up/up\",\"down/up\",\"up/up\",\"up/down\",\"up/down\",\"up/down\",\"up/up\",\"down/up\",\"down/up\",\"down/down\"]\n",
    "\n",
    "#this sample represents a repairable multiple state system at a higher time resolution, i.e. it assesses availability of some configuration\n",
    "sample =[\"up/up\",\"up/up\",\"up/up\",\"up/up\",\"up/up\",\"up/up\",\"up/up\",\"up/up\",\"up/up\",\"up/up\",\"up/up\",\"up/up\",\n",
    "         \"up/down\",\"up/down\",\"up/down\",\"up/down\",\"up/down\",\"up/down\",\"up/up\",\"up/up\",\"up/up\",\"up/up\",\"up/up\",\"up/up\",\n",
    "         \"down/up\",\"down/up\",\"down/up\",\"down/up\",\"down/up\",\"down/up\",\"up/up\",\"up/up\",\"up/up\",\"up/up\",\"up/up\",\"up/up\",\n",
    "         \"up/down\",\"up/down\",\"up/down\",\"up/down\",\"up/down\",\"up/down\",\"up/down\",\"up/down\",\"up/down\",\"up/down\",\"up/down\",\"up/down\",\n",
    "         \"down/down\",\"down/down\",\"down/down\",\"down/down\",\"down/down\",\"down/down\",\"up/down\",\"up/down\",\"up/down\",\"up/down\",\"up/down\",\"up/down\",\n",
    "         \"down/down\",\"down/down\",\"down/down\",\"down/down\",\"down/down\",\"down/down\",\"down/up\",\"down/up\",\"down/up\",\"down/up\",\"down/up\",\"down/up\",\n",
    "         \"down/down\",\"down/down\",\"down/down\",\"down/down\",\"down/down\",\"down/down\",\"down/up\",\"down/up\",\"down/up\",\"down/up\",\"down/up\",\"down/up\",\"down/up\",\"down/up\",\"down/up\",\"down/up\",\"down/up\",\"down/up\",\n",
    "         \"up/up\",\"up/up\",\"up/up\",\"up/up\",\"up/up\",\"up/up\",\"up/up\",\"up/up\",\"up/up\",\"up/up\",\"up/up\",\"up/up\",\"up/up\",\"up/up\",\"up/up\",\"up/up\",\"up/up\",\"up/up\"]\n",
    "\n",
    "#print(\"survey of state transitions: \\n\",tuple(zip(sample,sample[1:])),\"\\n\")"
   ]
  },
  {
   "cell_type": "code",
   "execution_count": 3,
   "metadata": {},
   "outputs": [
    {
     "name": "stdout",
     "output_type": "stream",
     "text": [
      "survey of the unique states in the sample, sorted descending:  ['up/up', 'up/down', 'down/up', 'down/down']\n",
      "empty state transition matrix: \n",
      "            up/up  up/down  down/up  down/down\n",
      "up/up          0        0        0          0\n",
      "up/down        0        0        0          0\n",
      "down/up        0        0        0          0\n",
      "down/down      0        0        0          0\n"
     ]
    }
   ],
   "source": [
    "#define state transition matrix\n",
    "\n",
    "n=pd.DataFrame(sample)[0].unique()\n",
    "n=n.tolist()\n",
    "n.sort(reverse=True)\n",
    "print(\"survey of the unique states in the sample, sorted descending: \",n)\n",
    "\n",
    "tm=pd.DataFrame(0,columns=n,index=n)\n",
    "print(\"empty state transition matrix: \\n\",tm)"
   ]
  },
  {
   "cell_type": "code",
   "execution_count": 4,
   "metadata": {},
   "outputs": [
    {
     "name": "stdout",
     "output_type": "stream",
     "text": [
      "print the transition matrix, the proportions in each row sum up to one:\n",
      "               up/up   up/down   down/up  down/down\n",
      "up/up      0.926829  0.048780  0.024390   0.000000\n",
      "up/down    0.041667  0.875000  0.000000   0.083333\n",
      "down/up    0.083333  0.000000  0.875000   0.041667\n",
      "down/down  0.000000  0.055556  0.111111   0.833333\n"
     ]
    }
   ],
   "source": [
    "# load the state transition matrix \n",
    "\n",
    "for (i,j) in zip(sample,sample[1:]):\n",
    "    tm.loc[i,j] += 1\n",
    "    \n",
    "tm=tm.apply(lambda x: x/x.sum(), axis=\"columns\")\n",
    "\n",
    "print(\"print the transition matrix, the proportions in each row sum up to one:\\n\", tm)"
   ]
  },
  {
   "cell_type": "code",
   "execution_count": 19,
   "metadata": {},
   "outputs": [
    {
     "data": {
      "text/html": [
       "<div>\n",
       "<style scoped>\n",
       "    .dataframe tbody tr th:only-of-type {\n",
       "        vertical-align: middle;\n",
       "    }\n",
       "\n",
       "    .dataframe tbody tr th {\n",
       "        vertical-align: top;\n",
       "    }\n",
       "\n",
       "    .dataframe thead th {\n",
       "        text-align: right;\n",
       "    }\n",
       "</style>\n",
       "<table border=\"1\" class=\"dataframe\">\n",
       "  <thead>\n",
       "    <tr style=\"text-align: right;\">\n",
       "      <th></th>\n",
       "      <th>up/up</th>\n",
       "      <th>up/down</th>\n",
       "      <th>down/up</th>\n",
       "      <th>down/down</th>\n",
       "    </tr>\n",
       "  </thead>\n",
       "  <tbody>\n",
       "    <tr>\n",
       "      <th>up/up</th>\n",
       "      <td>0.997</td>\n",
       "      <td>0.001</td>\n",
       "      <td>0.002</td>\n",
       "      <td>0.000</td>\n",
       "    </tr>\n",
       "    <tr>\n",
       "      <th>up/down</th>\n",
       "      <td>0.010</td>\n",
       "      <td>0.986</td>\n",
       "      <td>0.000</td>\n",
       "      <td>0.004</td>\n",
       "    </tr>\n",
       "    <tr>\n",
       "      <th>down/up</th>\n",
       "      <td>0.010</td>\n",
       "      <td>0.000</td>\n",
       "      <td>0.989</td>\n",
       "      <td>0.001</td>\n",
       "    </tr>\n",
       "    <tr>\n",
       "      <th>down/down</th>\n",
       "      <td>0.000</td>\n",
       "      <td>0.005</td>\n",
       "      <td>0.005</td>\n",
       "      <td>0.990</td>\n",
       "    </tr>\n",
       "  </tbody>\n",
       "</table>\n",
       "</div>"
      ],
      "text/plain": [
       "           up/up  up/down  down/up  down/down\n",
       "up/up      0.997    0.001    0.002      0.000\n",
       "up/down    0.010    0.986    0.000      0.004\n",
       "down/up    0.010    0.000    0.989      0.001\n",
       "down/down  0.000    0.005    0.005      0.990"
      ]
     },
     "execution_count": 19,
     "metadata": {},
     "output_type": "execute_result"
    }
   ],
   "source": [
    "#this block enables to manually compose a state transition matrix\n",
    "#DO NOT RUN THIS BLOCK IF YOU WANT TO USE A MATRIX INFERRED FROM THE EVOLUTION OF THE SYSTEM STATES\n",
    "\n",
    "n=['up/up', 'up/down', 'down/up', 'down/down']\n",
    "l1=0.001\n",
    "l2=0.002\n",
    "l3=0.001\n",
    "l4=0.004\n",
    "m1=0.01\n",
    "m2=0.01\n",
    "m3=0.005\n",
    "m4=0.005\n",
    "\n",
    "tm=pd.DataFrame([[1-l1-l2,l1     ,l2     ,0      ],\n",
    "                   [m1   ,1-l4-m1,0      ,l4     ],\n",
    "                   [m2   ,0      ,1-l3-m2,l3     ],\n",
    "                   [0    ,m4     ,m3     ,1-m3-m4]],columns=n,index=n)\n",
    "tm\n"
   ]
  },
  {
   "cell_type": "code",
   "execution_count": 20,
   "metadata": {},
   "outputs": [
    {
     "name": "stdout",
     "output_type": "stream",
     "text": [
      "check whether the values in this series add up to one:\n",
      " up/up        0\n",
      "up/down      1\n",
      "down/up      0\n",
      "down/down    0\n",
      "dtype: int64\n"
     ]
    }
   ],
   "source": [
    "#define the initial state of the system\n",
    "\n",
    "s = pd.Series(0,index=n)\n",
    "s[1]=1\n",
    "print(\"check whether the values in this series add up to one:\\n\",s)\n",
    "\n",
    "#calculate the evolution of the system states in time\n",
    "\n",
    "t=600 #define the time interval of interest\n",
    "\n",
    "em=pd.DataFrame()\n",
    "\n",
    "for i in range(t):\n",
    "    em=em.append(s,ignore_index=True)\n",
    "    s=tm.T.dot(s.T)\n",
    "    \n",
    "#print(\"the evolution matrix, given the initial state and the state transition matrix:\\n\",em)\n"
   ]
  },
  {
   "cell_type": "code",
   "execution_count": 21,
   "metadata": {},
   "outputs": [
    {
     "name": "stdout",
     "output_type": "stream",
     "text": [
      "the evolution of the upstate by two definitions:\n",
      "      down/down   down/up   up/down     up/up  up_system_1  up_system_2  \\\n",
      "0     0.000000  0.000000  1.000000  0.000000     0.000000     1.000000   \n",
      "1     0.004000  0.000000  0.986000  0.010000     0.010000     0.996000   \n",
      "2     0.007904  0.000040  0.972226  0.019830     0.019830     0.992096   \n",
      "3     0.011714  0.000119  0.958674  0.029493     0.029493     0.988286   \n",
      "4     0.015432  0.000235  0.945341  0.038993     0.038993     0.984568   \n",
      "..         ...       ...       ...       ...          ...          ...   \n",
      "595   0.045836  0.154062  0.069602  0.730501     0.730501     0.954164   \n",
      "596   0.045810  0.154057  0.069587  0.730546     0.730546     0.954190   \n",
      "597   0.045784  0.154053  0.069572  0.730591     0.730591     0.954216   \n",
      "598   0.045759  0.154048  0.069558  0.730635     0.730635     0.954241   \n",
      "599   0.045733  0.154044  0.069544  0.730680     0.730680     0.954267   \n",
      "\n",
      "     up_system_3  \n",
      "0       1.000000  \n",
      "1       0.996000  \n",
      "2       0.992056  \n",
      "3       0.988167  \n",
      "4       0.984333  \n",
      "..           ...  \n",
      "595     0.800103  \n",
      "596     0.800133  \n",
      "597     0.800163  \n",
      "598     0.800193  \n",
      "599     0.800223  \n",
      "\n",
      "[600 rows x 7 columns]\n"
     ]
    }
   ],
   "source": [
    "#add a columns that defines the upstate of the system\n",
    "\n",
    "sem=em.copy()\n",
    "sem[\"up_system_1\"]=em.iloc[:,len(em.iloc[0,:])-1] #last column of the em matrix represents the system's upstate\n",
    "sem[\"up_system_2\"]=1-em.iloc[:,0]                 #all columns of the em matrix, except for the first one represents the system's upstate\n",
    "sem[\"up_system_3\"]=em.iloc[:,len(em.iloc[0,:])-1]+em.iloc[:,len(em.iloc[0,:])-2] #the two last colums of the em matrix represent the system's upstate\n",
    "\n",
    "print(\"the evolution of the upstate by two definitions:\\n\",sem)"
   ]
  },
  {
   "cell_type": "code",
   "execution_count": 22,
   "metadata": {},
   "outputs": [
    {
     "data": {
      "image/png": "[encoded data removed]",
      "text/plain": [
       "<Figure size 432x288 with 1 Axes>"
      ]
     },
     "metadata": {
      "needs_background": "light"
     },
     "output_type": "display_data"
    }
   ],
   "source": [
    "#plot the system upstate in a graph\n",
    "\n",
    "fig = plt.figure()\n",
    "ax1 = fig.add_subplot(1,1,1) # one row, one column, first plot\n",
    "\n",
    "line, = ax1.step(sem.index,\n",
    "         sem[\"up_system_1\"],\n",
    "         where=\"post\",\n",
    "        label=\"up_system_1 definition\",\n",
    "        color=\"red\")\n",
    "\n",
    "line, = ax1.step(sem.index,\n",
    "         sem[\"up_system_2\"],\n",
    "         where=\"post\",\n",
    "        label=\"up_system_2 definition\",\n",
    "        color=\"black\",\n",
    "        linestyle=\"dashed\")\n",
    "\n",
    "line, = ax1.step(sem.index,\n",
    "         sem[\"up_system_3\"],\n",
    "         where=\"post\",\n",
    "        label=\"up_system_3 definition\",\n",
    "        color=\"blue\",\n",
    "        linestyle=\"dashed\")\n",
    "\n",
    "ax1.set_ylim([0, 1.03])\n",
    "xtext = ax1.set_xlabel('time in steps') # returns a Text instance\n",
    "ytext = ax1.set_ylabel('probability of the system to be up')\n",
    "\n",
    "plt.legend(title='Legend')\n",
    "#plt.savefig(\"C:/Users/Chris/Pythonprojects/RAMS/figures/StateTransitionPlot01.png\")\n",
    "plt.show()"
   ]
  },
  {
   "cell_type": "code",
   "execution_count": null,
   "metadata": {},
   "outputs": [],
   "source": []
  }
 ],
 "metadata": {
  "kernelspec": {
   "display_name": "Python 3",
   "language": "python",
   "name": "python3"
  },
  "language_info": {
   "codemirror_mode": {
    "name": "ipython",
    "version": 3
   },
   "file_extension": ".py",
   "mimetype": "text/x-python",
   "name": "python",
   "nbconvert_exporter": "python",
   "pygments_lexer": "ipython3",
   "version": "3.7.6"
  }
 },
 "nbformat": 4,
 "nbformat_minor": 4
}
