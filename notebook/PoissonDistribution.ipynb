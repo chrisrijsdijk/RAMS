{
 "cells": [
  {
   "cell_type": "code",
   "execution_count": 1,
   "metadata": {},
   "outputs": [],
   "source": [
    "# import some libraries\n",
    "import numpy as np\n",
    "import pandas as pd\n",
    "\n",
    "from scipy.stats import poisson\n",
    "\n",
    "%matplotlib inline\n",
    "import matplotlib.pyplot as plt"
   ]
  },
  {
   "cell_type": "code",
   "execution_count": null,
   "metadata": {},
   "outputs": [],
   "source": [
    "#read a file\n",
    "#dfcmms=pd.read_excel('C:/Users/Chris/Pythonprojects/RAMS/inputfile/CMMS_demodata.xlsx', index_col=0, header=0) \n",
    "dfcmms=pd.to_datetime([\"2015-01-21\",\"2016-04-14\",\"2016-11-08\",\"2016-12-01\"])\n",
    "dfcmms=pd.DataFrame(dfcmms,columns=[\"Notif.date\"])\n",
    "dfcmms"
   ]
  },
  {
   "cell_type": "code",
   "execution_count": 7,
   "metadata": {},
   "outputs": [
    {
     "data": {
      "text/plain": [
       "Notification\n",
       "10336908    20 days\n",
       "10735688   469 days\n",
       "10979795   677 days\n",
       "11014798   700 days\n",
       "Name: arrival, dtype: timedelta64[ns]"
      ]
     },
     "execution_count": 7,
     "metadata": {},
     "output_type": "execute_result"
    }
   ],
   "source": [
    "#estimate the arrivals, given a presumed birthdate of the experiment\n",
    "#note that in this setup, knowledge about what happened after the last arrival is presumed to be unknown!\n",
    "\n",
    "birth=pd.to_datetime(\"2015-01-01\")\n",
    "\n",
    "dfcmms[\"arrival\"]=dfcmms[\"Notif.date\"]-birth\n",
    "dfcmms[\"arrival\"]"
   ]
  },
  {
   "cell_type": "code",
   "execution_count": 9,
   "metadata": {},
   "outputs": [
    {
     "data": {
      "text/html": [
       "<div>\n",
       "<style scoped>\n",
       "    .dataframe tbody tr th:only-of-type {\n",
       "        vertical-align: middle;\n",
       "    }\n",
       "\n",
       "    .dataframe tbody tr th {\n",
       "        vertical-align: top;\n",
       "    }\n",
       "\n",
       "    .dataframe thead th {\n",
       "        text-align: right;\n",
       "    }\n",
       "</style>\n",
       "<table border=\"1\" class=\"dataframe\">\n",
       "  <thead>\n",
       "    <tr style=\"text-align: right;\">\n",
       "      <th></th>\n",
       "      <th>arrival</th>\n",
       "      <th>count</th>\n",
       "    </tr>\n",
       "  </thead>\n",
       "  <tbody>\n",
       "    <tr>\n",
       "      <th>0</th>\n",
       "      <td>0</td>\n",
       "      <td>0</td>\n",
       "    </tr>\n",
       "    <tr>\n",
       "      <th>10336908</th>\n",
       "      <td>20</td>\n",
       "      <td>1</td>\n",
       "    </tr>\n",
       "    <tr>\n",
       "      <th>10735688</th>\n",
       "      <td>469</td>\n",
       "      <td>2</td>\n",
       "    </tr>\n",
       "    <tr>\n",
       "      <th>10979795</th>\n",
       "      <td>677</td>\n",
       "      <td>3</td>\n",
       "    </tr>\n",
       "    <tr>\n",
       "      <th>11014798</th>\n",
       "      <td>700</td>\n",
       "      <td>4</td>\n",
       "    </tr>\n",
       "  </tbody>\n",
       "</table>\n",
       "</div>"
      ],
      "text/plain": [
       "          arrival  count\n",
       "0               0      0\n",
       "10336908       20      1\n",
       "10735688      469      2\n",
       "10979795      677      3\n",
       "11014798      700      4"
      ]
     },
     "execution_count": 9,
     "metadata": {},
     "output_type": "execute_result"
    }
   ],
   "source": [
    "#create a dataframe of the arrivals\n",
    "#sort values on the arrival times\n",
    "\n",
    "dfarrival=pd.DataFrame.append(pd.DataFrame({\"arrival\":dfcmms[\"arrival\"]}),pd.DataFrame({\"arrival\":[birth-birth]}))\n",
    "\n",
    "dfarrival=dfarrival.sort_values(by=\"arrival\",ascending=True)\n",
    "dfarrival[\"arrival\"]=dfarrival[\"arrival\"].dt.days\n",
    "dfarrival[\"count\"]=range(0,len(dfarrival[\"arrival\"]))\n",
    "\n",
    "dfarrival"
   ]
  },
  {
   "cell_type": "code",
   "execution_count": 13,
   "metadata": {},
   "outputs": [
    {
     "data": {
      "text/plain": [
       "175.0"
      ]
     },
     "execution_count": 13,
     "metadata": {},
     "output_type": "execute_result"
    }
   ],
   "source": [
    "#estimate the MLE Poisson parameter\n",
    "\n",
    "poismle=dfarrival[\"count\"].max()/dfarrival[\"arrival\"].max()\n",
    "\n",
    "#eventually the experiment could be extended with an OLS estimation...\n",
    "\n",
    "#poisols=dfarrival[\"arrival\"].dot(dfarrival[\"count\"])/dfarrival[\"arrival\"].dot(dfarrival[\"arrival\"])\n",
    "+1/poismle"
   ]
  },
  {
   "cell_type": "code",
   "execution_count": 12,
   "metadata": {},
   "outputs": [
    {
     "data": {
      "text/plain": [
       "<matplotlib.legend.Legend at 0x1648f54b4c8>"
      ]
     },
     "execution_count": 12,
     "metadata": {},
     "output_type": "execute_result"
    },
    {
     "data": {
      "image/png": "[encoded data removed]",
      "text/plain": [
       "<Figure size 432x288 with 1 Axes>"
      ]
     },
     "metadata": {
      "needs_background": "light"
     },
     "output_type": "display_data"
    }
   ],
   "source": [
    "\n",
    "fig = plt.figure()\n",
    "ax1 = fig.add_subplot(1,1,1) # one row, one column, first plot\n",
    "\n",
    "line, = ax1.step(dfarrival[\"arrival\"],\n",
    "         dfarrival[\"count\"],\n",
    "         where=\"post\",\n",
    "        label=\"observed arrivals\",\n",
    "        color=\"red\")\n",
    "\n",
    "line, = ax1.plot(dfarrival[\"arrival\"],\n",
    "              dfarrival[\"arrival\"]*poismle,\n",
    "                label=\"mle Poisson parameter\",\n",
    "                color=\"black\",\n",
    "                linestyle=\"dashed\")\n",
    "\n",
    "line, = ax1.plot(np.arange(0,dfarrival[\"arrival\"].max()),\n",
    "               poisson.ppf(0.025,np.arange(0,dfarrival[\"arrival\"].max())*poismle),\n",
    "                label=\"95% acceptance region\",\n",
    "                color=\"black\",\n",
    "                linestyle=\"dotted\")\n",
    "\n",
    "line, = ax1.plot(np.arange(0,dfarrival[\"arrival\"].max()),\n",
    "               poisson.ppf(0.975,np.arange(0,dfarrival[\"arrival\"].max())*poismle),\n",
    "                color=\"black\",\n",
    "                linestyle=\"dotted\")\n",
    "\n",
    "xtext = ax1.set_xlabel('time in days') # returns a Text instance\n",
    "ytext = ax1.set_ylabel('arrivals')\n",
    "\n",
    "plt.legend(title='Legend')\n",
    "#plt.savefig(\"C:/Users/Chris/Pythonprojects/RAMS/figures/PoissonPlot01.png\")\n",
    "#plt.show()\n",
    "\n"
   ]
  },
  {
   "cell_type": "code",
   "execution_count": null,
   "metadata": {},
   "outputs": [],
   "source": []
  }
 ],
 "metadata": {
  "kernelspec": {
   "display_name": "Python 3",
   "language": "python",
   "name": "python3"
  },
  "language_info": {
   "codemirror_mode": {
    "name": "ipython",
    "version": 3
   },
   "file_extension": ".py",
   "mimetype": "text/x-python",
   "name": "python",
   "nbconvert_exporter": "python",
   "pygments_lexer": "ipython3",
   "version": "3.7.6"
  }
 },
 "nbformat": 4,
 "nbformat_minor": 4
}
