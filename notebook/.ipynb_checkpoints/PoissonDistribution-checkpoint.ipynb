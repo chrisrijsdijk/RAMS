{
 "cells": [
  {
   "cell_type": "code",
   "execution_count": 1,
   "metadata": {},
   "outputs": [],
   "source": [
    "# import some libraries\n",
    "import numpy as np\n",
    "import pandas as pd\n",
    "\n",
    "from scipy.stats import poisson\n",
    "\n",
    "%matplotlib inline\n",
    "import matplotlib.pyplot as plt"
   ]
  },
  {
   "cell_type": "code",
   "execution_count": 2,
   "metadata": {},
   "outputs": [
    {
     "data": {
      "text/html": [
       "<div>\n",
       "<style scoped>\n",
       "    .dataframe tbody tr th:only-of-type {\n",
       "        vertical-align: middle;\n",
       "    }\n",
       "\n",
       "    .dataframe tbody tr th {\n",
       "        vertical-align: top;\n",
       "    }\n",
       "\n",
       "    .dataframe thead th {\n",
       "        text-align: right;\n",
       "    }\n",
       "</style>\n",
       "<table border=\"1\" class=\"dataframe\">\n",
       "  <thead>\n",
       "    <tr style=\"text-align: right;\">\n",
       "      <th></th>\n",
       "      <th>Notifictn type</th>\n",
       "      <th>Description</th>\n",
       "      <th>Order</th>\n",
       "      <th>Functional Loc.</th>\n",
       "      <th>Created On</th>\n",
       "      <th>Notif.date</th>\n",
       "      <th>Reference date</th>\n",
       "      <th>Malfunct. start</th>\n",
       "      <th>Malfunct.end</th>\n",
       "      <th>Req. start</th>\n",
       "      <th>Required End</th>\n",
       "      <th>Priority</th>\n",
       "      <th>Completn date</th>\n",
       "    </tr>\n",
       "    <tr>\n",
       "      <th>Notification</th>\n",
       "      <th></th>\n",
       "      <th></th>\n",
       "      <th></th>\n",
       "      <th></th>\n",
       "      <th></th>\n",
       "      <th></th>\n",
       "      <th></th>\n",
       "      <th></th>\n",
       "      <th></th>\n",
       "      <th></th>\n",
       "      <th></th>\n",
       "      <th></th>\n",
       "      <th></th>\n",
       "    </tr>\n",
       "  </thead>\n",
       "  <tbody>\n",
       "    <tr>\n",
       "      <th>10336908</th>\n",
       "      <td>SO</td>\n",
       "      <td>job description 1</td>\n",
       "      <td>40085158</td>\n",
       "      <td>x2</td>\n",
       "      <td>2015-01-21</td>\n",
       "      <td>2015-01-21</td>\n",
       "      <td>2017-02-14</td>\n",
       "      <td>2015-01-21</td>\n",
       "      <td>NaT</td>\n",
       "      <td>2015-01-21</td>\n",
       "      <td>2015-08-28</td>\n",
       "      <td>3-Medium</td>\n",
       "      <td>2017-02-14</td>\n",
       "    </tr>\n",
       "    <tr>\n",
       "      <th>10735688</th>\n",
       "      <td>SO</td>\n",
       "      <td>job description 2</td>\n",
       "      <td>40348131</td>\n",
       "      <td>x3</td>\n",
       "      <td>2016-04-14</td>\n",
       "      <td>2016-04-14</td>\n",
       "      <td>2017-02-14</td>\n",
       "      <td>2016-04-14</td>\n",
       "      <td>NaT</td>\n",
       "      <td>2016-04-14</td>\n",
       "      <td>NaT</td>\n",
       "      <td>3-Medium</td>\n",
       "      <td>2017-02-14</td>\n",
       "    </tr>\n",
       "    <tr>\n",
       "      <th>10979795</th>\n",
       "      <td>M1</td>\n",
       "      <td>job description 3</td>\n",
       "      <td>40506403</td>\n",
       "      <td>x1_1591</td>\n",
       "      <td>2016-11-08</td>\n",
       "      <td>2016-11-08</td>\n",
       "      <td>2016-12-15</td>\n",
       "      <td>2016-11-08</td>\n",
       "      <td>2016-12-09</td>\n",
       "      <td>2016-11-08</td>\n",
       "      <td>2016-12-12</td>\n",
       "      <td>2-High</td>\n",
       "      <td>2016-12-15</td>\n",
       "    </tr>\n",
       "    <tr>\n",
       "      <th>11014798</th>\n",
       "      <td>SO</td>\n",
       "      <td>job description 4</td>\n",
       "      <td>40525236</td>\n",
       "      <td>x4</td>\n",
       "      <td>2016-12-01</td>\n",
       "      <td>2016-12-01</td>\n",
       "      <td>2018-07-04</td>\n",
       "      <td>2016-12-01</td>\n",
       "      <td>NaT</td>\n",
       "      <td>2016-12-01</td>\n",
       "      <td>2017-12-15</td>\n",
       "      <td>3-Medium</td>\n",
       "      <td>2018-07-04</td>\n",
       "    </tr>\n",
       "  </tbody>\n",
       "</table>\n",
       "</div>"
      ],
      "text/plain": [
       "             Notifictn type        Description     Order Functional Loc.  \\\n",
       "Notification                                                               \n",
       "10336908                 SO  job description 1  40085158              x2   \n",
       "10735688                 SO  job description 2  40348131              x3   \n",
       "10979795                 M1  job description 3  40506403         x1_1591   \n",
       "11014798                 SO  job description 4  40525236              x4   \n",
       "\n",
       "             Created On Notif.date Reference date Malfunct. start  \\\n",
       "Notification                                                        \n",
       "10336908     2015-01-21 2015-01-21     2017-02-14      2015-01-21   \n",
       "10735688     2016-04-14 2016-04-14     2017-02-14      2016-04-14   \n",
       "10979795     2016-11-08 2016-11-08     2016-12-15      2016-11-08   \n",
       "11014798     2016-12-01 2016-12-01     2018-07-04      2016-12-01   \n",
       "\n",
       "             Malfunct.end Req. start Required End  Priority Completn date  \n",
       "Notification                                                               \n",
       "10336908              NaT 2015-01-21   2015-08-28  3-Medium    2017-02-14  \n",
       "10735688              NaT 2016-04-14          NaT  3-Medium    2017-02-14  \n",
       "10979795       2016-12-09 2016-11-08   2016-12-12    2-High    2016-12-15  \n",
       "11014798              NaT 2016-12-01   2017-12-15  3-Medium    2018-07-04  "
      ]
     },
     "execution_count": 2,
     "metadata": {},
     "output_type": "execute_result"
    }
   ],
   "source": [
    "#read a file\n",
    "#df = pd.read_excel(\"C:/Users/Admin/Pythonprojects/RAMS/data/CMMS_demodata.xlsx\", index_col=0, header=0)   #for those who want to load a file from disk\n",
    "df = pd.read_excel('https://raw.githubusercontent.com/chrisrijsdijk/RAMS/master/data/CMMS_demodata.xlsx', index_col=0, header=0) \n",
    "#dfcmms = pd.to_datetime([\"2015-01-21\",\"2016-04-14\",\"2016-11-08\",\"2016-12-01\"])\n",
    "dfcmms = pd.DataFrame(df,columns=[\"Notif.date\"])\n",
    "df"
   ]
  },
  {
   "cell_type": "code",
   "execution_count": 3,
   "metadata": {},
   "outputs": [
    {
     "data": {
      "text/plain": [
       "Notification\n",
       "10336908    20 days\n",
       "10735688   469 days\n",
       "10979795   677 days\n",
       "11014798   700 days\n",
       "Name: arrival, dtype: timedelta64[ns]"
      ]
     },
     "execution_count": 3,
     "metadata": {},
     "output_type": "execute_result"
    }
   ],
   "source": [
    "# assess the arrival times\n",
    "# the start/stop time of observing equal the first/last arrival by default, but they may be overruled manually\n",
    "\n",
    "start = dfcmms[\"Notif.date\"].min()      #default\n",
    "start = pd.to_datetime(\"2015-01-01\")    #manual overrule\n",
    "\n",
    "stop = dfcmms[\"Notif.date\"].max()       #default\n",
    "stop = pd.to_datetime(\"2017-01-01\")     #manual overrule\n",
    "\n",
    "dfcmms[\"arrival\"]=dfcmms[\"Notif.date\"]-start\n",
    "dfcmms[\"arrival\"]"
   ]
  },
  {
   "cell_type": "code",
   "execution_count": 4,
   "metadata": {},
   "outputs": [
    {
     "name": "stdout",
     "output_type": "stream",
     "text": [
      "[0, 20, 469, 677, 700]\n",
      "[0, 1, 2, 3, 4]\n"
     ]
    }
   ],
   "source": [
    "# create a list of the arrivals times and counts\n",
    "\n",
    "if (start == dfcmms[\"Notif.date\"].min()):\n",
    "    a_times = list(dfcmms[\"arrival\"].dt.days)\n",
    "    \n",
    "    \n",
    "else:\n",
    "    a_times = list(dfcmms[\"arrival\"].dt.days) + [0]\n",
    "    \n",
    "\n",
    "a_times.sort()\n",
    "print(a_times)\n",
    "\n",
    "a_count = list(range(len(a_times)))\n",
    "print(a_count)"
   ]
  },
  {
   "cell_type": "code",
   "execution_count": 5,
   "metadata": {},
   "outputs": [
    {
     "name": "stdout",
     "output_type": "stream",
     "text": [
      "mle MTTF: 182.75\n",
      "ols MTTF: 201.88115391259285\n"
     ]
    }
   ],
   "source": [
    "#estimate the MLE Poisson parameter\n",
    "\n",
    "poismle = max(a_count)/(stop-start).days\n",
    "print(\"mle MTTF: \"+str(+1/poismle))\n",
    "\n",
    "\n",
    "#eventually the experiment could be extended with an OLS estimation...\n",
    "\n",
    "poisols = sum([i*j for (i, j) in zip(a_times, a_count)])/sum([i*j for (i, j) in zip(a_times, a_times)])\n",
    "print(\"ols MTTF: \"+str(+1/poisols))\n",
    "\n",
    "\n",
    "pois = poismle"
   ]
  },
  {
   "cell_type": "code",
   "execution_count": 7,
   "metadata": {},
   "outputs": [
    {
     "data": {
      "text/plain": [
       "<matplotlib.legend.Legend at 0x1391893c820>"
      ]
     },
     "execution_count": 7,
     "metadata": {},
     "output_type": "execute_result"
    },
    {
     "data": {
      "image/png": "[encoded data removed]",
      "text/plain": [
       "<Figure size 432x288 with 1 Axes>"
      ]
     },
     "metadata": {
      "needs_background": "light"
     },
     "output_type": "display_data"
    }
   ],
   "source": [
    "\n",
    "fig = plt.figure()\n",
    "ax1 = fig.add_subplot(1,1,1) # one row, one column, first plot\n",
    "\n",
    "line, = ax1.step(a_times+[(stop-start).days],\n",
    "         a_count+[max(a_count)],\n",
    "         where=\"post\",\n",
    "        label=\"observed arrivals\",\n",
    "        color=\"red\")\n",
    "\n",
    "line, = ax1.plot(a_times+[(stop-start).days],\n",
    "              [i * pois for i in a_times+[(stop-start).days]],\n",
    "                label=\"Poisson parameter\"+\" 1/\"+str(round(+1/pois,1))+\" days -1\",\n",
    "                color=\"black\",\n",
    "                linestyle=\"dashed\")\n",
    "\n",
    "line, = ax1.plot(np.arange(0,(stop-start).days),\n",
    "               poisson.ppf(0.025,np.arange(0,(stop-start).days)*pois),\n",
    "                label=\"95% acceptance region\",\n",
    "                color=\"black\",\n",
    "                linestyle=\"dotted\")\n",
    "\n",
    "line, = ax1.plot(np.arange(0,(stop-start).days),\n",
    "               poisson.ppf(0.975,np.arange(0,(stop-start).days)*pois),\n",
    "                color=\"black\",\n",
    "                linestyle=\"dotted\")\n",
    "\n",
    "xtext = ax1.set_xlabel('time in days') # returns a Text instance\n",
    "ytext = ax1.set_ylabel('arrivals')\n",
    "\n",
    "plt.legend(title='Legend')\n",
    "#plt.savefig(\"C:/Users/Chris/Pythonprojects/RAMS/figures/PoissonPlot01.png\")\n",
    "#plt.show()\n",
    "\n"
   ]
  },
  {
   "cell_type": "code",
   "execution_count": null,
   "metadata": {},
   "outputs": [],
   "source": []
  }
 ],
 "metadata": {
  "kernelspec": {
   "display_name": "Python 3",
   "language": "python",
   "name": "python3"
  },
  "language_info": {
   "codemirror_mode": {
    "name": "ipython",
    "version": 3
   },
   "file_extension": ".py",
   "mimetype": "text/x-python",
   "name": "python",
   "nbconvert_exporter": "python",
   "pygments_lexer": "ipython3",
   "version": "3.8.8"
  }
 },
 "nbformat": 4,
 "nbformat_minor": 4
}
