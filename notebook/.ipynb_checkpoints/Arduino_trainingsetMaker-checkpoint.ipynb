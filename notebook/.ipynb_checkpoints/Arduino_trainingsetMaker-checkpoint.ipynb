{
 "cells": [
  {
   "cell_type": "code",
   "execution_count": 1,
   "id": "2ff4f613-ccb4-40f5-9799-f53fec60bd15",
   "metadata": {},
   "outputs": [],
   "source": [
    "import serial\n",
    "import time\n",
    "import keyboard\n",
    "\n",
    "import pandas as pd\n",
    "import numpy as np\n",
    "#import matplotlib.pyplot as plt"
   ]
  },
  {
   "cell_type": "code",
   "execution_count": 2,
   "id": "30365d71-13e1-44e6-bc62-fd24fd6c1296",
   "metadata": {},
   "outputs": [],
   "source": [
    "# connect with Arduino\n",
    "\n",
    "ser = serial.Serial('COM3', 9600, timeout=1)\n",
    "time.sleep(1)"
   ]
  },
  {
   "cell_type": "code",
   "execution_count": 3,
   "id": "bf1eb505-9ec4-43ac-addc-204b738ebd6b",
   "metadata": {},
   "outputs": [],
   "source": [
    "# read write the serial connection at a given sampling rate\n",
    "\n",
    "def write_read(x):\n",
    "    ser.write(bytes(x, 'utf-8'))\n",
    "    time.sleep(0.05)\n",
    "    data = ser.readline()\n",
    "    return data"
   ]
  },
  {
   "cell_type": "code",
   "execution_count": 4,
   "id": "7eb154f1-3041-4609-a9ed-ce4a402ef59e",
   "metadata": {
    "jp-MarkdownHeadingCollapsed": true,
    "tags": []
   },
   "outputs": [
    {
     "name": "stdout",
     "output_type": "stream",
     "text": [
      "Press <1> to switch power on\n",
      "Press <0> to switch power off\n",
      "Press <q> to quit\n",
      ".............................\n",
      "2022-07-27 13:54:31.349939200 ['power_on', '955', '557', '0'] [4.66308594 2.71972656 0.        ]             ['power_on', '956', '557', '0'] [4.66796875 2.71972656 0.        ]             \n",
      "You Pressed <q>uit!\n"
     ]
    }
   ],
   "source": [
    "# start to control the Arduino while collecting the data\n",
    "\n",
    "values=[]\n",
    "timestamp=[]\n",
    "i= True\n",
    "num = '0'\n",
    "print(\"Press <1> to switch power on\")\n",
    "print(\"Press <0> to switch power off\")\n",
    "print(\"Press <q> to quit\")\n",
    "print(\".............................\")\n",
    "\n",
    "while i:  # making a loop\n",
    "    \n",
    "    if keyboard.is_pressed('q'):  # if key 'q' is pressed \n",
    "        print('')\n",
    "        print('You Pressed <q>uit!')\n",
    "        i = False                 # finishing the loop\n",
    "        \n",
    "    elif keyboard.is_pressed('0'): # if key '0' is pressed\n",
    "        num = '0'\n",
    "        \n",
    "    elif keyboard.is_pressed('1'): # if key '1' is pressed\n",
    "        num = '1'\n",
    "        \n",
    "    else:\n",
    "        value = write_read(num)  # if user pressed a key other than the given key the loop will break\n",
    "        timestamp.append(time.time())\n",
    "        dummy = value.decode().rstrip().split()\n",
    "        dum0 = np.array([[int(j)/1024*5 for j in dummy[1:]]])\n",
    "        print(pd.to_datetime(time.time(), unit= 's'),dummy, dum0[0], '            ', end = \"\\r\")\n",
    "        values.append(dummy)\n",
    "\n",
    "ser.close()"
   ]
  },
  {
   "cell_type": "markdown",
   "id": "0b1bf868-8efc-4a60-9d02-99d8a273d14c",
   "metadata": {
    "tags": []
   },
   "source": [
    "# "
   ]
  },
  {
   "cell_type": "code",
   "execution_count": 5,
   "id": "11cebe1b-4a8d-4ad7-88a2-4de9324521cd",
   "metadata": {},
   "outputs": [
    {
     "data": {
      "text/html": [
       "<div>\n",
       "<style scoped>\n",
       "    .dataframe tbody tr th:only-of-type {\n",
       "        vertical-align: middle;\n",
       "    }\n",
       "\n",
       "    .dataframe tbody tr th {\n",
       "        vertical-align: top;\n",
       "    }\n",
       "\n",
       "    .dataframe thead th {\n",
       "        text-align: right;\n",
       "    }\n",
       "</style>\n",
       "<table border=\"1\" class=\"dataframe\">\n",
       "  <thead>\n",
       "    <tr style=\"text-align: right;\">\n",
       "      <th></th>\n",
       "      <th>VoltageA0</th>\n",
       "      <th>VoltageA1</th>\n",
       "      <th>VoltageA2</th>\n",
       "    </tr>\n",
       "  </thead>\n",
       "  <tbody>\n",
       "    <tr>\n",
       "      <th>count</th>\n",
       "      <td>1417.000000</td>\n",
       "      <td>1417.000000</td>\n",
       "      <td>1417.0</td>\n",
       "    </tr>\n",
       "    <tr>\n",
       "      <th>mean</th>\n",
       "      <td>4.300876</td>\n",
       "      <td>2.505389</td>\n",
       "      <td>0.0</td>\n",
       "    </tr>\n",
       "    <tr>\n",
       "      <th>std</th>\n",
       "      <td>1.254290</td>\n",
       "      <td>0.730681</td>\n",
       "      <td>0.0</td>\n",
       "    </tr>\n",
       "    <tr>\n",
       "      <th>min</th>\n",
       "      <td>0.000000</td>\n",
       "      <td>0.000000</td>\n",
       "      <td>0.0</td>\n",
       "    </tr>\n",
       "    <tr>\n",
       "      <th>25%</th>\n",
       "      <td>4.663086</td>\n",
       "      <td>2.714844</td>\n",
       "      <td>0.0</td>\n",
       "    </tr>\n",
       "    <tr>\n",
       "      <th>50%</th>\n",
       "      <td>4.667969</td>\n",
       "      <td>2.719727</td>\n",
       "      <td>0.0</td>\n",
       "    </tr>\n",
       "    <tr>\n",
       "      <th>75%</th>\n",
       "      <td>4.667969</td>\n",
       "      <td>2.719727</td>\n",
       "      <td>0.0</td>\n",
       "    </tr>\n",
       "    <tr>\n",
       "      <th>max</th>\n",
       "      <td>4.672852</td>\n",
       "      <td>2.724609</td>\n",
       "      <td>0.0</td>\n",
       "    </tr>\n",
       "  </tbody>\n",
       "</table>\n",
       "</div>"
      ],
      "text/plain": [
       "         VoltageA0    VoltageA1  VoltageA2\n",
       "count  1417.000000  1417.000000     1417.0\n",
       "mean      4.300876     2.505389        0.0\n",
       "std       1.254290     0.730681        0.0\n",
       "min       0.000000     0.000000        0.0\n",
       "25%       4.663086     2.714844        0.0\n",
       "50%       4.667969     2.719727        0.0\n",
       "75%       4.667969     2.719727        0.0\n",
       "max       4.672852     2.724609        0.0"
      ]
     },
     "execution_count": 5,
     "metadata": {},
     "output_type": "execute_result"
    }
   ],
   "source": [
    "timestamp[len(timestamp)-1]-timestamp[0]\n",
    "df = pd.DataFrame(values, index = pd.to_datetime(timestamp, unit = 's'), columns = ['systemState','VoltageA0','VoltageA1','VoltageA2'])\n",
    "df[\"VoltageA0\"] = pd.to_numeric(df[\"VoltageA0\"], errors='coerce', downcast=\"float\")\n",
    "df[\"VoltageA1\"] = pd.to_numeric(df[\"VoltageA1\"], errors='coerce', downcast=\"float\")\n",
    "df[\"VoltageA2\"] = pd.to_numeric(df[\"VoltageA2\"], errors='coerce', downcast=\"float\")\n",
    "\n",
    "df[\"VoltageA0\"] = df[\"VoltageA0\"]/1024*5\n",
    "df[\"VoltageA1\"] = df[\"VoltageA1\"]/1024*5\n",
    "df[\"VoltageA2\"] = df[\"VoltageA2\"]/1024*5\n",
    "df.describe()"
   ]
  },
  {
   "cell_type": "code",
   "execution_count": 6,
   "id": "c2a72641-bf31-4e3d-86b6-2b6abbc9ee66",
   "metadata": {},
   "outputs": [],
   "source": [
    "#df.to_excel(\"C:/Users/Admin/Pythonprojects/RAMS/data/Arduino_trainingset_deploymentNormalopen.xlsx\")"
   ]
  },
  {
   "cell_type": "code",
   "execution_count": 7,
   "id": "7288a8b6-c5f9-42d8-a184-5050b6cc719e",
   "metadata": {},
   "outputs": [
    {
     "data": {
      "text/plain": [
       "'power_on'"
      ]
     },
     "execution_count": 7,
     "metadata": {},
     "output_type": "execute_result"
    }
   ],
   "source": [
    "dummy[0]"
   ]
  },
  {
   "cell_type": "markdown",
   "id": "6570c8ae-444c-4629-86a9-6b32174176e6",
   "metadata": {},
   "source": [
    "# "
   ]
  }
 ],
 "metadata": {
  "kernelspec": {
   "display_name": "Python 3",
   "language": "python",
   "name": "python3"
  },
  "language_info": {
   "codemirror_mode": {
    "name": "ipython",
    "version": 3
   },
   "file_extension": ".py",
   "mimetype": "text/x-python",
   "name": "python",
   "nbconvert_exporter": "python",
   "pygments_lexer": "ipython3",
   "version": "3.8.8"
  }
 },
 "nbformat": 4,
 "nbformat_minor": 5
}
