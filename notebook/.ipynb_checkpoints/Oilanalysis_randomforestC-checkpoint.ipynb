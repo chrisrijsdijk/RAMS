{
 "cells": [
  {
   "cell_type": "code",
   "execution_count": 1,
   "metadata": {},
   "outputs": [],
   "source": [
    "import pandas as pd\n",
    "import numpy as np\n",
    "import matplotlib.pyplot as plt"
   ]
  },
  {
   "cell_type": "code",
   "execution_count": 2,
   "metadata": {},
   "outputs": [],
   "source": [
    "#load some data in a pandas dataframe\n",
    "\n",
    "df = None\n",
    "#df = pd.read_csv(\"C:/Users/.../Oilanalysis.csv\") #for those who would like to work from a local drive\n",
    "df = pd.read_csv(\"https://raw.githubusercontent.com/chrisrijsdijk/RAMS/master/data/Oilanalysis.csv\", sep=\";\")"
   ]
  },
  {
   "cell_type": "code",
   "execution_count": 3,
   "metadata": {},
   "outputs": [
    {
     "data": {
      "text/plain": [
       "Age                 object\n",
       "BRSTVD             float64\n",
       "ISO 4406 large     float64\n",
       "ISO 4406 medium    float64\n",
       "ISO 4406 small     float64\n",
       "LNF-ROET           float64\n",
       "LNF-CUT            float64\n",
       "LNF-FIB            float64\n",
       "LNF-FW             float64\n",
       "LNF-NMW            float64\n",
       "LNF-SSW            float64\n",
       "LNF-UNC            float64\n",
       "P                    int64\n",
       "V                    int64\n",
       "AL                   int64\n",
       "BA                   int64\n",
       "CA                   int64\n",
       "CR                   int64\n",
       "CU                   int64\n",
       "FE                   int64\n",
       "MG                   int64\n",
       "MN                   int64\n",
       "NA                   int64\n",
       "NI                   int64\n",
       "PB                   int64\n",
       "SI                   int64\n",
       "SN                   int64\n",
       "ZN                   int64\n",
       "LI                   int64\n",
       "TAN                float64\n",
       "TBN                float64\n",
       "VIS40              float64\n",
       "VIS99              float64\n",
       "VLAMCC             float64\n",
       "WATER              float64\n",
       "dtype: object"
      ]
     },
     "execution_count": 3,
     "metadata": {},
     "output_type": "execute_result"
    }
   ],
   "source": [
    "# check the datatypes in the dataframe to verify that all columns except for \"Age\" are numerical\n",
    "\n",
    "df.dtypes"
   ]
  },
  {
   "cell_type": "code",
   "execution_count": 4,
   "metadata": {},
   "outputs": [],
   "source": [
    "# get a preview on the data\n",
    "\n",
    "#df.head(3)\n",
    "#df.describe()\n",
    "#len(df[\"BRSTVD\"])"
   ]
  },
  {
   "cell_type": "code",
   "execution_count": 5,
   "metadata": {},
   "outputs": [],
   "source": [
    "# plot histograms of the data in the dataframe\n",
    "# causal effects of the columns that just contain one value remain invisible \"ceteris paribus\"\n",
    "# check for outliers and explain them eventually\n",
    "\n",
    "#for col in df.columns: \n",
    "#    try:      \n",
    "#        df[col] = pd.to_numeric(df[col]) \n",
    "#        df.hist(column=col)\n",
    "#    except ValueError:\n",
    "#        print(\"The column \"+col+' can not be represented as a histogram')"
   ]
  },
  {
   "cell_type": "code",
   "execution_count": 6,
   "metadata": {},
   "outputs": [],
   "source": [
    "#create a correlation matrix to check for pairwise linear dependencies among the columns\n",
    "\n",
    "#dummy=df.iloc[:,1:]    #remove the \"Age\" column that is not numerical\n",
    "#dummy.corr(min_periods=15)\n",
    "#plt.matshow(dummy.corr(min_periods=15))\n",
    "#plt.show()\n",
    "#print(dummy.columns)\n",
    "\n",
    "#del dummy"
   ]
  },
  {
   "cell_type": "code",
   "execution_count": 7,
   "metadata": {},
   "outputs": [],
   "source": [
    "# convert categorical variables into indicator functions\n",
    "\n",
    "df = pd.get_dummies(df,columns=[\"Age\"])\n",
    "#df\n"
   ]
  },
  {
   "cell_type": "code",
   "execution_count": 8,
   "metadata": {},
   "outputs": [],
   "source": [
    "# define the response variable and convert it into an np.array\n",
    "\n",
    "y=np.array(df[\"Age_After 1 year\"])\n"
   ]
  },
  {
   "cell_type": "code",
   "execution_count": 9,
   "metadata": {},
   "outputs": [],
   "source": [
    "#perform k-means clustering to check for nonlinear dependencies among the df columns\n",
    "\n",
    "from sklearn.impute import KNNImputer\n",
    "from sklearn.model_selection import train_test_split\n",
    "from sklearn.ensemble import RandomForestClassifier\n",
    "from sklearn import tree\n",
    "#from sklearn.tree import DecisionTreeClassifier\n"
   ]
  },
  {
   "cell_type": "code",
   "execution_count": 10,
   "metadata": {},
   "outputs": [],
   "source": [
    "# define the explanatory variables\n",
    "\n",
    "X=df.iloc[:,:34]\n",
    "X_names=df.iloc[:,:34].columns\n"
   ]
  },
  {
   "cell_type": "code",
   "execution_count": 11,
   "metadata": {},
   "outputs": [],
   "source": [
    "# impute data in case of NaN's by using K nearest neighbour\n",
    "\n",
    "imputer = KNNImputer(n_neighbors=20, weights=\"distance\")\n",
    "X=imputer.fit_transform(X)\n"
   ]
  },
  {
   "cell_type": "code",
   "execution_count": 51,
   "metadata": {},
   "outputs": [],
   "source": [
    "# create a training set and a validation set\n",
    "\n",
    "X_train, X_test, y_train, y_test = train_test_split(X, y, test_size = 0.25, random_state = None, stratify=y)\n",
    "\n",
    "#print('X_train Shape:', X_train.shape)\n",
    "#print('y_train Shape:', y_train.shape)\n",
    "#print('X_test Shape:', X_test.shape)\n",
    "#print('Y_test Shape:', y_test.shape)\n"
   ]
  },
  {
   "cell_type": "code",
   "execution_count": 52,
   "metadata": {},
   "outputs": [
    {
     "data": {
      "text/plain": [
       "RandomForestClassifier(n_estimators=5000)"
      ]
     },
     "execution_count": 52,
     "metadata": {},
     "output_type": "execute_result"
    }
   ],
   "source": [
    "# Instantiate model with 1000 decision trees\n",
    "\n",
    "rf = RandomForestClassifier(n_estimators = 5000, criterion=\"gini\",random_state = None)\n",
    "\n",
    "# Train the model on training data\n",
    "\n",
    "rf.fit(X_train, y_train)\n"
   ]
  },
  {
   "cell_type": "code",
   "execution_count": 53,
   "metadata": {},
   "outputs": [],
   "source": [
    "# validate the random forest using the test set\n",
    "\n",
    "predictions = rf.predict(X_test)\n"
   ]
  },
  {
   "cell_type": "code",
   "execution_count": 54,
   "metadata": {},
   "outputs": [
    {
     "data": {
      "image/png": "[encoded data removed]",
      "text/plain": [
       "<Figure size 1152x216 with 1 Axes>"
      ]
     },
     "metadata": {
      "needs_background": "light"
     },
     "output_type": "display_data"
    }
   ],
   "source": [
    "# plot the result of the validation\n",
    "\n",
    "plt.figure(figsize=(16,3))\n",
    "plt.plot(range(len(predictions)), predictions, '-', label=\"Predicted labels\", color=\"red\")\n",
    "plt.plot(range(len(y_test)), y_test, 'x', label=\"Observed labels\",color=\"black\")\n",
    "plt.xlabel('number of samples in the validation set')\n",
    "plt.ylabel('Indicator of \"Age > 1 year\"')\n",
    "plt.legend()\n",
    "plt.show()\n"
   ]
  },
  {
   "cell_type": "code",
   "execution_count": 55,
   "metadata": {},
   "outputs": [],
   "source": [
    "# depict a tree from the forest\n",
    "\n",
    "#plt.figure(figsize=(10,10))\n",
    "#clf = rf.estimators_[5]\n",
    "#tree.plot_tree(clf,feature_names=X_names, filled=True)\n"
   ]
  },
  {
   "cell_type": "code",
   "execution_count": 56,
   "metadata": {},
   "outputs": [
    {
     "data": {
      "text/html": [
       "<div>\n",
       "<style scoped>\n",
       "    .dataframe tbody tr th:only-of-type {\n",
       "        vertical-align: middle;\n",
       "    }\n",
       "\n",
       "    .dataframe tbody tr th {\n",
       "        vertical-align: top;\n",
       "    }\n",
       "\n",
       "    .dataframe thead th {\n",
       "        text-align: right;\n",
       "    }\n",
       "</style>\n",
       "<table border=\"1\" class=\"dataframe\">\n",
       "  <thead>\n",
       "    <tr style=\"text-align: right;\">\n",
       "      <th></th>\n",
       "      <th>0</th>\n",
       "    </tr>\n",
       "  </thead>\n",
       "  <tbody>\n",
       "    <tr>\n",
       "      <th>CU</th>\n",
       "      <td>2.244810e-01</td>\n",
       "    </tr>\n",
       "    <tr>\n",
       "      <th>FE</th>\n",
       "      <td>9.556239e-02</td>\n",
       "    </tr>\n",
       "    <tr>\n",
       "      <th>VIS40</th>\n",
       "      <td>7.206340e-02</td>\n",
       "    </tr>\n",
       "    <tr>\n",
       "      <th>ISO 4406 large</th>\n",
       "      <td>6.953566e-02</td>\n",
       "    </tr>\n",
       "    <tr>\n",
       "      <th>BRSTVD</th>\n",
       "      <td>6.820062e-02</td>\n",
       "    </tr>\n",
       "    <tr>\n",
       "      <th>WATER</th>\n",
       "      <td>6.671420e-02</td>\n",
       "    </tr>\n",
       "    <tr>\n",
       "      <th>VIS99</th>\n",
       "      <td>5.821862e-02</td>\n",
       "    </tr>\n",
       "    <tr>\n",
       "      <th>LNF-ROET</th>\n",
       "      <td>3.585743e-02</td>\n",
       "    </tr>\n",
       "    <tr>\n",
       "      <th>TBN</th>\n",
       "      <td>3.448114e-02</td>\n",
       "    </tr>\n",
       "    <tr>\n",
       "      <th>VLAMCC</th>\n",
       "      <td>2.744312e-02</td>\n",
       "    </tr>\n",
       "    <tr>\n",
       "      <th>P</th>\n",
       "      <td>2.639623e-02</td>\n",
       "    </tr>\n",
       "    <tr>\n",
       "      <th>MG</th>\n",
       "      <td>2.571192e-02</td>\n",
       "    </tr>\n",
       "    <tr>\n",
       "      <th>SI</th>\n",
       "      <td>2.478345e-02</td>\n",
       "    </tr>\n",
       "    <tr>\n",
       "      <th>TAN</th>\n",
       "      <td>2.437379e-02</td>\n",
       "    </tr>\n",
       "    <tr>\n",
       "      <th>ISO 4406 small</th>\n",
       "      <td>2.131252e-02</td>\n",
       "    </tr>\n",
       "    <tr>\n",
       "      <th>LNF-NMW</th>\n",
       "      <td>2.092113e-02</td>\n",
       "    </tr>\n",
       "    <tr>\n",
       "      <th>CA</th>\n",
       "      <td>1.911599e-02</td>\n",
       "    </tr>\n",
       "    <tr>\n",
       "      <th>LNF-FW</th>\n",
       "      <td>1.749532e-02</td>\n",
       "    </tr>\n",
       "    <tr>\n",
       "      <th>ISO 4406 medium</th>\n",
       "      <td>1.698850e-02</td>\n",
       "    </tr>\n",
       "    <tr>\n",
       "      <th>LNF-SSW</th>\n",
       "      <td>1.461642e-02</td>\n",
       "    </tr>\n",
       "    <tr>\n",
       "      <th>LNF-CUT</th>\n",
       "      <td>1.362491e-02</td>\n",
       "    </tr>\n",
       "    <tr>\n",
       "      <th>LNF-UNC</th>\n",
       "      <td>1.104907e-02</td>\n",
       "    </tr>\n",
       "    <tr>\n",
       "      <th>ZN</th>\n",
       "      <td>7.926212e-03</td>\n",
       "    </tr>\n",
       "    <tr>\n",
       "      <th>PB</th>\n",
       "      <td>1.368623e-03</td>\n",
       "    </tr>\n",
       "    <tr>\n",
       "      <th>LNF-FIB</th>\n",
       "      <td>1.253583e-03</td>\n",
       "    </tr>\n",
       "    <tr>\n",
       "      <th>NA</th>\n",
       "      <td>1.888845e-04</td>\n",
       "    </tr>\n",
       "    <tr>\n",
       "      <th>BA</th>\n",
       "      <td>1.333747e-04</td>\n",
       "    </tr>\n",
       "    <tr>\n",
       "      <th>AL</th>\n",
       "      <td>8.006419e-05</td>\n",
       "    </tr>\n",
       "    <tr>\n",
       "      <th>CR</th>\n",
       "      <td>5.262353e-05</td>\n",
       "    </tr>\n",
       "    <tr>\n",
       "      <th>SN</th>\n",
       "      <td>4.974734e-05</td>\n",
       "    </tr>\n",
       "    <tr>\n",
       "      <th>MN</th>\n",
       "      <td>5.879499e-08</td>\n",
       "    </tr>\n",
       "    <tr>\n",
       "      <th>NI</th>\n",
       "      <td>0.000000e+00</td>\n",
       "    </tr>\n",
       "    <tr>\n",
       "      <th>LI</th>\n",
       "      <td>0.000000e+00</td>\n",
       "    </tr>\n",
       "    <tr>\n",
       "      <th>V</th>\n",
       "      <td>0.000000e+00</td>\n",
       "    </tr>\n",
       "  </tbody>\n",
       "</table>\n",
       "</div>"
      ],
      "text/plain": [
       "                            0\n",
       "CU               2.244810e-01\n",
       "FE               9.556239e-02\n",
       "VIS40            7.206340e-02\n",
       "ISO 4406 large   6.953566e-02\n",
       "BRSTVD           6.820062e-02\n",
       "WATER            6.671420e-02\n",
       "VIS99            5.821862e-02\n",
       "LNF-ROET         3.585743e-02\n",
       "TBN              3.448114e-02\n",
       "VLAMCC           2.744312e-02\n",
       "P                2.639623e-02\n",
       "MG               2.571192e-02\n",
       "SI               2.478345e-02\n",
       "TAN              2.437379e-02\n",
       "ISO 4406 small   2.131252e-02\n",
       "LNF-NMW          2.092113e-02\n",
       "CA               1.911599e-02\n",
       "LNF-FW           1.749532e-02\n",
       "ISO 4406 medium  1.698850e-02\n",
       "LNF-SSW          1.461642e-02\n",
       "LNF-CUT          1.362491e-02\n",
       "LNF-UNC          1.104907e-02\n",
       "ZN               7.926212e-03\n",
       "PB               1.368623e-03\n",
       "LNF-FIB          1.253583e-03\n",
       "NA               1.888845e-04\n",
       "BA               1.333747e-04\n",
       "AL               8.006419e-05\n",
       "CR               5.262353e-05\n",
       "SN               4.974734e-05\n",
       "MN               5.879499e-08\n",
       "NI               0.000000e+00\n",
       "LI               0.000000e+00\n",
       "V                0.000000e+00"
      ]
     },
     "execution_count": 56,
     "metadata": {},
     "output_type": "execute_result"
    }
   ],
   "source": [
    "#plot the importance of the various explanatory variables\n",
    "\n",
    "pd.DataFrame(rf.feature_importances_,index=X_names).sort_values(0,ascending=False)\n"
   ]
  },
  {
   "cell_type": "code",
   "execution_count": null,
   "metadata": {},
   "outputs": [],
   "source": []
  },
  {
   "cell_type": "code",
   "execution_count": null,
   "metadata": {},
   "outputs": [],
   "source": []
  }
 ],
 "metadata": {
  "kernelspec": {
   "display_name": "Python 3",
   "language": "python",
   "name": "python3"
  },
  "language_info": {
   "codemirror_mode": {
    "name": "ipython",
    "version": 3
   },
   "file_extension": ".py",
   "mimetype": "text/x-python",
   "name": "python",
   "nbconvert_exporter": "python",
   "pygments_lexer": "ipython3",
   "version": "3.7.6"
  },
  "toc-autonumbering": false,
  "toc-showcode": true,
  "toc-showmarkdowntxt": true
 },
 "nbformat": 4,
 "nbformat_minor": 4
}
