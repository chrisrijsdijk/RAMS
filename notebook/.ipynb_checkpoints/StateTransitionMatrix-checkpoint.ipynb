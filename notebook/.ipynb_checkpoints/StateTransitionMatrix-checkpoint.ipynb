{
 "cells": [
  {
   "cell_type": "code",
   "execution_count": 21,
   "metadata": {},
   "outputs": [],
   "source": [
    "#import some libraries\n",
    "\n",
    "import numpy as np\n",
    "import pandas as pd\n",
    "import matplotlib.pyplot as plt"
   ]
  },
  {
   "cell_type": "code",
   "execution_count": 38,
   "metadata": {},
   "outputs": [],
   "source": [
    "#this sample represents the evolution of the system states in time\n",
    "\n",
    "#this sample represents a non repairable system, i.e. it assesses reliability\n",
    "#sample =[\"up\",\"up\",\"up\",\"up\",\"down\",\"down\"]\n",
    "\n",
    "#this sample represents a repairable system, i.e. it assesses availability \n",
    "sample =[\"up\",\"up\",\"up\",\"up\",\"down\",\"down\",\"up\"]\n",
    "\n",
    "#this sample represents a repairable system at a more refined time scale, i.e. it assesses availability \n",
    "sample =[\"up\",\"up\",\"up\",\"up\",\"up\",\"up\",\"up\",\"up\",\"up\",\"up\",\"up\",\"up\",\"up\",\"up\",\"up\",\"up\",\"down\",\"down\",\"down\",\"down\",\"down\",\"down\",\"down\",\"down\",\"up\"]\n",
    "\n",
    "#this sample represents a repairable multiple state system, i.e. it assesses availability of some configuration\n",
    "#sample =[\"up/up\",\"up/up\",\"up/down\",\"up/up\",\"down/up\",\"up/up\",\"up/down\",\"up/down\",\"down/down\",\"up/down\",\"down/down\",\"down/up\",\"down/down\",\"down/up\",\"down/up\",\"up/up\",\"up/up\",\"up/up\"]\n",
    "\n",
    "#this is an incomplete sample as the transitions from down/down have not been observed\n",
    "#sample =[\"up/up\",\"up/up\",\"up/down\",\"up/up\",\"down/up\",\"up/up\",\"up/down\",\"up/down\",\"up/down\",\"up/up\",\"down/up\",\"down/up\",\"down/down\"]\n",
    "\n",
    "#this sample represents a repairable multiple state system at a higher time resolution, i.e. it assesses availability of some configuration\n",
    "#sample =[\"up/up\",\"up/up\",\"up/up\",\"up/up\",\"up/up\",\"up/up\",\"up/up\",\"up/up\",\"up/up\",\"up/up\",\"up/up\",\"up/up\",\n",
    " #        \"up/down\",\"up/down\",\"up/down\",\"up/down\",\"up/down\",\"up/down\",\"up/up\",\"up/up\",\"up/up\",\"up/up\",\"up/up\",\"up/up\",\n",
    "  #       \"down/up\",\"down/up\",\"down/up\",\"down/up\",\"down/up\",\"down/up\",\"up/up\",\"up/up\",\"up/up\",\"up/up\",\"up/up\",\"up/up\",\n",
    "   #      \"up/down\",\"up/down\",\"up/down\",\"up/down\",\"up/down\",\"up/down\",\"up/down\",\"up/down\",\"up/down\",\"up/down\",\"up/down\",\"up/down\",\n",
    "    #     \"down/down\",\"down/down\",\"down/down\",\"down/down\",\"down/down\",\"down/down\",\"up/down\",\"up/down\",\"up/down\",\"up/down\",\"up/down\",\"up/down\",\n",
    "     #    \"down/down\",\"down/down\",\"down/down\",\"down/down\",\"down/down\",\"down/down\",\"down/up\",\"down/up\",\"down/up\",\"down/up\",\"down/up\",\"down/up\",\n",
    "      #   \"down/down\",\"down/down\",\"down/down\",\"down/down\",\"down/down\",\"down/down\",\"down/up\",\"down/up\",\"down/up\",\"down/up\",\"down/up\",\"down/up\",\"down/up\",\"down/up\",\"down/up\",\"down/up\",\"down/up\",\"down/up\",\n",
    "       #  \"up/up\",\"up/up\",\"up/up\",\"up/up\",\"up/up\",\"up/up\",\"up/up\",\"up/up\",\"up/up\",\"up/up\",\"up/up\",\"up/up\",\"up/up\",\"up/up\",\"up/up\",\"up/up\",\"up/up\",\"up/up\"]\n",
    "\n",
    "#print(\"survey of state transitions: \\n\",tuple(zip(sample,sample[1:])),\"\\n\")"
   ]
  },
  {
   "cell_type": "code",
   "execution_count": 39,
   "metadata": {},
   "outputs": [
    {
     "name": "stdout",
     "output_type": "stream",
     "text": [
      "survey of the unique states in the sample, sorted descending:  ['up', 'down']\n",
      "empty state transition matrix: \n",
      "       up  down\n",
      "up     0     0\n",
      "down   0     0\n"
     ]
    }
   ],
   "source": [
    "#define state transition matrix\n",
    "\n",
    "n=pd.DataFrame(sample)[0].unique()\n",
    "n=n.tolist()\n",
    "n.sort(reverse=True)\n",
    "print(\"survey of the unique states in the sample, sorted descending: \",n)\n",
    "\n",
    "tm=pd.DataFrame(0,columns=n,index=n)\n",
    "print(\"empty state transition matrix: \\n\",tm)"
   ]
  },
  {
   "cell_type": "code",
   "execution_count": 40,
   "metadata": {},
   "outputs": [
    {
     "name": "stdout",
     "output_type": "stream",
     "text": [
      "print the transition matrix, the proportions in each row sum up to one:\n",
      "           up    down\n",
      "up    0.9375  0.0625\n",
      "down  0.1250  0.8750\n"
     ]
    }
   ],
   "source": [
    "# load the state transition matrix \n",
    "\n",
    "for (i,j) in zip(sample,sample[1:]):\n",
    "    tm.loc[i,j] += 1\n",
    "    \n",
    "tm=tm.apply(lambda x: x/x.sum(), axis=\"columns\")\n",
    "\n",
    "print(\"print the transition matrix, the proportions in each row sum up to one:\\n\", tm)"
   ]
  },
  {
   "cell_type": "code",
   "execution_count": 41,
   "metadata": {},
   "outputs": [
    {
     "name": "stdout",
     "output_type": "stream",
     "text": [
      "check whether the values in this series add up to one:\n",
      " up      0\n",
      "down    1\n",
      "dtype: int64\n",
      "the evolution matrix, given the initial state and the state transition matrix:\n",
      "         down        up\n",
      "0   1.000000  0.000000\n",
      "1   0.875000  0.125000\n",
      "2   0.773438  0.226562\n",
      "3   0.690918  0.309082\n",
      "4   0.623871  0.376129\n",
      "5   0.569395  0.430605\n",
      "6   0.525133  0.474867\n",
      "7   0.489171  0.510829\n",
      "8   0.459951  0.540049\n",
      "9   0.436211  0.563789\n",
      "10  0.416921  0.583079\n",
      "11  0.401248  0.598752\n",
      "12  0.388514  0.611486\n",
      "13  0.378168  0.621832\n",
      "14  0.369761  0.630239\n",
      "15  0.362931  0.637069\n",
      "16  0.357382  0.642618\n",
      "17  0.352872  0.647128\n",
      "18  0.349209  0.650791\n",
      "19  0.346232  0.653768\n",
      "20  0.343814  0.656186\n",
      "21  0.341849  0.658151\n",
      "22  0.340252  0.659748\n",
      "23  0.338955  0.661045\n",
      "24  0.337901  0.662099\n",
      "25  0.337044  0.662956\n",
      "26  0.336349  0.663651\n",
      "27  0.335783  0.664217\n",
      "28  0.335324  0.664676\n",
      "29  0.334951  0.665049\n",
      "30  0.334647  0.665353\n",
      "31  0.334401  0.665599\n",
      "32  0.334201  0.665799\n",
      "33  0.334038  0.665962\n",
      "34  0.333906  0.666094\n",
      "35  0.333799  0.666201\n",
      "36  0.333711  0.666289\n",
      "37  0.333640  0.666360\n",
      "38  0.333583  0.666417\n",
      "39  0.333536  0.666464\n"
     ]
    }
   ],
   "source": [
    "#define the initial state of the system\n",
    "\n",
    "s = pd.Series(0,index=n)\n",
    "s[1]=1\n",
    "print(\"check whether the values in this series add up to one:\\n\",s)\n",
    "\n",
    "#calculate the evolution of the system states in time\n",
    "\n",
    "t=40 #define the time interval of interest\n",
    "\n",
    "em=pd.DataFrame()\n",
    "\n",
    "for i in range(t):\n",
    "    em=em.append(s,ignore_index=True)\n",
    "    s=tm.T.dot(s.T)\n",
    "    \n",
    "print(\"the evolution matrix, given the initial state and the state transition matrix:\\n\",em)\n"
   ]
  },
  {
   "cell_type": "code",
   "execution_count": 36,
   "metadata": {},
   "outputs": [],
   "source": [
    "#add a columns that defines the upstate of the system\n",
    "\n",
    "sem=em.copy()\n",
    "sem[\"up_system_1\"]=em.iloc[:,len(em.iloc[0,:])-1]\n",
    "sem[\"up_system_2\"]=1-em.iloc[:,0]\n",
    "\n",
    "#print(\"the evolution of the upstate by two definitions:\\n\",sem)"
   ]
  },
  {
   "cell_type": "code",
   "execution_count": 37,
   "metadata": {},
   "outputs": [
    {
     "data": {
      "image/png": "[encoded data removed]",
      "text/plain": [
       "<Figure size 432x288 with 1 Axes>"
      ]
     },
     "metadata": {
      "needs_background": "light"
     },
     "output_type": "display_data"
    }
   ],
   "source": [
    "#plot the system upstate in a graph\n",
    "\n",
    "fig = plt.figure()\n",
    "ax1 = fig.add_subplot(1,1,1) # one row, one column, first plot\n",
    "\n",
    "line, = ax1.step(sem.index,\n",
    "         sem[\"up_system_1\"],\n",
    "         where=\"post\",\n",
    "        label=\"up_system_1 definition\",\n",
    "        color=\"red\")\n",
    "\n",
    "line, = ax1.step(sem.index,\n",
    "         sem[\"up_system_2\"],\n",
    "         where=\"post\",\n",
    "        label=\"up_system_2 definition\",\n",
    "        color=\"black\",\n",
    "        linestyle=\"dashed\")\n",
    "\n",
    "ax1.set_ylim([0, 1.03])\n",
    "xtext = ax1.set_xlabel('time in steps') # returns a Text instance\n",
    "ytext = ax1.set_ylabel('probability of the system to be up')\n",
    "\n",
    "plt.legend(title='Legend')\n",
    "#plt.savefig(\"C:/Users/Chris/Pythonprojects/RAMS/figures/StateTransitionPlot01.png\")\n",
    "plt.show()"
   ]
  },
  {
   "cell_type": "code",
   "execution_count": null,
   "metadata": {},
   "outputs": [],
   "source": []
  }
 ],
 "metadata": {
  "kernelspec": {
   "display_name": "Python 3",
   "language": "python",
   "name": "python3"
  },
  "language_info": {
   "codemirror_mode": {
    "name": "ipython",
    "version": 3
   },
   "file_extension": ".py",
   "mimetype": "text/x-python",
   "name": "python",
   "nbconvert_exporter": "python",
   "pygments_lexer": "ipython3",
   "version": "3.7.6"
  }
 },
 "nbformat": 4,
 "nbformat_minor": 4
}
