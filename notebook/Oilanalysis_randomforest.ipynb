{
 "cells": [
  {
   "cell_type": "code",
   "execution_count": 9,
   "metadata": {},
   "outputs": [],
   "source": [
    "import pandas as pd\n",
    "import numpy as np\n",
    "import matplotlib.pyplot as plt"
   ]
  },
  {
   "cell_type": "code",
   "execution_count": 10,
   "metadata": {},
   "outputs": [],
   "source": [
    "#load some data in a pandas dataframe\n",
    "\n",
    "df = None\n",
    "#df = pd.read_csv(\"C:/Users/.../Oilanalysis.csv\") #for those who would like to work from a local drive\n",
    "df = pd.read_csv(\"https://raw.githubusercontent.com/chrisrijsdijk/RAMS/master/data/Oilanalysis.csv\", sep=\";\")"
   ]
  },
  {
   "cell_type": "code",
   "execution_count": 11,
   "metadata": {},
   "outputs": [],
   "source": [
    "# check the datatypes in the dataframe to verify that all columns except for \"Age\" are numerical\n",
    "\n",
    "#df.dtypes"
   ]
  },
  {
   "cell_type": "code",
   "execution_count": 12,
   "metadata": {},
   "outputs": [],
   "source": [
    "# get a preview on the data\n",
    "\n",
    "#df.head(3)\n",
    "#df.describe()\n",
    "#len(df[\"BRSTVD\"])"
   ]
  },
  {
   "cell_type": "code",
   "execution_count": 13,
   "metadata": {},
   "outputs": [],
   "source": [
    "# plot histograms of the data in the dataframe\n",
    "# causal effects of the columns that just contain one value remain invisible \"ceteris paribus\"\n",
    "# check for outliers and explain them eventually\n",
    "\n",
    "#for col in df.columns: \n",
    "#    try:      \n",
    "#        df[col] = pd.to_numeric(df[col]) \n",
    "#        df.hist(column=col)\n",
    "#    except ValueError:\n",
    "#        print(\"The column \"+col+' can not be represented as a histogram')"
   ]
  },
  {
   "cell_type": "code",
   "execution_count": 14,
   "metadata": {},
   "outputs": [],
   "source": [
    "#create a correlation matrix to check for pairwise linear dependencies among the columns\n",
    "\n",
    "#dummy=df.iloc[:,1:]    #remove the \"Age\" column that is not numerical\n",
    "#dummy.corr(min_periods=15)\n",
    "#plt.matshow(dummy.corr(min_periods=15))\n",
    "#plt.show()\n",
    "#print(dummy.columns)\n",
    "\n",
    "#del dummy"
   ]
  },
  {
   "cell_type": "code",
   "execution_count": 15,
   "metadata": {},
   "outputs": [],
   "source": [
    "# convert categorical variables into indicator functions\n",
    "\n",
    "df = pd.get_dummies(df,columns=[\"Age\"])\n",
    "#df\n"
   ]
  },
  {
   "cell_type": "code",
   "execution_count": 17,
   "metadata": {},
   "outputs": [
    {
     "data": {
      "text/plain": [
       "array([1, 1, 1, 1, 1, 1, 1, 1, 1, 1, 1, 1, 1, 1, 1, 1, 1, 1, 1, 1, 1, 1,\n",
       "       1, 1, 1, 1, 1, 1, 1, 1, 1, 1, 1, 1, 1, 1, 1, 1, 1, 1, 1, 1, 1, 1,\n",
       "       1, 1, 1, 1, 1, 1, 1, 1, 1, 1, 1, 1, 1, 1, 1, 1, 1, 1, 1, 1, 1, 1,\n",
       "       1, 1, 1, 1, 1, 1, 1, 1, 1, 1, 1, 1, 1, 1, 1, 1, 1, 1, 1, 1, 1, 1,\n",
       "       1, 1, 1, 1, 1, 1, 1, 1, 1, 1, 1, 1, 1, 0, 0, 0, 0, 0, 0, 0, 1, 0,\n",
       "       1, 1, 1, 1, 1, 1, 1, 1, 1, 1, 1, 1, 1, 1, 1, 1, 1, 1], dtype=uint8)"
      ]
     },
     "execution_count": 17,
     "metadata": {},
     "output_type": "execute_result"
    }
   ],
   "source": [
    "# define the response variable and convert it into an np.array\n",
    "\n",
    "y=np.array(df[\"Age_After 1 year\"])\n"
   ]
  },
  {
   "cell_type": "code",
   "execution_count": 38,
   "metadata": {},
   "outputs": [],
   "source": [
    "#perform k-means clustering to check for nonlinear dependencies among the df columns\n",
    "\n",
    "from sklearn.impute import KNNImputer\n",
    "from sklearn.model_selection import train_test_split\n",
    "from sklearn.ensemble import RandomForestRegressor\n",
    "from sklearn import tree\n",
    "#from sklearn.tree import DecisionTreeClassifier\n"
   ]
  },
  {
   "cell_type": "code",
   "execution_count": 46,
   "metadata": {},
   "outputs": [],
   "source": [
    "# define the explanatory variables\n",
    "\n",
    "X=df.iloc[:,:34]\n",
    "X_names=df.iloc[:,:34].columns\n"
   ]
  },
  {
   "cell_type": "code",
   "execution_count": 47,
   "metadata": {},
   "outputs": [],
   "source": [
    "# impute data in case of NaN's by using K nearest neighbour\n",
    "\n",
    "imputer = KNNImputer(n_neighbors=20, weights=\"distance\")\n",
    "X=imputer.fit_transform(X)\n"
   ]
  },
  {
   "cell_type": "code",
   "execution_count": 54,
   "metadata": {},
   "outputs": [],
   "source": [
    "# create a training set and a validation set\n",
    "\n",
    "X_train, X_test, y_train, y_test = train_test_split(X, y, test_size = 0.25, random_state = None, stratify=y)\n",
    "\n",
    "#print('X_train Shape:', X_train.shape)\n",
    "#print('y_train Shape:', y_train.shape)\n",
    "#print('X_test Shape:', X_test.shape)\n",
    "#print('Y_test Shape:', y_test.shape)\n"
   ]
  },
  {
   "cell_type": "code",
   "execution_count": 55,
   "metadata": {},
   "outputs": [
    {
     "data": {
      "text/plain": [
       "RandomForestRegressor(n_estimators=1000)"
      ]
     },
     "execution_count": 55,
     "metadata": {},
     "output_type": "execute_result"
    }
   ],
   "source": [
    "# Instantiate model with 1000 decision trees\n",
    "\n",
    "rf = RandomForestRegressor(n_estimators = 1000, random_state = None)\n",
    "\n",
    "# Train the model on training data\n",
    "\n",
    "rf.fit(X_train, y_train)\n"
   ]
  },
  {
   "cell_type": "code",
   "execution_count": 56,
   "metadata": {},
   "outputs": [],
   "source": [
    "# validate the random forest using the test set\n",
    "\n",
    "predictions = rf.predict(X_test)\n"
   ]
  },
  {
   "cell_type": "code",
   "execution_count": 57,
   "metadata": {},
   "outputs": [
    {
     "data": {
      "image/png": "[encoded data removed]",
      "text/plain": [
       "<Figure size 1152x216 with 1 Axes>"
      ]
     },
     "metadata": {
      "needs_background": "light"
     },
     "output_type": "display_data"
    }
   ],
   "source": [
    "# plot the result of the validation\n",
    "\n",
    "plt.figure(figsize=(16,3))\n",
    "plt.plot(range(len(predictions)), predictions, '-', label=\"Predicted outcomes\")\n",
    "plt.plot(range(len(y_test)), y_test, 'x', label=\"Observed outcomes\")\n",
    "plt.xlabel('number of samples in the validation set')\n",
    "plt.ylabel('Indicator of \"Age > 1 year\"')\n",
    "plt.legend()\n",
    "plt.show()\n"
   ]
  },
  {
   "cell_type": "code",
   "execution_count": 58,
   "metadata": {},
   "outputs": [
    {
     "data": {
      "text/plain": [
       "[Text(200.88000000000002, 181.2, 'CU <= 1.5\\nmse = 0.059\\nsamples = 59\\nvalue = 0.938'),\n",
       " Text(133.92000000000002, 108.72, 'LNF-NMW <= 14.5\\nmse = 0.24\\nsamples = 6\\nvalue = 0.4'),\n",
       " Text(66.96000000000001, 36.23999999999998, 'mse = 0.0\\nsamples = 4\\nvalue = 0.0'),\n",
       " Text(200.88000000000002, 36.23999999999998, 'mse = 0.0\\nsamples = 2\\nvalue = 1.0'),\n",
       " Text(267.84000000000003, 108.72, 'mse = 0.0\\nsamples = 53\\nvalue = 1.0')]"
      ]
     },
     "execution_count": 58,
     "metadata": {},
     "output_type": "execute_result"
    },
    {
     "data": {
      "image/png": "[encoded data removed]",
      "text/plain": [
       "<Figure size 432x288 with 1 Axes>"
      ]
     },
     "metadata": {
      "needs_background": "light"
     },
     "output_type": "display_data"
    }
   ],
   "source": [
    "# depict a tree from the forest\n",
    "\n",
    "clf = rf.estimators_[1]\n",
    "tree.plot_tree(clf,feature_names=X_names, filled=True)\n"
   ]
  },
  {
   "cell_type": "code",
   "execution_count": 59,
   "metadata": {},
   "outputs": [
    {
     "data": {
      "text/html": [
       "<div>\n",
       "<style scoped>\n",
       "    .dataframe tbody tr th:only-of-type {\n",
       "        vertical-align: middle;\n",
       "    }\n",
       "\n",
       "    .dataframe tbody tr th {\n",
       "        vertical-align: top;\n",
       "    }\n",
       "\n",
       "    .dataframe thead th {\n",
       "        text-align: right;\n",
       "    }\n",
       "</style>\n",
       "<table border=\"1\" class=\"dataframe\">\n",
       "  <thead>\n",
       "    <tr style=\"text-align: right;\">\n",
       "      <th></th>\n",
       "      <th>0</th>\n",
       "    </tr>\n",
       "  </thead>\n",
       "  <tbody>\n",
       "    <tr>\n",
       "      <th>CU</th>\n",
       "      <td>0.655505</td>\n",
       "    </tr>\n",
       "    <tr>\n",
       "      <th>ISO 4406 large</th>\n",
       "      <td>0.059871</td>\n",
       "    </tr>\n",
       "    <tr>\n",
       "      <th>VIS40</th>\n",
       "      <td>0.029516</td>\n",
       "    </tr>\n",
       "    <tr>\n",
       "      <th>VIS99</th>\n",
       "      <td>0.029391</td>\n",
       "    </tr>\n",
       "    <tr>\n",
       "      <th>WATER</th>\n",
       "      <td>0.026007</td>\n",
       "    </tr>\n",
       "    <tr>\n",
       "      <th>FE</th>\n",
       "      <td>0.018969</td>\n",
       "    </tr>\n",
       "    <tr>\n",
       "      <th>BRSTVD</th>\n",
       "      <td>0.018849</td>\n",
       "    </tr>\n",
       "    <tr>\n",
       "      <th>MG</th>\n",
       "      <td>0.018823</td>\n",
       "    </tr>\n",
       "    <tr>\n",
       "      <th>LNF-CUT</th>\n",
       "      <td>0.016065</td>\n",
       "    </tr>\n",
       "    <tr>\n",
       "      <th>LNF-NMW</th>\n",
       "      <td>0.015324</td>\n",
       "    </tr>\n",
       "    <tr>\n",
       "      <th>LNF-SSW</th>\n",
       "      <td>0.015176</td>\n",
       "    </tr>\n",
       "    <tr>\n",
       "      <th>LNF-UNC</th>\n",
       "      <td>0.015021</td>\n",
       "    </tr>\n",
       "    <tr>\n",
       "      <th>ISO 4406 medium</th>\n",
       "      <td>0.014238</td>\n",
       "    </tr>\n",
       "    <tr>\n",
       "      <th>ISO 4406 small</th>\n",
       "      <td>0.013610</td>\n",
       "    </tr>\n",
       "    <tr>\n",
       "      <th>LNF-FW</th>\n",
       "      <td>0.012625</td>\n",
       "    </tr>\n",
       "    <tr>\n",
       "      <th>TBN</th>\n",
       "      <td>0.009655</td>\n",
       "    </tr>\n",
       "    <tr>\n",
       "      <th>LNF-ROET</th>\n",
       "      <td>0.006647</td>\n",
       "    </tr>\n",
       "    <tr>\n",
       "      <th>VLAMCC</th>\n",
       "      <td>0.005386</td>\n",
       "    </tr>\n",
       "    <tr>\n",
       "      <th>CA</th>\n",
       "      <td>0.003906</td>\n",
       "    </tr>\n",
       "    <tr>\n",
       "      <th>TAN</th>\n",
       "      <td>0.003687</td>\n",
       "    </tr>\n",
       "    <tr>\n",
       "      <th>ZN</th>\n",
       "      <td>0.003221</td>\n",
       "    </tr>\n",
       "    <tr>\n",
       "      <th>LNF-FIB</th>\n",
       "      <td>0.003080</td>\n",
       "    </tr>\n",
       "    <tr>\n",
       "      <th>SI</th>\n",
       "      <td>0.002953</td>\n",
       "    </tr>\n",
       "    <tr>\n",
       "      <th>P</th>\n",
       "      <td>0.002222</td>\n",
       "    </tr>\n",
       "    <tr>\n",
       "      <th>PB</th>\n",
       "      <td>0.000254</td>\n",
       "    </tr>\n",
       "    <tr>\n",
       "      <th>LI</th>\n",
       "      <td>0.000000</td>\n",
       "    </tr>\n",
       "    <tr>\n",
       "      <th>NI</th>\n",
       "      <td>0.000000</td>\n",
       "    </tr>\n",
       "    <tr>\n",
       "      <th>SN</th>\n",
       "      <td>0.000000</td>\n",
       "    </tr>\n",
       "    <tr>\n",
       "      <th>MN</th>\n",
       "      <td>0.000000</td>\n",
       "    </tr>\n",
       "    <tr>\n",
       "      <th>CR</th>\n",
       "      <td>0.000000</td>\n",
       "    </tr>\n",
       "    <tr>\n",
       "      <th>BA</th>\n",
       "      <td>0.000000</td>\n",
       "    </tr>\n",
       "    <tr>\n",
       "      <th>AL</th>\n",
       "      <td>0.000000</td>\n",
       "    </tr>\n",
       "    <tr>\n",
       "      <th>V</th>\n",
       "      <td>0.000000</td>\n",
       "    </tr>\n",
       "    <tr>\n",
       "      <th>NA</th>\n",
       "      <td>0.000000</td>\n",
       "    </tr>\n",
       "  </tbody>\n",
       "</table>\n",
       "</div>"
      ],
      "text/plain": [
       "                        0\n",
       "CU               0.655505\n",
       "ISO 4406 large   0.059871\n",
       "VIS40            0.029516\n",
       "VIS99            0.029391\n",
       "WATER            0.026007\n",
       "FE               0.018969\n",
       "BRSTVD           0.018849\n",
       "MG               0.018823\n",
       "LNF-CUT          0.016065\n",
       "LNF-NMW          0.015324\n",
       "LNF-SSW          0.015176\n",
       "LNF-UNC          0.015021\n",
       "ISO 4406 medium  0.014238\n",
       "ISO 4406 small   0.013610\n",
       "LNF-FW           0.012625\n",
       "TBN              0.009655\n",
       "LNF-ROET         0.006647\n",
       "VLAMCC           0.005386\n",
       "CA               0.003906\n",
       "TAN              0.003687\n",
       "ZN               0.003221\n",
       "LNF-FIB          0.003080\n",
       "SI               0.002953\n",
       "P                0.002222\n",
       "PB               0.000254\n",
       "LI               0.000000\n",
       "NI               0.000000\n",
       "SN               0.000000\n",
       "MN               0.000000\n",
       "CR               0.000000\n",
       "BA               0.000000\n",
       "AL               0.000000\n",
       "V                0.000000\n",
       "NA               0.000000"
      ]
     },
     "execution_count": 59,
     "metadata": {},
     "output_type": "execute_result"
    }
   ],
   "source": [
    "#plot the importance of the various explanatory variables\n",
    "\n",
    "pd.DataFrame(rf.feature_importances_,index=X_names).sort_values(0,ascending=False)\n"
   ]
  },
  {
   "cell_type": "code",
   "execution_count": null,
   "metadata": {},
   "outputs": [],
   "source": []
  }
 ],
 "metadata": {
  "kernelspec": {
   "display_name": "Python 3",
   "language": "python",
   "name": "python3"
  },
  "language_info": {
   "codemirror_mode": {
    "name": "ipython",
    "version": 3
   },
   "file_extension": ".py",
   "mimetype": "text/x-python",
   "name": "python",
   "nbconvert_exporter": "python",
   "pygments_lexer": "ipython3",
   "version": "3.7.6"
  },
  "toc-autonumbering": false,
  "toc-showcode": true,
  "toc-showmarkdowntxt": true
 },
 "nbformat": 4,
 "nbformat_minor": 4
}
