{
 "cells": [
  {
   "cell_type": "code",
   "execution_count": 1,
   "id": "00995c23-0c65-4650-bb90-0dde01d89a80",
   "metadata": {},
   "outputs": [],
   "source": [
    "import pandas as pd\n",
    "import numpy as np\n",
    "#import matplotlib.pyplot as plt\n",
    "\n",
    "from sklearn.impute import KNNImputer\n",
    "from sklearn.preprocessing import StandardScaler\n",
    "\n",
    "from sklearn.ensemble import RandomForestClassifier\n"
   ]
  },
  {
   "cell_type": "code",
   "execution_count": 2,
   "id": "38fae9cb-835c-4f24-a53c-205f86c40116",
   "metadata": {},
   "outputs": [],
   "source": [
    "def readfile(bestand):\n",
    "    table = None\n",
    "    table = pd.read_excel(bestand, index_col=0)\n",
    "    table['time'] = table.index\n",
    "    \n",
    "    X = table.select_dtypes(include='number')\n",
    "    y = pd.get_dummies(table.select_dtypes(exclude='number') )\n",
    "    \n",
    "    return X,y"
   ]
  },
  {
   "cell_type": "code",
   "execution_count": 3,
   "id": "e4acfa8d-49a3-4be9-9acb-332fda00a918",
   "metadata": {},
   "outputs": [],
   "source": [
    "def make_arr(XX):\n",
    "    arr = pd.DataFrame(index=XX.index)\n",
    "    arr['ARR_1'] = (XX['V0_measured']-XX['V1_measured']) - (XX['V1_measured']-XX['V2_measured'])\n",
    "    \n",
    "    dumV = XX['S'].diff().fillna(1).abs()*(XX['V0_measured']-XX['V2_measured'])\n",
    "    dumV.replace(to_replace=0.0, inplace=True, method='ffill')\n",
    "    \n",
    "    dumT = XX['S'].diff().fillna(1).abs()*(XX.index)\n",
    "    dumT[dumT.index==0.0] = 10E-10\n",
    "    dumT.replace(to_replace=0.0, inplace=True, method='ffill')\n",
    "\n",
    "    arr['ARR_2'] = (XX['V0_measured']-XX['V2_measured']) - dumV*np.exp(-(dumT.index - dumT)/2)\n",
    "    \n",
    "    return arr"
   ]
  },
  {
   "cell_type": "code",
   "execution_count": 4,
   "id": "fd8c154b-c388-4755-9171-c1f7972b4e44",
   "metadata": {},
   "outputs": [],
   "source": [
    "# fit a RF model and determine gini importance\n",
    "\n",
    "def selectRFmodel(XX,y):\n",
    "#    imputer = KNNImputer(n_neighbors=3, weights=\"distance\")\n",
    "#    XX = imputer.fit_transform(XX)\n",
    "    \n",
    "    rfmodel = RandomForestClassifier(n_estimators = 100, criterion=\"gini\",random_state = None)\n",
    "    \n",
    "    return rfmodel.fit(XX, y), rfmodel.feature_importances_"
   ]
  },
  {
   "cell_type": "code",
   "execution_count": 5,
   "id": "ac4b2e5e-dd19-4e5d-a337-8ead04d08f90",
   "metadata": {},
   "outputs": [],
   "source": [
    "#load the balanced and complete training data in a pandas dataframe\n",
    "\n",
    "#df_X, df_y = readfile(\"C:/Users/Admin/Pythonprojects/RAMS/data/Arduino_RRC_trainingset_05sec.xlsx\")\n",
    "df_X, df_y = readfile(\"https://raw.githubusercontent.com/chrisrijsdijk/RAMS/master/data/Arduino_RRC_trainingset_05sec.xlsx\")"
   ]
  },
  {
   "cell_type": "code",
   "execution_count": 6,
   "id": "75b76c17-2c9a-4814-94b6-ba621a37ad3b",
   "metadata": {},
   "outputs": [],
   "source": [
    "# infer RF models from df_X; df_y\n",
    "\n",
    "X_names = df_X.columns      #load a string of column names to label the output of the random forest model afterwards...\n",
    "\n",
    "#rf_X_H_model, rf_X_H_featimp = selectRFmodel(df_X, df_y['Health_state_H'])\n",
    "#rf_X_R_model, rf_X_R_featimp = selectRFmodel(df_X, df_y['Health_state_R'])\n",
    "#rf_X_C_model, rf_X_C_featimp = selectRFmodel(df_X, df_y['Health_state_C'])\n",
    "\n",
    "rf_X_HRC_model, rf_X_HRC_featimp = selectRFmodel(df_X, df_y)"
   ]
  },
  {
   "cell_type": "code",
   "execution_count": 7,
   "id": "e2284540-a709-4cff-a203-c0aaa95c37d2",
   "metadata": {},
   "outputs": [],
   "source": [
    "# infer RF models from arr's; df_y\n",
    "\n",
    "df_as = make_arr(df_X)\n",
    "as_names = df_as.columns      #load a string of column names to label the output of the random forest model afterwards...\n",
    "\n",
    "#rf_A_H_model, rf_A_H_featimp = selectRFmodel(df_as, df_y['Health_state_H'])\n",
    "#rf_A_R_model, rf_A_R_featimp = selectRFmodel(df_as, df_y['Health_state_R'])\n",
    "#rf_A_C_model, rf_A_C_featimp = selectRFmodel(df_as, df_y['Health_state_C'])\n",
    "\n",
    "rf_A_HRC_model, rf_A_HRC_featimp = selectRFmodel(df_as, df_y)"
   ]
  },
  {
   "cell_type": "code",
   "execution_count": 8,
   "id": "ebce68fa-4fb0-4873-99c2-590390687ce3",
   "metadata": {},
   "outputs": [],
   "source": [
    "# infer RF models from X, arr's; df_y\n",
    "\n",
    "df_Xas = pd.concat([df_X,df_as], axis='columns')\n",
    "Xas_names = df_Xas.columns      #load a string of column names to label the output of the random forest model afterwards...\n",
    "\n",
    "#rf_XA_H_model, rf_XA_H_featimp = selectRFmodel(df_Xas, df_y['Health_state_H'])\n",
    "#rf_XA_R_model, rf_XA_R_featimp = selectRFmodel(df_Xas, df_y['Health_state_R'])\n",
    "#rf_XA_C_model, rf_XA_C_featimp = selectRFmodel(df_Xas, df_y['Health_state_C'])\n",
    "\n",
    "rf_XA_HRC_model, rf_XA_HRC_featimp = selectRFmodel(df_Xas, df_y)"
   ]
  },
  {
   "cell_type": "code",
   "execution_count": 9,
   "id": "88fcfe80-61b6-489e-8ee0-2070af8a96aa",
   "metadata": {
    "tags": []
   },
   "outputs": [
    {
     "name": "stdout",
     "output_type": "stream",
     "text": [
      "###########################################################################\n",
      "             Gini importance of the model X\n",
      "V1_measured                        0.539995\n",
      "V2_measured                        0.313924\n",
      "time                               0.112582\n",
      "V0_measured                        0.025366\n",
      "S                                  0.008133\n",
      " \n",
      "       Gini importance of the model A\n",
      "ARR_1                        0.536231\n",
      "ARR_2                        0.463769\n",
      " \n",
      "             Gini importance of the model XA\n",
      "V1_measured                         0.286906\n",
      "ARR_2                               0.235169\n",
      "ARR_1                               0.212076\n",
      "V2_measured                         0.173397\n",
      "time                                0.042498\n",
      "V0_measured                         0.030484\n",
      "S                                   0.019470\n",
      "###########################################################################\n"
     ]
    }
   ],
   "source": [
    "#rf_XA_HRC_model.predict(df_Xas)\n",
    "print('###########################################################################')\n",
    "print(pd.DataFrame(rf_X_HRC_featimp, index=X_names, columns=['Gini importance of the model X']).sort_values(by='Gini importance of the model X', ascending=False) )\n",
    "print(' ')\n",
    "print(pd.DataFrame(rf_A_HRC_featimp, index=as_names, columns=['Gini importance of the model A']).sort_values(by='Gini importance of the model A', ascending=False) )\n",
    "print(' ')\n",
    "print(pd.DataFrame(rf_XA_HRC_featimp, index=Xas_names, columns=['Gini importance of the model XA']).sort_values(by='Gini importance of the model XA', ascending=False))\n",
    "print('###########################################################################')"
   ]
  },
  {
   "cell_type": "code",
   "execution_count": 10,
   "id": "a6fcc616-2516-4092-9aa0-aacdf11cc134",
   "metadata": {},
   "outputs": [],
   "source": [
    "import serial\n",
    "import time\n",
    "import keyboard\n",
    "from IPython.display import clear_output"
   ]
  },
  {
   "cell_type": "code",
   "execution_count": 11,
   "id": "0a530b72-32cb-4f2f-96b6-a3800fb56a0c",
   "metadata": {},
   "outputs": [],
   "source": [
    "# connect to Arduino\n",
    "\n",
    "ser = serial.Serial('COM3', 9600, timeout=1) #check whether the Arduino is really connected with COM3 or adjust the code to the correct COM\n",
    "                                             #check at settings and check whether Arduino is a connected device\n",
    "time.sleep(2)"
   ]
  },
  {
   "cell_type": "code",
   "execution_count": 12,
   "id": "d9afddeb-3522-4651-8ee8-6daa2834f2cd",
   "metadata": {},
   "outputs": [],
   "source": [
    "# read write the serial connection at a given sampling rate\n",
    "\n",
    "def write_read(x):                  #this function takes an input x, which is a switch command and it returns data from the Arduino\n",
    "    ser.write(bytes(x, 'utf-8'))    #pass the command to Arduino by the serial connection\n",
    "    data = ser.readline()           #take data from Arduino\n",
    "    return data                     #return the data to be processed further"
   ]
  },
  {
   "cell_type": "code",
   "execution_count": 13,
   "id": "3cde2976-8838-4c7d-b7ae-5f35e7dd0c1d",
   "metadata": {
    "tags": []
   },
   "outputs": [
    {
     "name": "stdout",
     "output_type": "stream",
     "text": [
      "The switching period during this validation is:  3\n",
      "Press <q> to quit\n",
      "#########################################################\n",
      "time:                                          2024-10-07 07:54:42\n",
      ".........................................................\n",
      "position of the switch S:                      0.0\n",
      "voltage V0:                                    0.0\n",
      "voltage V1:                                    1.2903225806451613\n",
      "voltage V2:                                    2.590420332355816\n",
      "analytical redundancy relation 1:              0.009775171065493646\n",
      "analytical redundancy relation 2:              -0.013011229560717652\n",
      "progress in the period [sec]:                  1.1\n",
      ".........................................................\n",
      "diagnostics by random forest classification from measurements:          Healthy\n",
      "diagnostics by random forest classification from arrs:                  Healthy\n",
      "diagnostics by random forest classification from measurements and arrs: Healthy\n",
      ".........................................................\n",
      "frequencies of random forest classification from measurements:         ['-' 'Capacitance fault' 'Healthy' 'Resistance fault'] [17 56 99 18]\n",
      "frequencies of random forest classification from arrs                  ['Capacitance fault' 'Healthy' 'Resistance fault'] [ 56 116  18]\n",
      "frequencies of random forest classification from measurements and arrs ['Capacitance fault' 'Healthy' 'Resistance fault'] [ 61 111  18]\n",
      "You pressed <q>uit\n"
     ]
    }
   ],
   "source": [
    "# start to control the Arduino while collecting the data\n",
    "\n",
    "diagnose = {}                                                    #just a dict to connect rf output to semantical fault labels\n",
    "diagnose['[1 0 0]'] = 'Capacitance fault'\n",
    "diagnose['[0 1 0]'] = 'Healthy'\n",
    "diagnose['[0 0 1]'] = 'Resistance fault'\n",
    "diagnose['[0 0 0]'] = '-'\n",
    "\n",
    "diagnoses_X_HRC = []\n",
    "diagnoses_A_HRC = []\n",
    "diagnoses_XA_HRC = []\n",
    "\n",
    "print('The switching period in the training set was 10 seconds')\n",
    "print('Choose a switching period for the validation:')\n",
    "try:\n",
    "    period = int(input('Input:'))                                #state holding time of the switch\n",
    "except ValueError:\n",
    "    print(\"Not an integer\")\n",
    "\n",
    "num ='1'                                                         #num='1' is output to close the switch\n",
    "value = write_read(num)                                          #sent out switch command and take sensor readings\n",
    "        \n",
    "t = 0.0                                                          #timer on the state holding time of the switch\n",
    "tt = 0.0                                                         #timer on a switch cyle (on+off)\n",
    "tijd = time.time()                                               #read current time\n",
    "        \n",
    "dummy = value.decode().rstrip().split()                          #process sensor readings\n",
    "print(dummy)\n",
    "dumV = (int(dummy[1])-int(dummy[3]))/1023*5                      #scale the voltages at the moment of a switch transition\n",
    "\n",
    "dum4 = np.array([[int(dummy[0])]])                               #dum4 indicates the switch position\n",
    "                                                                 #dum_X contains all sensor features switch position, voltages, time t+tt\n",
    "dum_X = np.array([ np.append(dum4, np.append([int(j)/1023*5 for j in dummy[1:]],t+tt) ) ])\n",
    "\n",
    "                                                                 #calculate arr1, arr2\n",
    "arr1 = (  (int(dummy[1])-int(dummy[2])) - (int(dummy[2])-int(dummy[3])) )/1023*5\n",
    "arr2 = (int(dummy[1])-int(dummy[3]))/1023*5 - dumV*np.exp(-t/2)\n",
    "dum_A = np.array( [[arr1, arr2]] )                               #dum_A contains all arrs\n",
    "dum_XA = np.array([np.append(dum_X, dum_A)])                     #merge dumX,dum_A to a unified set of explanatory variables\n",
    "\n",
    "while not(keyboard.is_pressed('q')):                             #making a loop continues as long as i is true. This loop involves a cycle of reading and evaluating data\n",
    "    clear_output(wait=True)\n",
    "    print(\"The switching period during this validation is: \", period)\n",
    "    print(\"Press <q> to quit\")\n",
    "    print(\"#########################################################\")\n",
    "          \n",
    "    print('time:                                         ',str(pd.to_datetime(round(time.time(), 0),unit = 's')))\n",
    "    print('.........................................................')                                     \n",
    "    \n",
    "    try:\n",
    "        diagnoses_X_HRC  = diagnoses_X_HRC + [diagnose[str(rf_X_HRC_model.predict(dum_X)[0])]]\n",
    "        diagnoses_A_HRC  = diagnoses_A_HRC + [diagnose[str(rf_A_HRC_model.predict(dum_A)[0])]]\n",
    "        diagnoses_XA_HRC = diagnoses_XA_HRC + [diagnose[str(rf_XA_HRC_model.predict(dum_XA)[0])]]\n",
    "        print('position of the switch S:                     ', dum_X[0][0])\n",
    "        print('voltage V0:                                   ', dum_X[0][1])\n",
    "        print('voltage V1:                                   ', dum_X[0][2])\n",
    "        print('voltage V2:                                   ', dum_X[0][3])\n",
    "        print('analytical redundancy relation 1:             ', arr1)\n",
    "        print('analytical redundancy relation 2:             ', arr2)\n",
    "        print('progress in the period [sec]:                 ',round(t,1))\n",
    "        print('.........................................................')\n",
    "\n",
    "        print('diagnostics by random forest classification from measurements:         ',diagnoses_X_HRC[-1] )\n",
    "        print('diagnostics by random forest classification from arrs:                 ',diagnoses_A_HRC[-1] )\n",
    "        print('diagnostics by random forest classification from measurements and arrs:',diagnoses_XA_HRC[-1] )\n",
    "        print('.........................................................')\n",
    "\n",
    "        print('frequencies of random forest classification from measurements:        ',\n",
    "              str(np.unique(diagnoses_X_HRC, return_counts=True)[0]), \n",
    "              str(np.unique(diagnoses_X_HRC, return_counts=True)[1]) )\n",
    "        \n",
    "        print('frequencies of random forest classification from arrs                 ',\n",
    "              str(np.unique(diagnoses_A_HRC, return_counts=True)[0]), \n",
    "              str(np.unique(diagnoses_A_HRC, return_counts=True)[1]) )\n",
    "\n",
    "        print('frequencies of random forest classification from measurements and arrs',\n",
    "              str(np.unique(diagnoses_XA_HRC, return_counts=True)[0]), \n",
    "              str(np.unique(diagnoses_XA_HRC, return_counts=True)[1]) )        \n",
    "        \n",
    "    except:\n",
    "        print(' ')\n",
    "              \n",
    "    if t < period:                                               #check t<the entered state holding time of the switch\n",
    "        value = write_read(num)                                  #take the sensorreading while continuing the switch position num\n",
    "        \n",
    "        t = time.time()-tijd                                     #refresh t\n",
    "        \n",
    "        dummy = value.decode().rstrip().split()                  #process sensor readings\n",
    "        \n",
    "        dum4 = np.array([[int(dummy[0])]])                       #dum4 indicates the switch position\n",
    "                                                                 #dum_X contains all sensor features switch position, voltages, time t+tt        \n",
    "        dum_X = np.array([ np.append(dum4, np.append([int(j)/1023*5 for j in dummy[1:]],t+tt) ) ])\n",
    "                                                                 #calculate arr1, arr2        \n",
    "        arr1 = (  (int(dummy[1])-int(dummy[2])) - (int(dummy[2])-int(dummy[3])) )/1023*5\n",
    "        arr2 = (int(dummy[1])-int(dummy[3]))/1023*5 - dumV*np.exp(-t/2)\n",
    "        dum_A = np.array( [[arr1, arr2]] )                       #dum_A contains all arrs\n",
    "        dum_XA = np.array([np.append(dum_X, dum_A)])             #merge dumX,dum_A to a unified set of explanatoryu variables\n",
    "        \n",
    "    else:\n",
    "        num = str( abs(int(num) - 1) )                           #flip the switch position from zero to one or conversely\n",
    "        value = write_read(num)                                  #take the sensorreading upon the switch transition\n",
    "        \n",
    "        t = 0.0                                                  #reset the timer on the state holding time\n",
    "        tt = int(num) * t                                        #refresh the timer on the switching cycle\n",
    "        tijd = time.time()                                       #refresh tijd of the last switch transition\n",
    "        \n",
    "        dummy = value.decode().rstrip().split()                  #process sensor readings\n",
    "\n",
    "        dumV = (int(dummy[1])-int(dummy[3]))/1023*5              #scale the voltages at the moment of a switch transition\n",
    "        \n",
    "        dum4 = np.array([[int(dummy[0])]])                       #dum4 indicates the switch position\n",
    "                                                                 #dum_X contains all sensor features switch position, voltages, time t+tt        \n",
    "        dum_X = np.array([ np.append(dum4, np.append([int(j)/1023*5 for j in dummy[1:]],t+tt) ) ])\n",
    "                                                                 #calculate arr1, arr2        \n",
    "        arr1 = (  (int(dummy[1])-int(dummy[2])) - (int(dummy[2])-int(dummy[3])) )/1023*5\n",
    "        arr2 = (int(dummy[1])-int(dummy[3]))/1023*5 - dumV*np.exp(-t/2)\n",
    "        dum_A = np.array( [[arr1, arr2]] )                       #dum_A contains all arrs\n",
    "        dum_XA = np.array([np.append(dum_X, dum_A)])             #merge dumX,dum_A to a unified set of explanatoryu variables\n",
    "    \n",
    "print('You pressed <q>uit')\n",
    "ser.close()       #close the serial port when the reading is stopped. If not done, reconnection with the Arduino is not possible"
   ]
  },
  {
   "cell_type": "code",
   "execution_count": 14,
   "id": "67bf1b5f-428c-460f-92ef-291053313fc3",
   "metadata": {},
   "outputs": [],
   "source": [
    "ser.close()"
   ]
  },
  {
   "cell_type": "code",
   "execution_count": null,
   "id": "ed7edb2c-d4dd-4192-b352-794bd7e3a84d",
   "metadata": {},
   "outputs": [],
   "source": []
  }
 ],
 "metadata": {
  "kernelspec": {
   "display_name": "Python 3",
   "language": "python",
   "name": "python3"
  },
  "language_info": {
   "codemirror_mode": {
    "name": "ipython",
    "version": 3
   },
   "file_extension": ".py",
   "mimetype": "text/x-python",
   "name": "python",
   "nbconvert_exporter": "python",
   "pygments_lexer": "ipython3",
   "version": "3.8.8"
  }
 },
 "nbformat": 4,
 "nbformat_minor": 5
}
