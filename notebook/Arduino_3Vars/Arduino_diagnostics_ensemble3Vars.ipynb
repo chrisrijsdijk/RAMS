{
 "cells": [
  {
   "cell_type": "code",
   "execution_count": 1,
   "metadata": {
    "tags": []
   },
   "outputs": [],
   "source": [
    "import pandas as pd\n",
    "import numpy as np\n",
    "from scipy.stats import uniform\n",
    "import matplotlib.pyplot as plt\n",
    "from IPython.display import clear_output"
   ]
  },
  {
   "cell_type": "code",
   "execution_count": 2,
   "metadata": {},
   "outputs": [],
   "source": [
    "#in the absence of any data, an expert may still have strong opinions regarding \n",
    "#the signatures of the various states of the system. The \"plotDesignlabels\" function defines only some\n",
    "#states of the system and this list can easily be expanded. As S, F1, F2, F3, F4 are dichotomous, 32 system \n",
    "#states may be defined in principle. As F2 and F3 are deemed mutually exclusive, 24 system states remain\n"
   ]
  },
  {
   "cell_type": "code",
   "execution_count": 3,
   "metadata": {},
   "outputs": [],
   "source": [
    "# load the model inferred from engineering expertise (and not inferred from a data set!)\n",
    "# the engineering expertise has been captured in a table that defines the possible system states, given some voltages and a switch position\n",
    "# as this model does not require a history, the blocks below merely \"massage\" the data to a convenient format during deployment.\n"
   ]
  },
  {
   "cell_type": "code",
   "execution_count": 4,
   "metadata": {},
   "outputs": [],
   "source": [
    "#load the representation of the engineering expertise in a pandas dataframe\n",
    "\n",
    "df_dl = None\n",
    "\n",
    "# this data set represents the system during deployment\n",
    "#df_dl =pd.read_excel(\"C:/Users/Admin/Pythonprojects/RAMS/data/Arduino_trainingset_3VarsDesign.xlsx\", index_col=0)\n",
    "df_dl = pd.read_excel(\"https://raw.githubusercontent.com/chrisrijsdijk/RAMS/master/data/Arduino_trainingset_3VarsDesign.xlsx\", index_col=0)"
   ]
  },
  {
   "cell_type": "code",
   "execution_count": 5,
   "metadata": {
    "tags": []
   },
   "outputs": [
    {
     "data": {
      "text/plain": [
       "S      object\n",
       "V0    float64\n",
       "V1    float64\n",
       "F1     object\n",
       "F2     object\n",
       "F3     object\n",
       "F4     object\n",
       "dtype: object"
      ]
     },
     "execution_count": 5,
     "metadata": {},
     "output_type": "execute_result"
    }
   ],
   "source": [
    "# check the datatypes in the dataframe to verify that all voltages are floats]\n",
    "\n",
    "df_dl = df_dl.astype('float64', errors=\"ignore\") #it appears that that VoltageA2 came in as an integer and that sucks...\n",
    "df_dl.dtypes"
   ]
  },
  {
   "cell_type": "code",
   "execution_count": 6,
   "metadata": {},
   "outputs": [],
   "source": [
    "# dump the datalabels in a dictionary that will be used to retrieve the design labels\n",
    "\n",
    "dict_dl =  df_dl.groupby(['F1','F2','F3','F4']).sum().to_dict('index')\n",
    "\n",
    "#the keys:   a list of states (F1, F2, F3, F4)\n",
    "#the values: dictionaries of the structure {'S': s, 'V0':v0, 'V1':v1}\n"
   ]
  },
  {
   "cell_type": "code",
   "execution_count": 7,
   "metadata": {},
   "outputs": [
    {
     "data": {
      "text/plain": [
       "{('?', '?', '?', '?'): {'V0': 0.0, 'V1': 0.0},\n",
       " ('F', 'F', 'F', 'F'): {'V0': 3.4, 'V1': 1.4},\n",
       " ('F', 'F', 'F', 'T'): {'V0': 5.0, 'V1': 4.4},\n",
       " ('F', 'F', 'T', 'F'): {'V0': 2.4, 'V1': 2.4},\n",
       " ('F', 'F', 'T', 'T'): {'V0': 5.0, 'V1': 5.0},\n",
       " ('F', 'T', 'F', 'F'): {'V0': 5.0, 'V1': 0.0},\n",
       " ('F', 'T', 'F', 'T'): {'V0': 5.0, 'V1': 5.1},\n",
       " ('T', '?', '?', 'T'): {'V0': 3.6, 'V1': 3.6},\n",
       " ('T', 'F', 'F', 'F'): {'V0': 1.2999999999999998, 'V1': 0.0},\n",
       " ('T', 'F', 'F', 'T'): {'V0': 4.2, 'V1': 3.6},\n",
       " ('T', 'F', 'T', 'F'): {'V0': 0.0, 'V1': 0.0},\n",
       " ('T', 'T', 'F', 'F'): {'V0': 0.5, 'V1': 0.0}}"
      ]
     },
     "execution_count": 7,
     "metadata": {},
     "output_type": "execute_result"
    }
   ],
   "source": [
    "dict_dl"
   ]
  },
  {
   "cell_type": "code",
   "execution_count": 8,
   "metadata": {
    "tags": []
   },
   "outputs": [],
   "source": [
    "# this function defines and plots the \"Design\" labels\n",
    "\n",
    "def plotdesignlabels(ax):\n",
    "    \n",
    "    dum0 = df_dl.groupby(['F1','F2','F3','F4','S']).mean().reset_index()\n",
    "    for i in dum0.index:\n",
    "        cond = (\n",
    "            df_dl.loc[:,'S']==dum0.loc[i,'S']) & (\n",
    "            df_dl.loc[:,'F1']==dum0.loc[i,'F1']) & (\n",
    "            df_dl.loc[:,'F2']==dum0.loc[i,'F2']) & (\n",
    "            df_dl.loc[:,'F3']==dum0.loc[i,'F3']) & (\n",
    "            df_dl.loc[:,'F4']==dum0.loc[i,'F4'])\n",
    "        S = df_dl.loc[cond,'S']\n",
    "        V0 = df_dl.loc[cond,'V0']\n",
    "        V1 = df_dl.loc[cond,'V1']\n",
    "        ax.scatter3D(V0,V1,S, zdir='z', color=str(i/len(dum0.index)), marker='v', \n",
    "                     label = 'S='+str(\n",
    "                         dum0.loc[i,'S'])+',F1='+str(\n",
    "                         dum0.loc[i,'F1'])+',F2='+str(\n",
    "                         dum0.loc[i,'F2'])+',F3='+str(\n",
    "                         dum0.loc[i,'F3'])+',F4='+str(\n",
    "                         dum0.loc[i,'F4'])+' DL', \n",
    "                     s=100*i+50)\n"
   ]
  },
  {
   "cell_type": "code",
   "execution_count": 9,
   "metadata": {},
   "outputs": [
    {
     "ename": "ValueError",
     "evalue": "could not convert string to float: 'power_off'",
     "output_type": "error",
     "traceback": [
      "\u001b[1;31m---------------------------------------------------------------------------\u001b[0m",
      "\u001b[1;31mValueError\u001b[0m                                Traceback (most recent call last)",
      "\u001b[1;32m<ipython-input-9-f2b067ffe6fe>\u001b[0m in \u001b[0;36m<module>\u001b[1;34m\u001b[0m\n\u001b[0;32m      5\u001b[0m \u001b[0max\u001b[0m \u001b[1;33m=\u001b[0m \u001b[0mfig\u001b[0m\u001b[1;33m.\u001b[0m\u001b[0madd_subplot\u001b[0m\u001b[1;33m(\u001b[0m\u001b[1;36m1\u001b[0m\u001b[1;33m,\u001b[0m\u001b[1;36m1\u001b[0m\u001b[1;33m,\u001b[0m\u001b[1;36m1\u001b[0m\u001b[1;33m,\u001b[0m \u001b[0mprojection\u001b[0m\u001b[1;33m=\u001b[0m\u001b[1;34m'3d'\u001b[0m\u001b[1;33m)\u001b[0m\u001b[1;33m\u001b[0m\u001b[1;33m\u001b[0m\u001b[0m\n\u001b[0;32m      6\u001b[0m \u001b[1;33m\u001b[0m\u001b[0m\n\u001b[1;32m----> 7\u001b[1;33m \u001b[0mplotdesignlabels\u001b[0m\u001b[1;33m(\u001b[0m\u001b[0max\u001b[0m\u001b[1;33m)\u001b[0m\u001b[1;33m\u001b[0m\u001b[1;33m\u001b[0m\u001b[0m\n\u001b[0m\u001b[0;32m      8\u001b[0m \u001b[1;33m\u001b[0m\u001b[0m\n\u001b[0;32m      9\u001b[0m \u001b[0max\u001b[0m\u001b[1;33m.\u001b[0m\u001b[0mset_xlabel\u001b[0m\u001b[1;33m(\u001b[0m\u001b[1;34m'V0'\u001b[0m\u001b[1;33m)\u001b[0m\u001b[1;33m,\u001b[0m \u001b[0max\u001b[0m\u001b[1;33m.\u001b[0m\u001b[0mset_ylabel\u001b[0m\u001b[1;33m(\u001b[0m\u001b[1;34m'V1'\u001b[0m\u001b[1;33m)\u001b[0m\u001b[1;33m,\u001b[0m\u001b[0max\u001b[0m\u001b[1;33m.\u001b[0m\u001b[0mset_zlabel\u001b[0m\u001b[1;33m(\u001b[0m\u001b[1;34m'S'\u001b[0m\u001b[1;33m)\u001b[0m\u001b[1;33m\u001b[0m\u001b[1;33m\u001b[0m\u001b[0m\n",
      "\u001b[1;32m<ipython-input-8-c7248354dc9b>\u001b[0m in \u001b[0;36mplotdesignlabels\u001b[1;34m(ax)\u001b[0m\n\u001b[0;32m     14\u001b[0m         \u001b[0mV0\u001b[0m \u001b[1;33m=\u001b[0m \u001b[0mdf_dl\u001b[0m\u001b[1;33m.\u001b[0m\u001b[0mloc\u001b[0m\u001b[1;33m[\u001b[0m\u001b[0mcond\u001b[0m\u001b[1;33m,\u001b[0m\u001b[1;34m'V0'\u001b[0m\u001b[1;33m]\u001b[0m\u001b[1;33m\u001b[0m\u001b[1;33m\u001b[0m\u001b[0m\n\u001b[0;32m     15\u001b[0m         \u001b[0mV1\u001b[0m \u001b[1;33m=\u001b[0m \u001b[0mdf_dl\u001b[0m\u001b[1;33m.\u001b[0m\u001b[0mloc\u001b[0m\u001b[1;33m[\u001b[0m\u001b[0mcond\u001b[0m\u001b[1;33m,\u001b[0m\u001b[1;34m'V1'\u001b[0m\u001b[1;33m]\u001b[0m\u001b[1;33m\u001b[0m\u001b[1;33m\u001b[0m\u001b[0m\n\u001b[1;32m---> 16\u001b[1;33m         ax.scatter3D(V0,V1,S, zdir='z', color=str(i/len(dum0.index)), marker='v', \n\u001b[0m\u001b[0;32m     17\u001b[0m                      label = 'S='+str(\n\u001b[0;32m     18\u001b[0m                          \u001b[0mdum0\u001b[0m\u001b[1;33m.\u001b[0m\u001b[0mloc\u001b[0m\u001b[1;33m[\u001b[0m\u001b[0mi\u001b[0m\u001b[1;33m,\u001b[0m\u001b[1;34m'S'\u001b[0m\u001b[1;33m]\u001b[0m\u001b[1;33m)\u001b[0m\u001b[1;33m+\u001b[0m\u001b[1;34m',F1='\u001b[0m\u001b[1;33m+\u001b[0m\u001b[0mstr\u001b[0m\u001b[1;33m(\u001b[0m\u001b[1;33m\u001b[0m\u001b[1;33m\u001b[0m\u001b[0m\n",
      "\u001b[1;32m~\\anaconda3\\lib\\site-packages\\mpl_toolkits\\mplot3d\\axes3d.py\u001b[0m in \u001b[0;36mscatter\u001b[1;34m(self, xs, ys, zs, zdir, s, c, depthshade, *args, **kwargs)\u001b[0m\n\u001b[0;32m   2317\u001b[0m             \u001b[0mself\u001b[0m\u001b[1;33m.\u001b[0m\u001b[0mset_zmargin\u001b[0m\u001b[1;33m(\u001b[0m\u001b[1;36m0.05\u001b[0m\u001b[1;33m)\u001b[0m\u001b[1;33m\u001b[0m\u001b[1;33m\u001b[0m\u001b[0m\n\u001b[0;32m   2318\u001b[0m \u001b[1;33m\u001b[0m\u001b[0m\n\u001b[1;32m-> 2319\u001b[1;33m         \u001b[0mself\u001b[0m\u001b[1;33m.\u001b[0m\u001b[0mauto_scale_xyz\u001b[0m\u001b[1;33m(\u001b[0m\u001b[0mxs\u001b[0m\u001b[1;33m,\u001b[0m \u001b[0mys\u001b[0m\u001b[1;33m,\u001b[0m \u001b[0mzs\u001b[0m\u001b[1;33m,\u001b[0m \u001b[0mhad_data\u001b[0m\u001b[1;33m)\u001b[0m\u001b[1;33m\u001b[0m\u001b[1;33m\u001b[0m\u001b[0m\n\u001b[0m\u001b[0;32m   2320\u001b[0m \u001b[1;33m\u001b[0m\u001b[0m\n\u001b[0;32m   2321\u001b[0m         \u001b[1;32mreturn\u001b[0m \u001b[0mpatches\u001b[0m\u001b[1;33m\u001b[0m\u001b[1;33m\u001b[0m\u001b[0m\n",
      "\u001b[1;32m~\\anaconda3\\lib\\site-packages\\mpl_toolkits\\mplot3d\\axes3d.py\u001b[0m in \u001b[0;36mauto_scale_xyz\u001b[1;34m(self, X, Y, Z, had_data)\u001b[0m\n\u001b[0;32m    651\u001b[0m         \u001b[1;32mif\u001b[0m \u001b[0mZ\u001b[0m \u001b[1;32mis\u001b[0m \u001b[1;32mnot\u001b[0m \u001b[1;32mNone\u001b[0m\u001b[1;33m:\u001b[0m\u001b[1;33m\u001b[0m\u001b[1;33m\u001b[0m\u001b[0m\n\u001b[0;32m    652\u001b[0m             \u001b[0mZ\u001b[0m \u001b[1;33m=\u001b[0m \u001b[0mnp\u001b[0m\u001b[1;33m.\u001b[0m\u001b[0mreshape\u001b[0m\u001b[1;33m(\u001b[0m\u001b[0mZ\u001b[0m\u001b[1;33m,\u001b[0m \u001b[1;33m-\u001b[0m\u001b[1;36m1\u001b[0m\u001b[1;33m)\u001b[0m\u001b[1;33m\u001b[0m\u001b[1;33m\u001b[0m\u001b[0m\n\u001b[1;32m--> 653\u001b[1;33m             self.zz_dataLim.update_from_data_xy(\n\u001b[0m\u001b[0;32m    654\u001b[0m                 np.column_stack([Z, Z]), not had_data)\n\u001b[0;32m    655\u001b[0m         \u001b[1;31m# Let autoscale_view figure out how to use this data.\u001b[0m\u001b[1;33m\u001b[0m\u001b[1;33m\u001b[0m\u001b[1;33m\u001b[0m\u001b[0m\n",
      "\u001b[1;32m~\\anaconda3\\lib\\site-packages\\matplotlib\\transforms.py\u001b[0m in \u001b[0;36mupdate_from_data_xy\u001b[1;34m(self, xy, ignore, updatex, updatey)\u001b[0m\n\u001b[0;32m    905\u001b[0m             \u001b[1;32mreturn\u001b[0m\u001b[1;33m\u001b[0m\u001b[1;33m\u001b[0m\u001b[0m\n\u001b[0;32m    906\u001b[0m \u001b[1;33m\u001b[0m\u001b[0m\n\u001b[1;32m--> 907\u001b[1;33m         \u001b[0mpath\u001b[0m \u001b[1;33m=\u001b[0m \u001b[0mPath\u001b[0m\u001b[1;33m(\u001b[0m\u001b[0mxy\u001b[0m\u001b[1;33m)\u001b[0m\u001b[1;33m\u001b[0m\u001b[1;33m\u001b[0m\u001b[0m\n\u001b[0m\u001b[0;32m    908\u001b[0m         self.update_from_path(path, ignore=ignore,\n\u001b[0;32m    909\u001b[0m                               updatex=updatex, updatey=updatey)\n",
      "\u001b[1;32m~\\anaconda3\\lib\\site-packages\\matplotlib\\path.py\u001b[0m in \u001b[0;36m__init__\u001b[1;34m(self, vertices, codes, _interpolation_steps, closed, readonly)\u001b[0m\n\u001b[0;32m    129\u001b[0m             \u001b[1;32mand\u001b[0m \u001b[0mcodes\u001b[0m \u001b[1;32mas\u001b[0m \u001b[0mread\u001b[0m\u001b[1;33m-\u001b[0m\u001b[0monly\u001b[0m \u001b[0marrays\u001b[0m\u001b[1;33m.\u001b[0m\u001b[1;33m\u001b[0m\u001b[1;33m\u001b[0m\u001b[0m\n\u001b[0;32m    130\u001b[0m         \"\"\"\n\u001b[1;32m--> 131\u001b[1;33m         \u001b[0mvertices\u001b[0m \u001b[1;33m=\u001b[0m \u001b[0m_to_unmasked_float_array\u001b[0m\u001b[1;33m(\u001b[0m\u001b[0mvertices\u001b[0m\u001b[1;33m)\u001b[0m\u001b[1;33m\u001b[0m\u001b[1;33m\u001b[0m\u001b[0m\n\u001b[0m\u001b[0;32m    132\u001b[0m         \u001b[0mcbook\u001b[0m\u001b[1;33m.\u001b[0m\u001b[0m_check_shape\u001b[0m\u001b[1;33m(\u001b[0m\u001b[1;33m(\u001b[0m\u001b[1;32mNone\u001b[0m\u001b[1;33m,\u001b[0m \u001b[1;36m2\u001b[0m\u001b[1;33m)\u001b[0m\u001b[1;33m,\u001b[0m \u001b[0mvertices\u001b[0m\u001b[1;33m=\u001b[0m\u001b[0mvertices\u001b[0m\u001b[1;33m)\u001b[0m\u001b[1;33m\u001b[0m\u001b[1;33m\u001b[0m\u001b[0m\n\u001b[0;32m    133\u001b[0m \u001b[1;33m\u001b[0m\u001b[0m\n",
      "\u001b[1;32m~\\anaconda3\\lib\\site-packages\\matplotlib\\cbook\\__init__.py\u001b[0m in \u001b[0;36m_to_unmasked_float_array\u001b[1;34m(x)\u001b[0m\n\u001b[0;32m   1287\u001b[0m         \u001b[1;32mreturn\u001b[0m \u001b[0mnp\u001b[0m\u001b[1;33m.\u001b[0m\u001b[0mma\u001b[0m\u001b[1;33m.\u001b[0m\u001b[0masarray\u001b[0m\u001b[1;33m(\u001b[0m\u001b[0mx\u001b[0m\u001b[1;33m,\u001b[0m \u001b[0mfloat\u001b[0m\u001b[1;33m)\u001b[0m\u001b[1;33m.\u001b[0m\u001b[0mfilled\u001b[0m\u001b[1;33m(\u001b[0m\u001b[0mnp\u001b[0m\u001b[1;33m.\u001b[0m\u001b[0mnan\u001b[0m\u001b[1;33m)\u001b[0m\u001b[1;33m\u001b[0m\u001b[1;33m\u001b[0m\u001b[0m\n\u001b[0;32m   1288\u001b[0m     \u001b[1;32melse\u001b[0m\u001b[1;33m:\u001b[0m\u001b[1;33m\u001b[0m\u001b[1;33m\u001b[0m\u001b[0m\n\u001b[1;32m-> 1289\u001b[1;33m         \u001b[1;32mreturn\u001b[0m \u001b[0mnp\u001b[0m\u001b[1;33m.\u001b[0m\u001b[0masarray\u001b[0m\u001b[1;33m(\u001b[0m\u001b[0mx\u001b[0m\u001b[1;33m,\u001b[0m \u001b[0mfloat\u001b[0m\u001b[1;33m)\u001b[0m\u001b[1;33m\u001b[0m\u001b[1;33m\u001b[0m\u001b[0m\n\u001b[0m\u001b[0;32m   1290\u001b[0m \u001b[1;33m\u001b[0m\u001b[0m\n\u001b[0;32m   1291\u001b[0m \u001b[1;33m\u001b[0m\u001b[0m\n",
      "\u001b[1;32m~\\anaconda3\\lib\\site-packages\\numpy\\core\\_asarray.py\u001b[0m in \u001b[0;36masarray\u001b[1;34m(a, dtype, order, like)\u001b[0m\n\u001b[0;32m    100\u001b[0m         \u001b[1;32mreturn\u001b[0m \u001b[0m_asarray_with_like\u001b[0m\u001b[1;33m(\u001b[0m\u001b[0ma\u001b[0m\u001b[1;33m,\u001b[0m \u001b[0mdtype\u001b[0m\u001b[1;33m=\u001b[0m\u001b[0mdtype\u001b[0m\u001b[1;33m,\u001b[0m \u001b[0morder\u001b[0m\u001b[1;33m=\u001b[0m\u001b[0morder\u001b[0m\u001b[1;33m,\u001b[0m \u001b[0mlike\u001b[0m\u001b[1;33m=\u001b[0m\u001b[0mlike\u001b[0m\u001b[1;33m)\u001b[0m\u001b[1;33m\u001b[0m\u001b[1;33m\u001b[0m\u001b[0m\n\u001b[0;32m    101\u001b[0m \u001b[1;33m\u001b[0m\u001b[0m\n\u001b[1;32m--> 102\u001b[1;33m     \u001b[1;32mreturn\u001b[0m \u001b[0marray\u001b[0m\u001b[1;33m(\u001b[0m\u001b[0ma\u001b[0m\u001b[1;33m,\u001b[0m \u001b[0mdtype\u001b[0m\u001b[1;33m,\u001b[0m \u001b[0mcopy\u001b[0m\u001b[1;33m=\u001b[0m\u001b[1;32mFalse\u001b[0m\u001b[1;33m,\u001b[0m \u001b[0morder\u001b[0m\u001b[1;33m=\u001b[0m\u001b[0morder\u001b[0m\u001b[1;33m)\u001b[0m\u001b[1;33m\u001b[0m\u001b[1;33m\u001b[0m\u001b[0m\n\u001b[0m\u001b[0;32m    103\u001b[0m \u001b[1;33m\u001b[0m\u001b[0m\n\u001b[0;32m    104\u001b[0m \u001b[1;33m\u001b[0m\u001b[0m\n",
      "\u001b[1;31mValueError\u001b[0m: could not convert string to float: 'power_off'"
     ]
    },
    {
     "ename": "TypeError",
     "evalue": "can't multiply sequence by non-int of type 'float'",
     "output_type": "error",
     "traceback": [
      "\u001b[1;31m---------------------------------------------------------------------------\u001b[0m",
      "\u001b[1;31mTypeError\u001b[0m                                 Traceback (most recent call last)",
      "\u001b[1;32m~\\anaconda3\\lib\\site-packages\\IPython\\core\\formatters.py\u001b[0m in \u001b[0;36m__call__\u001b[1;34m(self, obj)\u001b[0m\n\u001b[0;32m    339\u001b[0m                 \u001b[1;32mpass\u001b[0m\u001b[1;33m\u001b[0m\u001b[1;33m\u001b[0m\u001b[0m\n\u001b[0;32m    340\u001b[0m             \u001b[1;32melse\u001b[0m\u001b[1;33m:\u001b[0m\u001b[1;33m\u001b[0m\u001b[1;33m\u001b[0m\u001b[0m\n\u001b[1;32m--> 341\u001b[1;33m                 \u001b[1;32mreturn\u001b[0m \u001b[0mprinter\u001b[0m\u001b[1;33m(\u001b[0m\u001b[0mobj\u001b[0m\u001b[1;33m)\u001b[0m\u001b[1;33m\u001b[0m\u001b[1;33m\u001b[0m\u001b[0m\n\u001b[0m\u001b[0;32m    342\u001b[0m             \u001b[1;31m# Finally look for special method names\u001b[0m\u001b[1;33m\u001b[0m\u001b[1;33m\u001b[0m\u001b[1;33m\u001b[0m\u001b[0m\n\u001b[0;32m    343\u001b[0m             \u001b[0mmethod\u001b[0m \u001b[1;33m=\u001b[0m \u001b[0mget_real_method\u001b[0m\u001b[1;33m(\u001b[0m\u001b[0mobj\u001b[0m\u001b[1;33m,\u001b[0m \u001b[0mself\u001b[0m\u001b[1;33m.\u001b[0m\u001b[0mprint_method\u001b[0m\u001b[1;33m)\u001b[0m\u001b[1;33m\u001b[0m\u001b[1;33m\u001b[0m\u001b[0m\n",
      "\u001b[1;32m~\\anaconda3\\lib\\site-packages\\IPython\\core\\pylabtools.py\u001b[0m in \u001b[0;36m<lambda>\u001b[1;34m(fig)\u001b[0m\n\u001b[0;32m    246\u001b[0m \u001b[1;33m\u001b[0m\u001b[0m\n\u001b[0;32m    247\u001b[0m     \u001b[1;32mif\u001b[0m \u001b[1;34m'png'\u001b[0m \u001b[1;32min\u001b[0m \u001b[0mformats\u001b[0m\u001b[1;33m:\u001b[0m\u001b[1;33m\u001b[0m\u001b[1;33m\u001b[0m\u001b[0m\n\u001b[1;32m--> 248\u001b[1;33m         \u001b[0mpng_formatter\u001b[0m\u001b[1;33m.\u001b[0m\u001b[0mfor_type\u001b[0m\u001b[1;33m(\u001b[0m\u001b[0mFigure\u001b[0m\u001b[1;33m,\u001b[0m \u001b[1;32mlambda\u001b[0m \u001b[0mfig\u001b[0m\u001b[1;33m:\u001b[0m \u001b[0mprint_figure\u001b[0m\u001b[1;33m(\u001b[0m\u001b[0mfig\u001b[0m\u001b[1;33m,\u001b[0m \u001b[1;34m'png'\u001b[0m\u001b[1;33m,\u001b[0m \u001b[1;33m**\u001b[0m\u001b[0mkwargs\u001b[0m\u001b[1;33m)\u001b[0m\u001b[1;33m)\u001b[0m\u001b[1;33m\u001b[0m\u001b[1;33m\u001b[0m\u001b[0m\n\u001b[0m\u001b[0;32m    249\u001b[0m     \u001b[1;32mif\u001b[0m \u001b[1;34m'retina'\u001b[0m \u001b[1;32min\u001b[0m \u001b[0mformats\u001b[0m \u001b[1;32mor\u001b[0m \u001b[1;34m'png2x'\u001b[0m \u001b[1;32min\u001b[0m \u001b[0mformats\u001b[0m\u001b[1;33m:\u001b[0m\u001b[1;33m\u001b[0m\u001b[1;33m\u001b[0m\u001b[0m\n\u001b[0;32m    250\u001b[0m         \u001b[0mpng_formatter\u001b[0m\u001b[1;33m.\u001b[0m\u001b[0mfor_type\u001b[0m\u001b[1;33m(\u001b[0m\u001b[0mFigure\u001b[0m\u001b[1;33m,\u001b[0m \u001b[1;32mlambda\u001b[0m \u001b[0mfig\u001b[0m\u001b[1;33m:\u001b[0m \u001b[0mretina_figure\u001b[0m\u001b[1;33m(\u001b[0m\u001b[0mfig\u001b[0m\u001b[1;33m,\u001b[0m \u001b[1;33m**\u001b[0m\u001b[0mkwargs\u001b[0m\u001b[1;33m)\u001b[0m\u001b[1;33m)\u001b[0m\u001b[1;33m\u001b[0m\u001b[1;33m\u001b[0m\u001b[0m\n",
      "\u001b[1;32m~\\anaconda3\\lib\\site-packages\\IPython\\core\\pylabtools.py\u001b[0m in \u001b[0;36mprint_figure\u001b[1;34m(fig, fmt, bbox_inches, **kwargs)\u001b[0m\n\u001b[0;32m    130\u001b[0m         \u001b[0mFigureCanvasBase\u001b[0m\u001b[1;33m(\u001b[0m\u001b[0mfig\u001b[0m\u001b[1;33m)\u001b[0m\u001b[1;33m\u001b[0m\u001b[1;33m\u001b[0m\u001b[0m\n\u001b[0;32m    131\u001b[0m \u001b[1;33m\u001b[0m\u001b[0m\n\u001b[1;32m--> 132\u001b[1;33m     \u001b[0mfig\u001b[0m\u001b[1;33m.\u001b[0m\u001b[0mcanvas\u001b[0m\u001b[1;33m.\u001b[0m\u001b[0mprint_figure\u001b[0m\u001b[1;33m(\u001b[0m\u001b[0mbytes_io\u001b[0m\u001b[1;33m,\u001b[0m \u001b[1;33m**\u001b[0m\u001b[0mkw\u001b[0m\u001b[1;33m)\u001b[0m\u001b[1;33m\u001b[0m\u001b[1;33m\u001b[0m\u001b[0m\n\u001b[0m\u001b[0;32m    133\u001b[0m     \u001b[0mdata\u001b[0m \u001b[1;33m=\u001b[0m \u001b[0mbytes_io\u001b[0m\u001b[1;33m.\u001b[0m\u001b[0mgetvalue\u001b[0m\u001b[1;33m(\u001b[0m\u001b[1;33m)\u001b[0m\u001b[1;33m\u001b[0m\u001b[1;33m\u001b[0m\u001b[0m\n\u001b[0;32m    134\u001b[0m     \u001b[1;32mif\u001b[0m \u001b[0mfmt\u001b[0m \u001b[1;33m==\u001b[0m \u001b[1;34m'svg'\u001b[0m\u001b[1;33m:\u001b[0m\u001b[1;33m\u001b[0m\u001b[1;33m\u001b[0m\u001b[0m\n",
      "\u001b[1;32m~\\anaconda3\\lib\\site-packages\\matplotlib\\backend_bases.py\u001b[0m in \u001b[0;36mprint_figure\u001b[1;34m(self, filename, dpi, facecolor, edgecolor, orientation, format, bbox_inches, pad_inches, bbox_extra_artists, backend, **kwargs)\u001b[0m\n\u001b[0;32m   2191\u001b[0m                            else suppress())\n\u001b[0;32m   2192\u001b[0m                     \u001b[1;32mwith\u001b[0m \u001b[0mctx\u001b[0m\u001b[1;33m:\u001b[0m\u001b[1;33m\u001b[0m\u001b[1;33m\u001b[0m\u001b[0m\n\u001b[1;32m-> 2193\u001b[1;33m                         \u001b[0mself\u001b[0m\u001b[1;33m.\u001b[0m\u001b[0mfigure\u001b[0m\u001b[1;33m.\u001b[0m\u001b[0mdraw\u001b[0m\u001b[1;33m(\u001b[0m\u001b[0mrenderer\u001b[0m\u001b[1;33m)\u001b[0m\u001b[1;33m\u001b[0m\u001b[1;33m\u001b[0m\u001b[0m\n\u001b[0m\u001b[0;32m   2194\u001b[0m \u001b[1;33m\u001b[0m\u001b[0m\n\u001b[0;32m   2195\u001b[0m                     bbox_inches = self.figure.get_tightbbox(\n",
      "\u001b[1;32m~\\anaconda3\\lib\\site-packages\\matplotlib\\artist.py\u001b[0m in \u001b[0;36mdraw_wrapper\u001b[1;34m(artist, renderer, *args, **kwargs)\u001b[0m\n\u001b[0;32m     39\u001b[0m                 \u001b[0mrenderer\u001b[0m\u001b[1;33m.\u001b[0m\u001b[0mstart_filter\u001b[0m\u001b[1;33m(\u001b[0m\u001b[1;33m)\u001b[0m\u001b[1;33m\u001b[0m\u001b[1;33m\u001b[0m\u001b[0m\n\u001b[0;32m     40\u001b[0m \u001b[1;33m\u001b[0m\u001b[0m\n\u001b[1;32m---> 41\u001b[1;33m             \u001b[1;32mreturn\u001b[0m \u001b[0mdraw\u001b[0m\u001b[1;33m(\u001b[0m\u001b[0martist\u001b[0m\u001b[1;33m,\u001b[0m \u001b[0mrenderer\u001b[0m\u001b[1;33m,\u001b[0m \u001b[1;33m*\u001b[0m\u001b[0margs\u001b[0m\u001b[1;33m,\u001b[0m \u001b[1;33m**\u001b[0m\u001b[0mkwargs\u001b[0m\u001b[1;33m)\u001b[0m\u001b[1;33m\u001b[0m\u001b[1;33m\u001b[0m\u001b[0m\n\u001b[0m\u001b[0;32m     42\u001b[0m         \u001b[1;32mfinally\u001b[0m\u001b[1;33m:\u001b[0m\u001b[1;33m\u001b[0m\u001b[1;33m\u001b[0m\u001b[0m\n\u001b[0;32m     43\u001b[0m             \u001b[1;32mif\u001b[0m \u001b[0martist\u001b[0m\u001b[1;33m.\u001b[0m\u001b[0mget_agg_filter\u001b[0m\u001b[1;33m(\u001b[0m\u001b[1;33m)\u001b[0m \u001b[1;32mis\u001b[0m \u001b[1;32mnot\u001b[0m \u001b[1;32mNone\u001b[0m\u001b[1;33m:\u001b[0m\u001b[1;33m\u001b[0m\u001b[1;33m\u001b[0m\u001b[0m\n",
      "\u001b[1;32m~\\anaconda3\\lib\\site-packages\\matplotlib\\figure.py\u001b[0m in \u001b[0;36mdraw\u001b[1;34m(self, renderer)\u001b[0m\n\u001b[0;32m   1861\u001b[0m \u001b[1;33m\u001b[0m\u001b[0m\n\u001b[0;32m   1862\u001b[0m             \u001b[0mself\u001b[0m\u001b[1;33m.\u001b[0m\u001b[0mpatch\u001b[0m\u001b[1;33m.\u001b[0m\u001b[0mdraw\u001b[0m\u001b[1;33m(\u001b[0m\u001b[0mrenderer\u001b[0m\u001b[1;33m)\u001b[0m\u001b[1;33m\u001b[0m\u001b[1;33m\u001b[0m\u001b[0m\n\u001b[1;32m-> 1863\u001b[1;33m             mimage._draw_list_compositing_images(\n\u001b[0m\u001b[0;32m   1864\u001b[0m                 renderer, self, artists, self.suppressComposite)\n\u001b[0;32m   1865\u001b[0m \u001b[1;33m\u001b[0m\u001b[0m\n",
      "\u001b[1;32m~\\anaconda3\\lib\\site-packages\\matplotlib\\image.py\u001b[0m in \u001b[0;36m_draw_list_compositing_images\u001b[1;34m(renderer, parent, artists, suppress_composite)\u001b[0m\n\u001b[0;32m    129\u001b[0m     \u001b[1;32mif\u001b[0m \u001b[0mnot_composite\u001b[0m \u001b[1;32mor\u001b[0m \u001b[1;32mnot\u001b[0m \u001b[0mhas_images\u001b[0m\u001b[1;33m:\u001b[0m\u001b[1;33m\u001b[0m\u001b[1;33m\u001b[0m\u001b[0m\n\u001b[0;32m    130\u001b[0m         \u001b[1;32mfor\u001b[0m \u001b[0ma\u001b[0m \u001b[1;32min\u001b[0m \u001b[0martists\u001b[0m\u001b[1;33m:\u001b[0m\u001b[1;33m\u001b[0m\u001b[1;33m\u001b[0m\u001b[0m\n\u001b[1;32m--> 131\u001b[1;33m             \u001b[0ma\u001b[0m\u001b[1;33m.\u001b[0m\u001b[0mdraw\u001b[0m\u001b[1;33m(\u001b[0m\u001b[0mrenderer\u001b[0m\u001b[1;33m)\u001b[0m\u001b[1;33m\u001b[0m\u001b[1;33m\u001b[0m\u001b[0m\n\u001b[0m\u001b[0;32m    132\u001b[0m     \u001b[1;32melse\u001b[0m\u001b[1;33m:\u001b[0m\u001b[1;33m\u001b[0m\u001b[1;33m\u001b[0m\u001b[0m\n\u001b[0;32m    133\u001b[0m         \u001b[1;31m# Composite any adjacent images together\u001b[0m\u001b[1;33m\u001b[0m\u001b[1;33m\u001b[0m\u001b[1;33m\u001b[0m\u001b[0m\n",
      "\u001b[1;32m~\\anaconda3\\lib\\site-packages\\matplotlib\\artist.py\u001b[0m in \u001b[0;36mdraw_wrapper\u001b[1;34m(artist, renderer, *args, **kwargs)\u001b[0m\n\u001b[0;32m     39\u001b[0m                 \u001b[0mrenderer\u001b[0m\u001b[1;33m.\u001b[0m\u001b[0mstart_filter\u001b[0m\u001b[1;33m(\u001b[0m\u001b[1;33m)\u001b[0m\u001b[1;33m\u001b[0m\u001b[1;33m\u001b[0m\u001b[0m\n\u001b[0;32m     40\u001b[0m \u001b[1;33m\u001b[0m\u001b[0m\n\u001b[1;32m---> 41\u001b[1;33m             \u001b[1;32mreturn\u001b[0m \u001b[0mdraw\u001b[0m\u001b[1;33m(\u001b[0m\u001b[0martist\u001b[0m\u001b[1;33m,\u001b[0m \u001b[0mrenderer\u001b[0m\u001b[1;33m,\u001b[0m \u001b[1;33m*\u001b[0m\u001b[0margs\u001b[0m\u001b[1;33m,\u001b[0m \u001b[1;33m**\u001b[0m\u001b[0mkwargs\u001b[0m\u001b[1;33m)\u001b[0m\u001b[1;33m\u001b[0m\u001b[1;33m\u001b[0m\u001b[0m\n\u001b[0m\u001b[0;32m     42\u001b[0m         \u001b[1;32mfinally\u001b[0m\u001b[1;33m:\u001b[0m\u001b[1;33m\u001b[0m\u001b[1;33m\u001b[0m\u001b[0m\n\u001b[0;32m     43\u001b[0m             \u001b[1;32mif\u001b[0m \u001b[0martist\u001b[0m\u001b[1;33m.\u001b[0m\u001b[0mget_agg_filter\u001b[0m\u001b[1;33m(\u001b[0m\u001b[1;33m)\u001b[0m \u001b[1;32mis\u001b[0m \u001b[1;32mnot\u001b[0m \u001b[1;32mNone\u001b[0m\u001b[1;33m:\u001b[0m\u001b[1;33m\u001b[0m\u001b[1;33m\u001b[0m\u001b[0m\n",
      "\u001b[1;32m~\\anaconda3\\lib\\site-packages\\mpl_toolkits\\mplot3d\\axes3d.py\u001b[0m in \u001b[0;36mdraw\u001b[1;34m(self, renderer)\u001b[0m\n\u001b[0;32m    443\u001b[0m                             for axis in self._get_axis_list()) + 1\n\u001b[0;32m    444\u001b[0m         for i, col in enumerate(\n\u001b[1;32m--> 445\u001b[1;33m                 sorted(self.collections,\n\u001b[0m\u001b[0;32m    446\u001b[0m                        \u001b[0mkey\u001b[0m\u001b[1;33m=\u001b[0m\u001b[1;32mlambda\u001b[0m \u001b[0mcol\u001b[0m\u001b[1;33m:\u001b[0m \u001b[0mcol\u001b[0m\u001b[1;33m.\u001b[0m\u001b[0mdo_3d_projection\u001b[0m\u001b[1;33m(\u001b[0m\u001b[0mrenderer\u001b[0m\u001b[1;33m)\u001b[0m\u001b[1;33m,\u001b[0m\u001b[1;33m\u001b[0m\u001b[1;33m\u001b[0m\u001b[0m\n\u001b[0;32m    447\u001b[0m                        reverse=True)):\n",
      "\u001b[1;32m~\\anaconda3\\lib\\site-packages\\mpl_toolkits\\mplot3d\\axes3d.py\u001b[0m in \u001b[0;36m<lambda>\u001b[1;34m(col)\u001b[0m\n\u001b[0;32m    444\u001b[0m         for i, col in enumerate(\n\u001b[0;32m    445\u001b[0m                 sorted(self.collections,\n\u001b[1;32m--> 446\u001b[1;33m                        \u001b[0mkey\u001b[0m\u001b[1;33m=\u001b[0m\u001b[1;32mlambda\u001b[0m \u001b[0mcol\u001b[0m\u001b[1;33m:\u001b[0m \u001b[0mcol\u001b[0m\u001b[1;33m.\u001b[0m\u001b[0mdo_3d_projection\u001b[0m\u001b[1;33m(\u001b[0m\u001b[0mrenderer\u001b[0m\u001b[1;33m)\u001b[0m\u001b[1;33m,\u001b[0m\u001b[1;33m\u001b[0m\u001b[1;33m\u001b[0m\u001b[0m\n\u001b[0m\u001b[0;32m    447\u001b[0m                        reverse=True)):\n\u001b[0;32m    448\u001b[0m             \u001b[0mcol\u001b[0m\u001b[1;33m.\u001b[0m\u001b[0mzorder\u001b[0m \u001b[1;33m=\u001b[0m \u001b[0mzorder_offset\u001b[0m \u001b[1;33m+\u001b[0m \u001b[0mi\u001b[0m\u001b[1;33m\u001b[0m\u001b[1;33m\u001b[0m\u001b[0m\n",
      "\u001b[1;32m~\\anaconda3\\lib\\site-packages\\mpl_toolkits\\mplot3d\\art3d.py\u001b[0m in \u001b[0;36mdo_3d_projection\u001b[1;34m(self, renderer)\u001b[0m\n\u001b[0;32m    494\u001b[0m         \u001b[0m_update_scalarmappable\u001b[0m\u001b[1;33m(\u001b[0m\u001b[0mself\u001b[0m\u001b[1;33m)\u001b[0m\u001b[1;33m\u001b[0m\u001b[1;33m\u001b[0m\u001b[0m\n\u001b[0;32m    495\u001b[0m         \u001b[0mxs\u001b[0m\u001b[1;33m,\u001b[0m \u001b[0mys\u001b[0m\u001b[1;33m,\u001b[0m \u001b[0mzs\u001b[0m \u001b[1;33m=\u001b[0m \u001b[0mself\u001b[0m\u001b[1;33m.\u001b[0m\u001b[0m_offsets3d\u001b[0m\u001b[1;33m\u001b[0m\u001b[1;33m\u001b[0m\u001b[0m\n\u001b[1;32m--> 496\u001b[1;33m         \u001b[0mvxs\u001b[0m\u001b[1;33m,\u001b[0m \u001b[0mvys\u001b[0m\u001b[1;33m,\u001b[0m \u001b[0mvzs\u001b[0m\u001b[1;33m,\u001b[0m \u001b[0mvis\u001b[0m \u001b[1;33m=\u001b[0m \u001b[0mproj3d\u001b[0m\u001b[1;33m.\u001b[0m\u001b[0mproj_transform_clip\u001b[0m\u001b[1;33m(\u001b[0m\u001b[0mxs\u001b[0m\u001b[1;33m,\u001b[0m \u001b[0mys\u001b[0m\u001b[1;33m,\u001b[0m \u001b[0mzs\u001b[0m\u001b[1;33m,\u001b[0m \u001b[0mrenderer\u001b[0m\u001b[1;33m.\u001b[0m\u001b[0mM\u001b[0m\u001b[1;33m)\u001b[0m\u001b[1;33m\u001b[0m\u001b[1;33m\u001b[0m\u001b[0m\n\u001b[0m\u001b[0;32m    497\u001b[0m \u001b[1;33m\u001b[0m\u001b[0m\n\u001b[0;32m    498\u001b[0m         fcs = (_zalpha(self._facecolor3d, vzs) if self._depthshade else\n",
      "\u001b[1;32m~\\anaconda3\\lib\\site-packages\\mpl_toolkits\\mplot3d\\proj3d.py\u001b[0m in \u001b[0;36mproj_transform_clip\u001b[1;34m(xs, ys, zs, M)\u001b[0m\n\u001b[0;32m    155\u001b[0m     \"\"\"\n\u001b[0;32m    156\u001b[0m     \u001b[0mvec\u001b[0m \u001b[1;33m=\u001b[0m \u001b[0m_vec_pad_ones\u001b[0m\u001b[1;33m(\u001b[0m\u001b[0mxs\u001b[0m\u001b[1;33m,\u001b[0m \u001b[0mys\u001b[0m\u001b[1;33m,\u001b[0m \u001b[0mzs\u001b[0m\u001b[1;33m)\u001b[0m\u001b[1;33m\u001b[0m\u001b[1;33m\u001b[0m\u001b[0m\n\u001b[1;32m--> 157\u001b[1;33m     \u001b[1;32mreturn\u001b[0m \u001b[0m_proj_transform_vec_clip\u001b[0m\u001b[1;33m(\u001b[0m\u001b[0mvec\u001b[0m\u001b[1;33m,\u001b[0m \u001b[0mM\u001b[0m\u001b[1;33m)\u001b[0m\u001b[1;33m\u001b[0m\u001b[1;33m\u001b[0m\u001b[0m\n\u001b[0m\u001b[0;32m    158\u001b[0m \u001b[1;33m\u001b[0m\u001b[0m\n\u001b[0;32m    159\u001b[0m \u001b[1;33m\u001b[0m\u001b[0m\n",
      "\u001b[1;32m~\\anaconda3\\lib\\site-packages\\mpl_toolkits\\mplot3d\\proj3d.py\u001b[0m in \u001b[0;36m_proj_transform_vec_clip\u001b[1;34m(vec, M)\u001b[0m\n\u001b[0;32m    112\u001b[0m \u001b[1;33m\u001b[0m\u001b[0m\n\u001b[0;32m    113\u001b[0m \u001b[1;32mdef\u001b[0m \u001b[0m_proj_transform_vec_clip\u001b[0m\u001b[1;33m(\u001b[0m\u001b[0mvec\u001b[0m\u001b[1;33m,\u001b[0m \u001b[0mM\u001b[0m\u001b[1;33m)\u001b[0m\u001b[1;33m:\u001b[0m\u001b[1;33m\u001b[0m\u001b[1;33m\u001b[0m\u001b[0m\n\u001b[1;32m--> 114\u001b[1;33m     \u001b[0mvecw\u001b[0m \u001b[1;33m=\u001b[0m \u001b[0mnp\u001b[0m\u001b[1;33m.\u001b[0m\u001b[0mdot\u001b[0m\u001b[1;33m(\u001b[0m\u001b[0mM\u001b[0m\u001b[1;33m,\u001b[0m \u001b[0mvec\u001b[0m\u001b[1;33m)\u001b[0m\u001b[1;33m\u001b[0m\u001b[1;33m\u001b[0m\u001b[0m\n\u001b[0m\u001b[0;32m    115\u001b[0m     \u001b[0mw\u001b[0m \u001b[1;33m=\u001b[0m \u001b[0mvecw\u001b[0m\u001b[1;33m[\u001b[0m\u001b[1;36m3\u001b[0m\u001b[1;33m]\u001b[0m\u001b[1;33m\u001b[0m\u001b[1;33m\u001b[0m\u001b[0m\n\u001b[0;32m    116\u001b[0m     \u001b[1;31m# clip here.\u001b[0m\u001b[1;33m\u001b[0m\u001b[1;33m\u001b[0m\u001b[1;33m\u001b[0m\u001b[0m\n",
      "\u001b[1;32m<__array_function__ internals>\u001b[0m in \u001b[0;36mdot\u001b[1;34m(*args, **kwargs)\u001b[0m\n",
      "\u001b[1;31mTypeError\u001b[0m: can't multiply sequence by non-int of type 'float'"
     ]
    },
    {
     "data": {
      "text/plain": [
       "<Figure size 432x432 with 1 Axes>"
      ]
     },
     "metadata": {
      "needs_background": "light"
     },
     "output_type": "display_data"
    }
   ],
   "source": [
    "# Dump the plot\n",
    "\n",
    "fig = plt.figure(figsize = (6,6))\n",
    "plt.rcParams['font.size']=14\n",
    "ax = fig.add_subplot(1,1,1, projection='3d')\n",
    "\n",
    "plotdesignlabels(ax)\n",
    "\n",
    "ax.set_xlabel('V0'), ax.set_ylabel('V1'),ax.set_zlabel('S')\n",
    "ax.set_xlim(0,5),    ax.set_ylim(0,5),   ax.set_zlim(0,1)\n",
    "ax.set_title('')\n",
    "ax.legend(loc='right', bbox_to_anchor=(1.8, 0.8))\n",
    "ax.view_init(elev=25, azim=35)#, roll=0)\n"
   ]
  },
  {
   "cell_type": "code",
   "execution_count": null,
   "metadata": {},
   "outputs": [],
   "source": [
    "#the script below will load a labelled dataset and apply RF-classification to it..."
   ]
  },
  {
   "cell_type": "code",
   "execution_count": null,
   "metadata": {},
   "outputs": [],
   "source": [
    "#load some data in a pandas dataframe\n",
    "\n",
    "df = None\n",
    "\n",
    "# this data set represents the system during deployment\n",
    "\n",
    "#df =pd.read_excel(\"C:/Users/Admin/Pythonprojects/RAMS/data/Arduino_trainingset_3Vars.xlsx\", index_col=0)\n",
    "df = pd.read_excel(\"https://raw.githubusercontent.com/chrisrijsdijk/RAMS/master/data/Arduino_trainingset_3Vars.xlsx\", index_col=0)"
   ]
  },
  {
   "cell_type": "code",
   "execution_count": null,
   "metadata": {},
   "outputs": [],
   "source": [
    "# check the datatypes in the dataframe to verify that all columns are numerical\n",
    "\n",
    "df.dtypes"
   ]
  },
  {
   "cell_type": "code",
   "execution_count": null,
   "metadata": {},
   "outputs": [],
   "source": [
    "# get a preview on the data\n",
    "\n",
    "#df.head(3)\n",
    "df.describe()\n"
   ]
  },
  {
   "cell_type": "code",
   "execution_count": null,
   "metadata": {
    "tags": []
   },
   "outputs": [],
   "source": [
    "# this function defines and plots the \"training\" labels\n",
    "\n",
    "def plottraininglabels(ax):\n",
    "    \n",
    "    dum0 = df.groupby(['F1','F2','F3','F4','S']).mean().reset_index()\n",
    "    for i in dum0.index:\n",
    "        cond = (\n",
    "            df.loc[:,'S']==dum0.loc[i,'S']) & (\n",
    "            df.loc[:,'F1']==dum0.loc[i,'F1']) & (\n",
    "            df.loc[:,'F2']==dum0.loc[i,'F2']) & (\n",
    "            df.loc[:,'F3']==dum0.loc[i,'F3']) & (\n",
    "            df.loc[:,'F4']==dum0.loc[i,'F4'])\n",
    "        S = df.loc[cond,'S']\n",
    "        V0 = df.loc[cond,'V0']\n",
    "        V1 = df.loc[cond,'V1']\n",
    "        ax.scatter3D(V0,V1,S, zdir='z', color=str(i/len(dum0.index)), marker='.', \n",
    "                     label = 'S='+str(\n",
    "                         dum0.loc[i,'S'])+',F1='+str(\n",
    "                         dum0.loc[i,'F1'])+',F2='+str(\n",
    "                         dum0.loc[i,'F2'])+',F3='+str(\n",
    "                         dum0.loc[i,'F3'])+',F4='+str(\n",
    "                         dum0.loc[i,'F4'])+' Training', \n",
    "                     s=100*i+50)\n",
    "    "
   ]
  },
  {
   "cell_type": "code",
   "execution_count": null,
   "metadata": {},
   "outputs": [],
   "source": [
    "# Dump the plot\n",
    "\n",
    "fig = plt.figure(figsize = (6,6))\n",
    "plt.rcParams['font.size']=14\n",
    "ax = fig.add_subplot(1,1,1, projection='3d')\n",
    "\n",
    "plotdesignlabels(ax)\n",
    "plottraininglabels(ax)\n",
    "\n",
    "ax.set_xlabel('V0'), ax.set_ylabel('V1'),ax.set_zlabel('S')\n",
    "ax.set_xlim(0,5),    ax.set_ylim(0,5),   ax.set_zlim(0,1)\n",
    "ax.set_title('')\n",
    "ax.legend(loc='right', bbox_to_anchor=(1.8, 0.8))\n",
    "ax.view_init(elev=25, azim=35)#, roll=0)\n"
   ]
  },
  {
   "cell_type": "code",
   "execution_count": null,
   "metadata": {},
   "outputs": [],
   "source": [
    "# make a dictionary that maps the dummies to T(rue) F(alse) strings\n",
    "\n",
    "#failure_dict = {}\n",
    "\n",
    "#failure_dict[\"F1\"] = {0: \"F, \", 1:\"T, \"}\n",
    "#failure_dict[\"F2\"] = {0: \" F, \", 1:\" T, \"}\n",
    "#failure_dict[\"F3\"] = {0: \" F, \", 1:\" T, \"}\n",
    "#failure_dict[\"F4\"] = {0: \" F, \", 1:\" T, \"}\n"
   ]
  },
  {
   "cell_type": "code",
   "execution_count": null,
   "metadata": {},
   "outputs": [],
   "source": [
    "#In the following blocks the random forest model will be inferred using sklearn\n",
    "#This RF model should predict a fault from voltage readings and the switch position...\n",
    "\n",
    "#the steps are:\n",
    "# define the response variables and convert them into an np.array\n",
    "# define the explanatory variables\n",
    "# impute data in case of NaN's by using K nearest neighbours\n",
    "# define and fit the model\n",
    "# plot the importance of the various explanatory variables using Gini importance\n",
    "\n",
    "#I deliberately chose not to partition into a training set and a test set as I just validate the models using fresh input from the process\n",
    "\n",
    "from sklearn.impute import KNNImputer\n",
    "from sklearn.ensemble import RandomForestClassifier\n",
    "from sklearn import tree\n",
    "from sklearn.inspection import permutation_importance"
   ]
  },
  {
   "cell_type": "code",
   "execution_count": null,
   "metadata": {},
   "outputs": [],
   "source": [
    "# define the response variables and convert them into an np.array\n",
    "# note that each fault F1,...,F6 is a classifier that should be predicted\n",
    "    \n",
    "y_F1 = np.array(df[\"F1\"])\n",
    "y_F2 = np.array(df[\"F2\"])\n",
    "y_F3 = np.array(df[\"F3\"])\n",
    "y_F4 = np.array(df[\"F4\"])\n"
   ]
  },
  {
   "cell_type": "code",
   "execution_count": null,
   "metadata": {},
   "outputs": [],
   "source": [
    "# define the explanatory variables\n",
    "# note that the voltages and the switch position are the explanatory variables for the faults F1,...,F6\n",
    "\n",
    "X=df.iloc[:,[0,1,2]]                 #the order of the columns has just been changed for graphical convenience\n",
    "X_names=df.iloc[:,[0,1,2]].columns   #load a string of column names to label the output of the random forest model afterwards...\n",
    "\n",
    "X_names"
   ]
  },
  {
   "cell_type": "code",
   "execution_count": null,
   "metadata": {},
   "outputs": [],
   "source": [
    "# impute data in case of NaN's by using K nearest neighbours\n",
    "# the imputer also transforms X from a pd.DataFrame to a np.array as required for sklearn\n",
    "\n",
    "imputer = KNNImputer(n_neighbors=5, weights=\"distance\")\n",
    "X=imputer.fit_transform(X)"
   ]
  },
  {
   "cell_type": "code",
   "execution_count": null,
   "metadata": {
    "tags": []
   },
   "outputs": [],
   "source": [
    "# define and fit the model\n",
    "# for each fault F1,...F6, a dedicated model has been defined\n",
    "# not much thought has been spent on the choice of the model parameters\n",
    "\n",
    "#define the model parameters of each fault F1,...,F6\n",
    "rf_F1 = RandomForestClassifier(n_estimators = 40, criterion=\"gini\",random_state = None)\n",
    "rf_F2 = RandomForestClassifier(n_estimators = 40, criterion=\"gini\",random_state = None)\n",
    "rf_F3 = RandomForestClassifier(n_estimators = 40, criterion=\"gini\",random_state = None)\n",
    "rf_F4 = RandomForestClassifier(n_estimators = 40, criterion=\"gini\",random_state = None)\n",
    "\n",
    "#fit the models...\n",
    "rf_F1.fit(X, y_F1)\n",
    "rf_F2.fit(X, y_F2)\n",
    "rf_F3.fit(X, y_F3)\n",
    "rf_F4.fit(X, y_F4)\n"
   ]
  },
  {
   "cell_type": "code",
   "execution_count": null,
   "metadata": {
    "tags": []
   },
   "outputs": [],
   "source": [
    "# plot the importance of the various explanatory variables using Gini importance\n",
    "# Gini importance is a number between zero and one, the heigher the Gini importance the better the explanatory variable can predict the failure y \n",
    "\n",
    "#remarks: \n",
    "# Do the most important predictors for F2, F4 and F6 from the RF-model correspond with engineering expertise?\n",
    "# F1 is not in the data set\n",
    "# try to understand why the RF models deem S1 as most predictive for F3, F5...\n",
    "# from the above observations you may understand the impact of an incomplete data set.\n",
    "\n",
    "featureImportances = np.array([rf_F1.feature_importances_, \n",
    "                               rf_F2.feature_importances_, \n",
    "                               rf_F3.feature_importances_, \n",
    "                               rf_F4.feature_importances_])\n",
    "\n",
    "pd.DataFrame(featureImportances, columns = X_names, index = [\"F1\",\"F2\",\"F3\",\"F4\"])"
   ]
  },
  {
   "cell_type": "code",
   "execution_count": null,
   "metadata": {},
   "outputs": [],
   "source": [
    "#In the following blocks the k-means cluster model will be inferred using sklearn\n",
    "#This k-means cluster model should detect voltage readings and switch positions that are very far away from the training set\n",
    "\n",
    "#the steps are:\n",
    "# define the explanatory variables\n",
    "# impute data in case of NaN's by using K nearest neighbours\n",
    "# rescale the data\n",
    "# define the model and fit it to the data\n",
    "# present the cluster means\n",
    "\n",
    "#I deliberately chose not to partition into a training set and a test set as I just validate the models using fresh input from the process\n",
    "\n",
    "from sklearn.cluster import KMeans\n",
    "from sklearn.preprocessing import StandardScaler\n",
    "from sklearn.impute import KNNImputer"
   ]
  },
  {
   "cell_type": "code",
   "execution_count": null,
   "metadata": {},
   "outputs": [],
   "source": [
    "# define the cluster variables\n",
    "# this step should be identical to the corresponding one in the RF-model\n",
    "\n",
    "X=df.iloc[:,[0,1,2]]                 #the order of the columns has just been changed for graphical convenience\n",
    "X_names=df.iloc[:,[0,1,2]].columns   #load a string of column names to label the output of the random forest model afterwards...\n",
    "\n",
    "X_names"
   ]
  },
  {
   "cell_type": "code",
   "execution_count": null,
   "metadata": {},
   "outputs": [],
   "source": [
    "# impute data in case of NaN's by using K nearest neighbours\n",
    "# the imputer also transforms X from a pd.DataFrame to a np.array as required for sklearn\n",
    "# this step should be identical to the corresponding one in the RF-model\n",
    "\n",
    "imputer = KNNImputer(n_neighbors=5, weights=\"distance\")\n",
    "X=imputer.fit_transform(X)"
   ]
  },
  {
   "cell_type": "code",
   "execution_count": null,
   "metadata": {},
   "outputs": [],
   "source": [
    "# rescale the data\n",
    "#the choice of the standard scaler is arbitrary and eventually omissible\n",
    "#the standard scaler transforms the data to z = (data - mean)/ standard devation\n",
    "#running on unscaled data will make the voltages much more important than the switch as the voltages range over [0,5] and the switch over (0,1)\n",
    "\n",
    "#set eventually some parameters of the standardscaler\n",
    "scaler=StandardScaler()\n",
    "\n",
    "#transform the data X to Z. Here, X will just be overwritten\n",
    "X = scaler.fit_transform(X)\n",
    "\n",
    "#print(scaler.mean_)"
   ]
  },
  {
   "cell_type": "code",
   "execution_count": null,
   "metadata": {},
   "outputs": [],
   "source": [
    "# prepare an elbow plot to visually determine a feasible number of clusters\n",
    "#this step is essentially superfluous as deep knowledge about the number of clusters exists. It is just to show the spread reduction as k increases\n",
    "#the elbow plot shows that variance within the clusters has indeed become ignorable at k>6\n",
    "\n",
    "inertia = []\n",
    "K = range(1,8)\n",
    "for k in K:\n",
    "    kmeanModel = KMeans(n_clusters=k)\n",
    "    kmeanModel.fit(X)\n",
    "    inertia.append(kmeanModel.inertia_)"
   ]
  },
  {
   "cell_type": "code",
   "execution_count": null,
   "metadata": {},
   "outputs": [],
   "source": [
    "#create the elbow plot\n",
    "\n",
    "plt.figure(figsize=(16,8))\n",
    "plt.plot(K, inertia, 'bx-')\n",
    "plt.xlabel('number of clusters k')\n",
    "plt.ylabel('Inertia')\n",
    "plt.title('Choose the lowest k where the inertia tends to flatten')\n",
    "plt.show()"
   ]
  },
  {
   "cell_type": "code",
   "execution_count": null,
   "metadata": {},
   "outputs": [],
   "source": [
    "# define the model and fit it to the data\n",
    "\n",
    "#define the model\n",
    "k=6            #specify the number of clusters k. Here it is known that 6 system states have been in the data set\n",
    "kmeanModel = KMeans(n_clusters=k)\n",
    "\n",
    "#fit the model\n",
    "kmeanModel.fit(X)\n",
    "#kmeanModel.predict(X)"
   ]
  },
  {
   "cell_type": "code",
   "execution_count": null,
   "metadata": {},
   "outputs": [],
   "source": [
    "# present the cluster means\n",
    "#remarks\n",
    "# can you recognise the fact that F1 is not in the data set?\n",
    "# can you recognise that F3 and F5 only occurred simultaneously in the data set?\n",
    "# what would be your conclusion if the faults F1,...,F6 would scatter over many rows?\n",
    "# do the cluster means that allude to faults correspond with engineering judgement?\n",
    "\n",
    "#just add a label to the original data\n",
    "df[\"clusterlabels\"]=kmeanModel.labels_\n",
    "\n",
    "#group the original data by the assigned clusterlabel and calculate the mean\n",
    "dfclustermeans=df.groupby(\"clusterlabels\").mean()\n",
    "dfclustermeans\n"
   ]
  },
  {
   "cell_type": "code",
   "execution_count": null,
   "metadata": {},
   "outputs": [],
   "source": [
    "# this function defines and plots the \"cluster\" labels\n",
    "\n",
    "def plotclusterlabels(ax):\n",
    "    \n",
    "    dum1 = df.iloc[:,[1,2,0,-1]]\n",
    "    \n",
    "    for i in list( np.sort(dum1.iloc[:,-1].unique()) ):\n",
    "        ax.scatter3D(dum1.loc[dum1.iloc[:,-1]==i,'V0'], \n",
    "                     dum1.loc[dum1.iloc[:,-1]==i,'V1'], \n",
    "                     dum1.loc[dum1.iloc[:,-1]==i,'S'],\n",
    "                     zdir='z', color=str((i)/len(dum1.iloc[:,-1].unique())),\n",
    "                     label= 'cluster'+str(i),\n",
    "                     marker='o', s=20*i+5)\n",
    "    "
   ]
  },
  {
   "cell_type": "code",
   "execution_count": null,
   "metadata": {},
   "outputs": [],
   "source": [
    "# Plot the training data in a graph AND project the cluster means on them\n",
    "\n",
    "fig = plt.figure(figsize = (6,6))\n",
    "plt.rcParams['font.size']=14\n",
    "\n",
    "# Dump the plot\n",
    "ax = fig.add_subplot(1,1,1, projection='3d')\n",
    "\n",
    "plotdesignlabels(ax)\n",
    "plotclusterlabels(ax)\n",
    "\n",
    "ax.set_xlabel('V0'), ax.set_ylabel('V1'),ax.set_zlabel('S')\n",
    "ax.set_xlim(0,5),    ax.set_ylim(0,5),   ax.set_zlim(0,1)\n",
    "ax.set_title('# of clusters: '+ str(k) )\n",
    "ax.legend(loc='right', bbox_to_anchor=(2, 0.8))\n",
    "\n",
    "ax.view_init(elev=25, azim=35)#, roll=0)\n"
   ]
  },
  {
   "cell_type": "code",
   "execution_count": null,
   "metadata": {},
   "outputs": [],
   "source": [
    "#The blocks above prepared an rf-model, a k-means clustering model and an expert model that will now be deployed. This means that the\n",
    "#Arduino controller will capture new data from the process under investigation and that this new data will be evaluated by these models.\n",
    "#As the observers tend to have a strong opinion about the true system state while observing the process, they could evaluated whether the\n",
    "#three models corresponds with their beliefs.\n",
    "\n",
    "#The steps of the deployment are:\n",
    "# connect with Arduino\n",
    "# read write the serial connection at a given sampling rate\n",
    "# start to control the Arduino while collecting the data\n",
    "# close the serial connection"
   ]
  },
  {
   "cell_type": "code",
   "execution_count": null,
   "metadata": {},
   "outputs": [],
   "source": [
    "# display the RF output\n",
    "\n",
    "def displayRF(dum5, result):\n",
    "\n",
    "    # let the inferred random forest models evaluate the incoming data\n",
    "    dum_F1 = rf_F1.predict(dum5)\n",
    "    dum_F2 = rf_F2.predict(dum5)\n",
    "    dum_F3 = rf_F3.predict(dum5)\n",
    "    dum_F4 = rf_F4.predict(dum5)\n",
    "    result = ( dum_F1[0], dum_F2[0], dum_F3[0], dum_F4[0] )\n",
    "    return result\n",
    "    "
   ]
  },
  {
   "cell_type": "code",
   "execution_count": null,
   "metadata": {
    "tags": []
   },
   "outputs": [],
   "source": [
    "# display DL output\n",
    "\n",
    "def displayDL(dum5, result):\n",
    "    \n",
    "    dum = {                                                          #generate a dictionary\n",
    "        k: np.linalg.norm(                                           #determine the difference...\n",
    "            np.array(dum5) - np.array([list(dict_dl[k].values())])   #between the reading and the values of ...\n",
    "        )   for k,v in list(dict_dl.items())                         #the various design labels\n",
    "    }\n",
    "    result = min(dum, key=dum.get)                                            #get the key where the difference is minimal\n",
    "    return result\n",
    "    "
   ]
  },
  {
   "cell_type": "code",
   "execution_count": null,
   "metadata": {},
   "outputs": [],
   "source": [
    "import serial\n",
    "import time\n",
    "import keyboard"
   ]
  },
  {
   "cell_type": "code",
   "execution_count": null,
   "metadata": {},
   "outputs": [],
   "source": [
    "# connect with Arduino\n",
    "\n",
    "ser = serial.Serial('COM3', 9600, timeout=1) #check whether the Arduino is really connected with COM3 or adjust the code to the correct COM\n",
    "                                             #check at settings and check whether Arduino is a connected device\n",
    "time.sleep(2)"
   ]
  },
  {
   "cell_type": "code",
   "execution_count": null,
   "metadata": {},
   "outputs": [],
   "source": [
    "# read write the serial connection at a given sampling rate\n",
    "\n",
    "def write_read(x):                  #this function takes an input x, which is a switch command and it returns data from the Arduino\n",
    "    ser.write(bytes(x, 'utf-8'))    #pass the command to Arduino by the serial connection\n",
    "#    time.sleep(0.05)                #give it some time\n",
    "    data = ser.readline()           #take data from Arduino\n",
    "    return data                     #return the data to be processed further"
   ]
  },
  {
   "cell_type": "code",
   "execution_count": null,
   "metadata": {
    "tags": []
   },
   "outputs": [],
   "source": [
    "# start to control the Arduino while collecting the data\n",
    "\n",
    "i= True                                       #this boolean allows to interrupt the data collection\n",
    "num ='0'\n",
    "result = ()\n",
    "eerst = True                                  #as the first loop of \"while i\" cannot display any outcome of the analytics\n",
    "afstand = 0.7                                 #distance that triggers the message \"doubtful diagnostics\"\n",
    "\n",
    "while i:                                      # making a loop continues as long as i is true. This loop involves a cycle of reading and evaluating data\n",
    "    \n",
    "    clear_output(wait=True)\n",
    "    print(\"Press <1> to switch power on\")\n",
    "    print(\"Press <0> to switch power off\")\n",
    "    print(\"Press <q> to quit\")\n",
    "    print(\"#########################################################\")\n",
    "    \n",
    "    if eerst==False:\n",
    "        print('time:                                         ',str(pd.to_datetime(round(time.time(), 0),unit = 's')))\n",
    "        print('.........................................................')\n",
    "        print('position of the switch S:                     ',dum5[0][0])\n",
    "        print('voltage V0:                                   ',dum5[0][1])\n",
    "        print('voltage V1:                                   ',dum5[0][2])\n",
    "        print('.........................................................')\n",
    "        try:\n",
    "            print('diagnostics of F1 by random forest algorithm: ',uitkomstRF[0])\n",
    "            print('diagnostics of F2 by random forest algorithm: ',uitkomstRF[1])\n",
    "            print('diagnostics of F3 by random forest algorithm: ',uitkomstRF[2])\n",
    "            print('diagnostics of F4 by random forest algorithm: ',uitkomstRF[3])\n",
    "            \n",
    "        except:\n",
    "            print('diagnostics by random forest algorithm doubtful, distance with nearest training data exceeds ',afstand,' Volts')\n",
    "            \n",
    "        print('.........................................................')\n",
    "        try:\n",
    "            print('diagnostics of F1 by engineering expertise:   ',uitkomstDL[0])\n",
    "            print('diagnostics of F2 by engineering expertise:   ',uitkomstDL[1])\n",
    "            print('diagnostics of F3 by engineering expertise:   ',uitkomstDL[2])\n",
    "            print('diagnostics of F4 by engineering expertise:   ',uitkomstDL[3])\n",
    "            \n",
    "        except:\n",
    "            print('diagnostics doubtful, distance with nearest labelled system state exceeds ',afstand,' Volts')\n",
    "\n",
    "    eerst=False\n",
    "    \n",
    "    if keyboard.is_pressed('q'):              # if key 'q' is pressed \n",
    "        print('')\n",
    "        print('You Pressed <q>uit!')\n",
    "        i = False                             # finishing the loop\n",
    "        \n",
    "    elif keyboard.is_pressed('0'):            # if key '0' is pressed\n",
    "        num = '0'                             # this represents the opening of the switch\n",
    "        \n",
    "    elif keyboard.is_pressed('1'):            # if key '1' is pressed\n",
    "        num = '1'                             # this represents the closing of the switch\n",
    "        \n",
    "    else:\n",
    "        value = write_read(num)               # if user did anything else then pressing 'q','0' or '1', the loop proceeds with collecting data\n",
    "\n",
    "        dummy = value.decode().rstrip().split()                                     # transform the byte values that came in...\n",
    "        dum4 = np.array([[int(dummy[0])]])                                          # .. to a binary for S and ...\n",
    "        dum5 = np.array([np.append(dum4,[int(j)/1023*5 for j in dummy[1:]]  )])     #...some floats for V\n",
    "\n",
    "# let the inferred k-means clustering model evaluate the incoming data\n",
    "        dum6 = scaler.transform(dum5)                   # scaler should be identical to the scaler used during the training of the model!\n",
    "        dum1 = kmeanModel.predict(dum6)                 # dum1 is the label of the nearest clustermean\n",
    "        dum2 = kmeanModel.cluster_centers_[dum1]        # dum2 is an array of coordinates of the nearest clustermean\n",
    "        dum3 = scaler.inverse_transform(dum2)           # reschale the coordinates back, to compare them with the data that came in\n",
    "\n",
    "# depending on the applicability of the engineering model and the k-means models, different things will be dumped to screen\n",
    "# both of these models either apply or do not apply and therefore there are 2^2=4 different screen dumps. Applicability means that:\n",
    "#  the distance between the incoming data and the data from any label in the expert model should be <0.7\n",
    "#  the distance betwwen the incoming data and the assigned k-means cluster should be <0.7\n",
    "\n",
    "    if np.linalg.norm(dum5-dum3)<=afstand:\n",
    "        uitkomstRF = displayRF(dum5, result)\n",
    "        \n",
    "    else:\n",
    "        uitkomstRF = False\n",
    "              \n",
    "\n",
    "    if (min(                                                                 #determine the minimum...\n",
    "        [                                                                #from a list of...\n",
    "            np.linalg.norm(                                              #differences...\n",
    "                np.array(dum5) - np.array([list(dict_dl[k].values())])   #between the reading and the values in ...\n",
    "                )   for k in list(dict_dl.keys())                        #dict_dl\n",
    "            ]\n",
    "        )\n",
    "    )<=afstand:\n",
    "        uitkomstDL = displayDL(dum5, result)\n",
    "        \n",
    "    else:\n",
    "        uitkomstDL = False\n",
    "        \n",
    "\n",
    "ser.close()       #close the serial port when the reading is stopped. If not done, reconnection with the Arduino is not possible"
   ]
  }
 ],
 "metadata": {
  "kernelspec": {
   "display_name": "Python 3",
   "language": "python",
   "name": "python3"
  },
  "language_info": {
   "codemirror_mode": {
    "name": "ipython",
    "version": 3
   },
   "file_extension": ".py",
   "mimetype": "text/x-python",
   "name": "python",
   "nbconvert_exporter": "python",
   "pygments_lexer": "ipython3",
   "version": "3.8.8"
  },
  "toc-autonumbering": false,
  "toc-showcode": true,
  "toc-showmarkdowntxt": true
 },
 "nbformat": 4,
 "nbformat_minor": 4
}
