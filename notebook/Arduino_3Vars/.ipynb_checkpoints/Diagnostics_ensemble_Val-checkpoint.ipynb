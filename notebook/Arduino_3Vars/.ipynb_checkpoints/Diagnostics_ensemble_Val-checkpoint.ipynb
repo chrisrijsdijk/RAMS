{
 "cells": [
  {
   "cell_type": "code",
   "execution_count": 1,
   "metadata": {
    "tags": []
   },
   "outputs": [],
   "source": [
    "import pandas as pd\n",
    "import numpy as np\n",
    "import matplotlib.pyplot as plt\n",
    "\n",
    "from sklearn.impute import KNNImputer\n",
    "\n",
    "from sklearn.ensemble import RandomForestClassifier\n",
    "#from sklearn import tree\n",
    "#from sklearn.inspection import permutation_importance\n",
    "\n",
    "from sklearn.cluster import KMeans\n",
    "from sklearn.preprocessing import StandardScaler\n"
   ]
  },
  {
   "cell_type": "code",
   "execution_count": 2,
   "metadata": {},
   "outputs": [],
   "source": [
    "# this script takes in:\n",
    "# - the position of the switch,\n",
    "# - and the voltages V0 and V1\n",
    "# to assess the health of the circuit. \n",
    "\n",
    "# The quantification of the health of the circuit may be dichotomous (up/down), but it may also take multiple states F1,...,Fn\n",
    "# Therfore, this health assessment may be framed as a classification problem"
   ]
  },
  {
   "cell_type": "code",
   "execution_count": 3,
   "metadata": {},
   "outputs": [],
   "source": [
    "# a set of training data consists of inputs (S, V0, V1) and outputs (Health, F1,...Fn)"
   ]
  },
  {
   "cell_type": "code",
   "execution_count": 4,
   "metadata": {},
   "outputs": [],
   "source": [
    "def readfile(bestand):\n",
    "    table = None\n",
    "    table = pd.read_excel(bestand, index_col=0)\n",
    "    \n",
    "    table.loc[:,['S','V0','V1']] = table.loc[:,['S','V0','V1']].astype('float64', errors=\"ignore\") #it appears that some Voltages came in as an integer and that sucks...\n",
    "    table.loc[:,['F1','F2','F3','F4']] = table.loc[:,['F1','F2','F3','F4']].astype('bool', errors=\"ignore\")\n",
    "    \n",
    "    table.loc[:,'Health'] = ~(table.loc[:,['F1','F2','F3','F4']]).any(axis='columns', bool_only=True)\n",
    "    \n",
    "    return table"
   ]
  },
  {
   "cell_type": "code",
   "execution_count": 5,
   "metadata": {},
   "outputs": [],
   "source": [
    "def plotlabels(table, by, legendtitle, title):\n",
    "    dum = table.groupby(by)[['S','V0','V1']]\n",
    "    fig = plt.figure(figsize = (6,6))\n",
    "    plt.rcParams['font.size']=14\n",
    "    ax = fig.add_subplot(1,1,1, projection='3d')\n",
    "    ax.set_xlabel('V0'), ax.set_ylabel('V1'),ax.set_zlabel('S')\n",
    "    ax.set_xlim(0,5),    ax.set_ylim(0,5),   ax.set_zlim(0,1)\n",
    "    ax.set_title(title)\n",
    "\n",
    "    for i in dum.groups:\n",
    "        du = dum.get_group(i)\n",
    "\n",
    "        S = du.loc[:,'S']\n",
    "        V0 = du.loc[:,'V0']\n",
    "        V1 = du.loc[:,'V1']\n",
    "       # np.random.seed(int(V0.mean()*10))\n",
    "        ax.scatter3D(V0,V1,S, zdir='z', color=np.random.rand(1,3), \n",
    "                     marker='v', \n",
    "                     label = str(i), \n",
    "                         s=V0.mean()*150+5)\n",
    "    \n",
    "    ax.legend(loc='right', bbox_to_anchor=(1.8, 0.8), title = legendtitle)\n",
    "    ax.view_init(elev=25, azim=35)#, roll=0)\n",
    "    \n",
    "    return"
   ]
  },
  {
   "cell_type": "code",
   "execution_count": 6,
   "metadata": {
    "tags": []
   },
   "outputs": [],
   "source": [
    "# fit a RF model and determine gini importance\n",
    "\n",
    "def selectRFmodel(XX,y):\n",
    "    imputer = KNNImputer(n_neighbors=3, weights=\"distance\")\n",
    "    XX = imputer.fit_transform(XX)\n",
    "    \n",
    "    rfmodel = RandomForestClassifier(n_estimators = 40, criterion=\"gini\",random_state = None)\n",
    "    \n",
    "    return rfmodel.fit(XX, y), rfmodel.feature_importances_"
   ]
  },
  {
   "cell_type": "code",
   "execution_count": 7,
   "metadata": {},
   "outputs": [],
   "source": [
    "# find inertia of k means clustering\n",
    "\n",
    "def get_inert(kk, XX):\n",
    "    kmeanModel = KMeans(n_clusters=kk, n_init=10)\n",
    "    kmeanModel.fit(XX)\n",
    "    inert = kmeanModel.inertia_\n",
    "    \n",
    "    return inert, kmeanModel\n"
   ]
  },
  {
   "cell_type": "code",
   "execution_count": 8,
   "metadata": {},
   "outputs": [],
   "source": [
    "# perform k means clustering while inertia reduction is sufficiently large\n",
    "\n",
    "def vl_regime(XX):\n",
    "    imputer = KNNImputer(n_neighbors=3, weights=\"distance\")\n",
    "    XX = imputer.fit_transform(XX)\n",
    "\n",
    "    scaler=StandardScaler()                                  # transpose the dataframe while disposing the first non-numerical column\n",
    "    Xtrans = scaler.fit_transform(XX)   \n",
    "    \n",
    "    k = 2\n",
    "    INERT0, KMM0 = get_inert(1, Xtrans)\n",
    "    INERT1, KMM1 = get_inert(2, Xtrans)\n",
    "\n",
    "    while (INERT1/INERT0<0.8)&(INERT1>1):\n",
    "        k = k + 1\n",
    "        INERT0 = INERT1\n",
    "        KMM0 = KMM1\n",
    "        INERT1, KMM1 = get_inert(k, Xtrans)\n",
    "    \n",
    "    OOregime = KMM0.predict(Xtrans)                    # cluster the timeseries of vl\n",
    "    OOcenters = scaler.inverse_transform( \n",
    "        pd.DataFrame(KMM0.cluster_centers_ ))          # infer cluster centers\n",
    "        \n",
    "    return scaler, KMM0, OOregime, OOcenters\n"
   ]
  },
  {
   "cell_type": "code",
   "execution_count": 9,
   "metadata": {},
   "outputs": [
    {
     "ename": "HTTPError",
     "evalue": "HTTP Error 404: Not Found",
     "output_type": "error",
     "traceback": [
      "\u001b[1;31m---------------------------------------------------------------------------\u001b[0m",
      "\u001b[1;31mHTTPError\u001b[0m                                 Traceback (most recent call last)",
      "\u001b[1;32m<ipython-input-9-ed325d6a9cb1>\u001b[0m in \u001b[0;36m<module>\u001b[1;34m\u001b[0m\n\u001b[0;32m      2\u001b[0m \u001b[1;33m\u001b[0m\u001b[0m\n\u001b[0;32m      3\u001b[0m \u001b[1;31m#df_bc = readfile(\"C:/Users/Admin/Pythonprojects/RAMS/data/Arduino_3Vars_trainingset_BalancedComplete.xlsx\")\u001b[0m\u001b[1;33m\u001b[0m\u001b[1;33m\u001b[0m\u001b[1;33m\u001b[0m\u001b[0m\n\u001b[1;32m----> 4\u001b[1;33m \u001b[0mdf_bc\u001b[0m \u001b[1;33m=\u001b[0m \u001b[0mreadfile\u001b[0m\u001b[1;33m(\u001b[0m\u001b[1;34m\"https://raw.githubusercontent.com/chrisrijsdijk/RAMS/master/data/Arduino_3Vars_trainingset_BalancedComplete.xlsx\"\u001b[0m\u001b[1;33m)\u001b[0m\u001b[1;33m\u001b[0m\u001b[1;33m\u001b[0m\u001b[0m\n\u001b[0m",
      "\u001b[1;32m<ipython-input-4-3bef7a42df22>\u001b[0m in \u001b[0;36mreadfile\u001b[1;34m(bestand)\u001b[0m\n\u001b[0;32m      1\u001b[0m \u001b[1;32mdef\u001b[0m \u001b[0mreadfile\u001b[0m\u001b[1;33m(\u001b[0m\u001b[0mbestand\u001b[0m\u001b[1;33m)\u001b[0m\u001b[1;33m:\u001b[0m\u001b[1;33m\u001b[0m\u001b[1;33m\u001b[0m\u001b[0m\n\u001b[0;32m      2\u001b[0m     \u001b[0mtable\u001b[0m \u001b[1;33m=\u001b[0m \u001b[1;32mNone\u001b[0m\u001b[1;33m\u001b[0m\u001b[1;33m\u001b[0m\u001b[0m\n\u001b[1;32m----> 3\u001b[1;33m     \u001b[0mtable\u001b[0m \u001b[1;33m=\u001b[0m \u001b[0mpd\u001b[0m\u001b[1;33m.\u001b[0m\u001b[0mread_excel\u001b[0m\u001b[1;33m(\u001b[0m\u001b[0mbestand\u001b[0m\u001b[1;33m,\u001b[0m \u001b[0mindex_col\u001b[0m\u001b[1;33m=\u001b[0m\u001b[1;36m0\u001b[0m\u001b[1;33m)\u001b[0m\u001b[1;33m\u001b[0m\u001b[1;33m\u001b[0m\u001b[0m\n\u001b[0m\u001b[0;32m      4\u001b[0m \u001b[1;33m\u001b[0m\u001b[0m\n\u001b[0;32m      5\u001b[0m     \u001b[0mtable\u001b[0m\u001b[1;33m.\u001b[0m\u001b[0mloc\u001b[0m\u001b[1;33m[\u001b[0m\u001b[1;33m:\u001b[0m\u001b[1;33m,\u001b[0m\u001b[1;33m[\u001b[0m\u001b[1;34m'S'\u001b[0m\u001b[1;33m,\u001b[0m\u001b[1;34m'V0'\u001b[0m\u001b[1;33m,\u001b[0m\u001b[1;34m'V1'\u001b[0m\u001b[1;33m]\u001b[0m\u001b[1;33m]\u001b[0m \u001b[1;33m=\u001b[0m \u001b[0mtable\u001b[0m\u001b[1;33m.\u001b[0m\u001b[0mloc\u001b[0m\u001b[1;33m[\u001b[0m\u001b[1;33m:\u001b[0m\u001b[1;33m,\u001b[0m\u001b[1;33m[\u001b[0m\u001b[1;34m'S'\u001b[0m\u001b[1;33m,\u001b[0m\u001b[1;34m'V0'\u001b[0m\u001b[1;33m,\u001b[0m\u001b[1;34m'V1'\u001b[0m\u001b[1;33m]\u001b[0m\u001b[1;33m]\u001b[0m\u001b[1;33m.\u001b[0m\u001b[0mastype\u001b[0m\u001b[1;33m(\u001b[0m\u001b[1;34m'float64'\u001b[0m\u001b[1;33m,\u001b[0m \u001b[0merrors\u001b[0m\u001b[1;33m=\u001b[0m\u001b[1;34m\"ignore\"\u001b[0m\u001b[1;33m)\u001b[0m \u001b[1;31m#it appears that some Voltages came in as an integer and that sucks...\u001b[0m\u001b[1;33m\u001b[0m\u001b[1;33m\u001b[0m\u001b[0m\n",
      "\u001b[1;32m~\\anaconda3\\lib\\site-packages\\pandas\\util\\_decorators.py\u001b[0m in \u001b[0;36mwrapper\u001b[1;34m(*args, **kwargs)\u001b[0m\n\u001b[0;32m    297\u001b[0m                 )\n\u001b[0;32m    298\u001b[0m                 \u001b[0mwarnings\u001b[0m\u001b[1;33m.\u001b[0m\u001b[0mwarn\u001b[0m\u001b[1;33m(\u001b[0m\u001b[0mmsg\u001b[0m\u001b[1;33m,\u001b[0m \u001b[0mFutureWarning\u001b[0m\u001b[1;33m,\u001b[0m \u001b[0mstacklevel\u001b[0m\u001b[1;33m=\u001b[0m\u001b[0mstacklevel\u001b[0m\u001b[1;33m)\u001b[0m\u001b[1;33m\u001b[0m\u001b[1;33m\u001b[0m\u001b[0m\n\u001b[1;32m--> 299\u001b[1;33m             \u001b[1;32mreturn\u001b[0m \u001b[0mfunc\u001b[0m\u001b[1;33m(\u001b[0m\u001b[1;33m*\u001b[0m\u001b[0margs\u001b[0m\u001b[1;33m,\u001b[0m \u001b[1;33m**\u001b[0m\u001b[0mkwargs\u001b[0m\u001b[1;33m)\u001b[0m\u001b[1;33m\u001b[0m\u001b[1;33m\u001b[0m\u001b[0m\n\u001b[0m\u001b[0;32m    300\u001b[0m \u001b[1;33m\u001b[0m\u001b[0m\n\u001b[0;32m    301\u001b[0m         \u001b[1;32mreturn\u001b[0m \u001b[0mwrapper\u001b[0m\u001b[1;33m\u001b[0m\u001b[1;33m\u001b[0m\u001b[0m\n",
      "\u001b[1;32m~\\anaconda3\\lib\\site-packages\\pandas\\io\\excel\\_base.py\u001b[0m in \u001b[0;36mread_excel\u001b[1;34m(io, sheet_name, header, names, index_col, usecols, squeeze, dtype, engine, converters, true_values, false_values, skiprows, nrows, na_values, keep_default_na, na_filter, verbose, parse_dates, date_parser, thousands, comment, skipfooter, convert_float, mangle_dupe_cols, storage_options)\u001b[0m\n\u001b[0;32m    334\u001b[0m     \u001b[1;32mif\u001b[0m \u001b[1;32mnot\u001b[0m \u001b[0misinstance\u001b[0m\u001b[1;33m(\u001b[0m\u001b[0mio\u001b[0m\u001b[1;33m,\u001b[0m \u001b[0mExcelFile\u001b[0m\u001b[1;33m)\u001b[0m\u001b[1;33m:\u001b[0m\u001b[1;33m\u001b[0m\u001b[1;33m\u001b[0m\u001b[0m\n\u001b[0;32m    335\u001b[0m         \u001b[0mshould_close\u001b[0m \u001b[1;33m=\u001b[0m \u001b[1;32mTrue\u001b[0m\u001b[1;33m\u001b[0m\u001b[1;33m\u001b[0m\u001b[0m\n\u001b[1;32m--> 336\u001b[1;33m         \u001b[0mio\u001b[0m \u001b[1;33m=\u001b[0m \u001b[0mExcelFile\u001b[0m\u001b[1;33m(\u001b[0m\u001b[0mio\u001b[0m\u001b[1;33m,\u001b[0m \u001b[0mstorage_options\u001b[0m\u001b[1;33m=\u001b[0m\u001b[0mstorage_options\u001b[0m\u001b[1;33m,\u001b[0m \u001b[0mengine\u001b[0m\u001b[1;33m=\u001b[0m\u001b[0mengine\u001b[0m\u001b[1;33m)\u001b[0m\u001b[1;33m\u001b[0m\u001b[1;33m\u001b[0m\u001b[0m\n\u001b[0m\u001b[0;32m    337\u001b[0m     \u001b[1;32melif\u001b[0m \u001b[0mengine\u001b[0m \u001b[1;32mand\u001b[0m \u001b[0mengine\u001b[0m \u001b[1;33m!=\u001b[0m \u001b[0mio\u001b[0m\u001b[1;33m.\u001b[0m\u001b[0mengine\u001b[0m\u001b[1;33m:\u001b[0m\u001b[1;33m\u001b[0m\u001b[1;33m\u001b[0m\u001b[0m\n\u001b[0;32m    338\u001b[0m         raise ValueError(\n",
      "\u001b[1;32m~\\anaconda3\\lib\\site-packages\\pandas\\io\\excel\\_base.py\u001b[0m in \u001b[0;36m__init__\u001b[1;34m(self, path_or_buffer, engine, storage_options)\u001b[0m\n\u001b[0;32m   1069\u001b[0m                 \u001b[0mext\u001b[0m \u001b[1;33m=\u001b[0m \u001b[1;34m\"xls\"\u001b[0m\u001b[1;33m\u001b[0m\u001b[1;33m\u001b[0m\u001b[0m\n\u001b[0;32m   1070\u001b[0m             \u001b[1;32melse\u001b[0m\u001b[1;33m:\u001b[0m\u001b[1;33m\u001b[0m\u001b[1;33m\u001b[0m\u001b[0m\n\u001b[1;32m-> 1071\u001b[1;33m                 ext = inspect_excel_format(\n\u001b[0m\u001b[0;32m   1072\u001b[0m                     \u001b[0mcontent\u001b[0m\u001b[1;33m=\u001b[0m\u001b[0mpath_or_buffer\u001b[0m\u001b[1;33m,\u001b[0m \u001b[0mstorage_options\u001b[0m\u001b[1;33m=\u001b[0m\u001b[0mstorage_options\u001b[0m\u001b[1;33m\u001b[0m\u001b[1;33m\u001b[0m\u001b[0m\n\u001b[0;32m   1073\u001b[0m                 )\n",
      "\u001b[1;32m~\\anaconda3\\lib\\site-packages\\pandas\\io\\excel\\_base.py\u001b[0m in \u001b[0;36minspect_excel_format\u001b[1;34m(path, content, storage_options)\u001b[0m\n\u001b[0;32m    947\u001b[0m     \u001b[1;32massert\u001b[0m \u001b[0mcontent_or_path\u001b[0m \u001b[1;32mis\u001b[0m \u001b[1;32mnot\u001b[0m \u001b[1;32mNone\u001b[0m\u001b[1;33m\u001b[0m\u001b[1;33m\u001b[0m\u001b[0m\n\u001b[0;32m    948\u001b[0m \u001b[1;33m\u001b[0m\u001b[0m\n\u001b[1;32m--> 949\u001b[1;33m     with get_handle(\n\u001b[0m\u001b[0;32m    950\u001b[0m         \u001b[0mcontent_or_path\u001b[0m\u001b[1;33m,\u001b[0m \u001b[1;34m\"rb\"\u001b[0m\u001b[1;33m,\u001b[0m \u001b[0mstorage_options\u001b[0m\u001b[1;33m=\u001b[0m\u001b[0mstorage_options\u001b[0m\u001b[1;33m,\u001b[0m \u001b[0mis_text\u001b[0m\u001b[1;33m=\u001b[0m\u001b[1;32mFalse\u001b[0m\u001b[1;33m\u001b[0m\u001b[1;33m\u001b[0m\u001b[0m\n\u001b[0;32m    951\u001b[0m     ) as handle:\n",
      "\u001b[1;32m~\\anaconda3\\lib\\site-packages\\pandas\\io\\common.py\u001b[0m in \u001b[0;36mget_handle\u001b[1;34m(path_or_buf, mode, encoding, compression, memory_map, is_text, errors, storage_options)\u001b[0m\n\u001b[0;32m    556\u001b[0m \u001b[1;33m\u001b[0m\u001b[0m\n\u001b[0;32m    557\u001b[0m     \u001b[1;31m# open URLs\u001b[0m\u001b[1;33m\u001b[0m\u001b[1;33m\u001b[0m\u001b[1;33m\u001b[0m\u001b[0m\n\u001b[1;32m--> 558\u001b[1;33m     ioargs = _get_filepath_or_buffer(\n\u001b[0m\u001b[0;32m    559\u001b[0m         \u001b[0mpath_or_buf\u001b[0m\u001b[1;33m,\u001b[0m\u001b[1;33m\u001b[0m\u001b[1;33m\u001b[0m\u001b[0m\n\u001b[0;32m    560\u001b[0m         \u001b[0mencoding\u001b[0m\u001b[1;33m=\u001b[0m\u001b[0mencoding\u001b[0m\u001b[1;33m,\u001b[0m\u001b[1;33m\u001b[0m\u001b[1;33m\u001b[0m\u001b[0m\n",
      "\u001b[1;32m~\\anaconda3\\lib\\site-packages\\pandas\\io\\common.py\u001b[0m in \u001b[0;36m_get_filepath_or_buffer\u001b[1;34m(filepath_or_buffer, encoding, compression, mode, storage_options)\u001b[0m\n\u001b[0;32m    287\u001b[0m                 \u001b[1;34m\"storage_options passed with file object or non-fsspec file path\"\u001b[0m\u001b[1;33m\u001b[0m\u001b[1;33m\u001b[0m\u001b[0m\n\u001b[0;32m    288\u001b[0m             )\n\u001b[1;32m--> 289\u001b[1;33m         \u001b[0mreq\u001b[0m \u001b[1;33m=\u001b[0m \u001b[0murlopen\u001b[0m\u001b[1;33m(\u001b[0m\u001b[0mfilepath_or_buffer\u001b[0m\u001b[1;33m)\u001b[0m\u001b[1;33m\u001b[0m\u001b[1;33m\u001b[0m\u001b[0m\n\u001b[0m\u001b[0;32m    290\u001b[0m         \u001b[0mcontent_encoding\u001b[0m \u001b[1;33m=\u001b[0m \u001b[0mreq\u001b[0m\u001b[1;33m.\u001b[0m\u001b[0mheaders\u001b[0m\u001b[1;33m.\u001b[0m\u001b[0mget\u001b[0m\u001b[1;33m(\u001b[0m\u001b[1;34m\"Content-Encoding\"\u001b[0m\u001b[1;33m,\u001b[0m \u001b[1;32mNone\u001b[0m\u001b[1;33m)\u001b[0m\u001b[1;33m\u001b[0m\u001b[1;33m\u001b[0m\u001b[0m\n\u001b[0;32m    291\u001b[0m         \u001b[1;32mif\u001b[0m \u001b[0mcontent_encoding\u001b[0m \u001b[1;33m==\u001b[0m \u001b[1;34m\"gzip\"\u001b[0m\u001b[1;33m:\u001b[0m\u001b[1;33m\u001b[0m\u001b[1;33m\u001b[0m\u001b[0m\n",
      "\u001b[1;32m~\\anaconda3\\lib\\site-packages\\pandas\\io\\common.py\u001b[0m in \u001b[0;36murlopen\u001b[1;34m(*args, **kwargs)\u001b[0m\n\u001b[0;32m    193\u001b[0m     \u001b[1;32mimport\u001b[0m \u001b[0murllib\u001b[0m\u001b[1;33m.\u001b[0m\u001b[0mrequest\u001b[0m\u001b[1;33m\u001b[0m\u001b[1;33m\u001b[0m\u001b[0m\n\u001b[0;32m    194\u001b[0m \u001b[1;33m\u001b[0m\u001b[0m\n\u001b[1;32m--> 195\u001b[1;33m     \u001b[1;32mreturn\u001b[0m \u001b[0murllib\u001b[0m\u001b[1;33m.\u001b[0m\u001b[0mrequest\u001b[0m\u001b[1;33m.\u001b[0m\u001b[0murlopen\u001b[0m\u001b[1;33m(\u001b[0m\u001b[1;33m*\u001b[0m\u001b[0margs\u001b[0m\u001b[1;33m,\u001b[0m \u001b[1;33m**\u001b[0m\u001b[0mkwargs\u001b[0m\u001b[1;33m)\u001b[0m\u001b[1;33m\u001b[0m\u001b[1;33m\u001b[0m\u001b[0m\n\u001b[0m\u001b[0;32m    196\u001b[0m \u001b[1;33m\u001b[0m\u001b[0m\n\u001b[0;32m    197\u001b[0m \u001b[1;33m\u001b[0m\u001b[0m\n",
      "\u001b[1;32m~\\anaconda3\\lib\\urllib\\request.py\u001b[0m in \u001b[0;36murlopen\u001b[1;34m(url, data, timeout, cafile, capath, cadefault, context)\u001b[0m\n\u001b[0;32m    220\u001b[0m     \u001b[1;32melse\u001b[0m\u001b[1;33m:\u001b[0m\u001b[1;33m\u001b[0m\u001b[1;33m\u001b[0m\u001b[0m\n\u001b[0;32m    221\u001b[0m         \u001b[0mopener\u001b[0m \u001b[1;33m=\u001b[0m \u001b[0m_opener\u001b[0m\u001b[1;33m\u001b[0m\u001b[1;33m\u001b[0m\u001b[0m\n\u001b[1;32m--> 222\u001b[1;33m     \u001b[1;32mreturn\u001b[0m \u001b[0mopener\u001b[0m\u001b[1;33m.\u001b[0m\u001b[0mopen\u001b[0m\u001b[1;33m(\u001b[0m\u001b[0murl\u001b[0m\u001b[1;33m,\u001b[0m \u001b[0mdata\u001b[0m\u001b[1;33m,\u001b[0m \u001b[0mtimeout\u001b[0m\u001b[1;33m)\u001b[0m\u001b[1;33m\u001b[0m\u001b[1;33m\u001b[0m\u001b[0m\n\u001b[0m\u001b[0;32m    223\u001b[0m \u001b[1;33m\u001b[0m\u001b[0m\n\u001b[0;32m    224\u001b[0m \u001b[1;32mdef\u001b[0m \u001b[0minstall_opener\u001b[0m\u001b[1;33m(\u001b[0m\u001b[0mopener\u001b[0m\u001b[1;33m)\u001b[0m\u001b[1;33m:\u001b[0m\u001b[1;33m\u001b[0m\u001b[1;33m\u001b[0m\u001b[0m\n",
      "\u001b[1;32m~\\anaconda3\\lib\\urllib\\request.py\u001b[0m in \u001b[0;36mopen\u001b[1;34m(self, fullurl, data, timeout)\u001b[0m\n\u001b[0;32m    529\u001b[0m         \u001b[1;32mfor\u001b[0m \u001b[0mprocessor\u001b[0m \u001b[1;32min\u001b[0m \u001b[0mself\u001b[0m\u001b[1;33m.\u001b[0m\u001b[0mprocess_response\u001b[0m\u001b[1;33m.\u001b[0m\u001b[0mget\u001b[0m\u001b[1;33m(\u001b[0m\u001b[0mprotocol\u001b[0m\u001b[1;33m,\u001b[0m \u001b[1;33m[\u001b[0m\u001b[1;33m]\u001b[0m\u001b[1;33m)\u001b[0m\u001b[1;33m:\u001b[0m\u001b[1;33m\u001b[0m\u001b[1;33m\u001b[0m\u001b[0m\n\u001b[0;32m    530\u001b[0m             \u001b[0mmeth\u001b[0m \u001b[1;33m=\u001b[0m \u001b[0mgetattr\u001b[0m\u001b[1;33m(\u001b[0m\u001b[0mprocessor\u001b[0m\u001b[1;33m,\u001b[0m \u001b[0mmeth_name\u001b[0m\u001b[1;33m)\u001b[0m\u001b[1;33m\u001b[0m\u001b[1;33m\u001b[0m\u001b[0m\n\u001b[1;32m--> 531\u001b[1;33m             \u001b[0mresponse\u001b[0m \u001b[1;33m=\u001b[0m \u001b[0mmeth\u001b[0m\u001b[1;33m(\u001b[0m\u001b[0mreq\u001b[0m\u001b[1;33m,\u001b[0m \u001b[0mresponse\u001b[0m\u001b[1;33m)\u001b[0m\u001b[1;33m\u001b[0m\u001b[1;33m\u001b[0m\u001b[0m\n\u001b[0m\u001b[0;32m    532\u001b[0m \u001b[1;33m\u001b[0m\u001b[0m\n\u001b[0;32m    533\u001b[0m         \u001b[1;32mreturn\u001b[0m \u001b[0mresponse\u001b[0m\u001b[1;33m\u001b[0m\u001b[1;33m\u001b[0m\u001b[0m\n",
      "\u001b[1;32m~\\anaconda3\\lib\\urllib\\request.py\u001b[0m in \u001b[0;36mhttp_response\u001b[1;34m(self, request, response)\u001b[0m\n\u001b[0;32m    638\u001b[0m         \u001b[1;31m# request was successfully received, understood, and accepted.\u001b[0m\u001b[1;33m\u001b[0m\u001b[1;33m\u001b[0m\u001b[1;33m\u001b[0m\u001b[0m\n\u001b[0;32m    639\u001b[0m         \u001b[1;32mif\u001b[0m \u001b[1;32mnot\u001b[0m \u001b[1;33m(\u001b[0m\u001b[1;36m200\u001b[0m \u001b[1;33m<=\u001b[0m \u001b[0mcode\u001b[0m \u001b[1;33m<\u001b[0m \u001b[1;36m300\u001b[0m\u001b[1;33m)\u001b[0m\u001b[1;33m:\u001b[0m\u001b[1;33m\u001b[0m\u001b[1;33m\u001b[0m\u001b[0m\n\u001b[1;32m--> 640\u001b[1;33m             response = self.parent.error(\n\u001b[0m\u001b[0;32m    641\u001b[0m                 'http', request, response, code, msg, hdrs)\n\u001b[0;32m    642\u001b[0m \u001b[1;33m\u001b[0m\u001b[0m\n",
      "\u001b[1;32m~\\anaconda3\\lib\\urllib\\request.py\u001b[0m in \u001b[0;36merror\u001b[1;34m(self, proto, *args)\u001b[0m\n\u001b[0;32m    567\u001b[0m         \u001b[1;32mif\u001b[0m \u001b[0mhttp_err\u001b[0m\u001b[1;33m:\u001b[0m\u001b[1;33m\u001b[0m\u001b[1;33m\u001b[0m\u001b[0m\n\u001b[0;32m    568\u001b[0m             \u001b[0margs\u001b[0m \u001b[1;33m=\u001b[0m \u001b[1;33m(\u001b[0m\u001b[0mdict\u001b[0m\u001b[1;33m,\u001b[0m \u001b[1;34m'default'\u001b[0m\u001b[1;33m,\u001b[0m \u001b[1;34m'http_error_default'\u001b[0m\u001b[1;33m)\u001b[0m \u001b[1;33m+\u001b[0m \u001b[0morig_args\u001b[0m\u001b[1;33m\u001b[0m\u001b[1;33m\u001b[0m\u001b[0m\n\u001b[1;32m--> 569\u001b[1;33m             \u001b[1;32mreturn\u001b[0m \u001b[0mself\u001b[0m\u001b[1;33m.\u001b[0m\u001b[0m_call_chain\u001b[0m\u001b[1;33m(\u001b[0m\u001b[1;33m*\u001b[0m\u001b[0margs\u001b[0m\u001b[1;33m)\u001b[0m\u001b[1;33m\u001b[0m\u001b[1;33m\u001b[0m\u001b[0m\n\u001b[0m\u001b[0;32m    570\u001b[0m \u001b[1;33m\u001b[0m\u001b[0m\n\u001b[0;32m    571\u001b[0m \u001b[1;31m# XXX probably also want an abstract factory that knows when it makes\u001b[0m\u001b[1;33m\u001b[0m\u001b[1;33m\u001b[0m\u001b[1;33m\u001b[0m\u001b[0m\n",
      "\u001b[1;32m~\\anaconda3\\lib\\urllib\\request.py\u001b[0m in \u001b[0;36m_call_chain\u001b[1;34m(self, chain, kind, meth_name, *args)\u001b[0m\n\u001b[0;32m    500\u001b[0m         \u001b[1;32mfor\u001b[0m \u001b[0mhandler\u001b[0m \u001b[1;32min\u001b[0m \u001b[0mhandlers\u001b[0m\u001b[1;33m:\u001b[0m\u001b[1;33m\u001b[0m\u001b[1;33m\u001b[0m\u001b[0m\n\u001b[0;32m    501\u001b[0m             \u001b[0mfunc\u001b[0m \u001b[1;33m=\u001b[0m \u001b[0mgetattr\u001b[0m\u001b[1;33m(\u001b[0m\u001b[0mhandler\u001b[0m\u001b[1;33m,\u001b[0m \u001b[0mmeth_name\u001b[0m\u001b[1;33m)\u001b[0m\u001b[1;33m\u001b[0m\u001b[1;33m\u001b[0m\u001b[0m\n\u001b[1;32m--> 502\u001b[1;33m             \u001b[0mresult\u001b[0m \u001b[1;33m=\u001b[0m \u001b[0mfunc\u001b[0m\u001b[1;33m(\u001b[0m\u001b[1;33m*\u001b[0m\u001b[0margs\u001b[0m\u001b[1;33m)\u001b[0m\u001b[1;33m\u001b[0m\u001b[1;33m\u001b[0m\u001b[0m\n\u001b[0m\u001b[0;32m    503\u001b[0m             \u001b[1;32mif\u001b[0m \u001b[0mresult\u001b[0m \u001b[1;32mis\u001b[0m \u001b[1;32mnot\u001b[0m \u001b[1;32mNone\u001b[0m\u001b[1;33m:\u001b[0m\u001b[1;33m\u001b[0m\u001b[1;33m\u001b[0m\u001b[0m\n\u001b[0;32m    504\u001b[0m                 \u001b[1;32mreturn\u001b[0m \u001b[0mresult\u001b[0m\u001b[1;33m\u001b[0m\u001b[1;33m\u001b[0m\u001b[0m\n",
      "\u001b[1;32m~\\anaconda3\\lib\\urllib\\request.py\u001b[0m in \u001b[0;36mhttp_error_default\u001b[1;34m(self, req, fp, code, msg, hdrs)\u001b[0m\n\u001b[0;32m    647\u001b[0m \u001b[1;32mclass\u001b[0m \u001b[0mHTTPDefaultErrorHandler\u001b[0m\u001b[1;33m(\u001b[0m\u001b[0mBaseHandler\u001b[0m\u001b[1;33m)\u001b[0m\u001b[1;33m:\u001b[0m\u001b[1;33m\u001b[0m\u001b[1;33m\u001b[0m\u001b[0m\n\u001b[0;32m    648\u001b[0m     \u001b[1;32mdef\u001b[0m \u001b[0mhttp_error_default\u001b[0m\u001b[1;33m(\u001b[0m\u001b[0mself\u001b[0m\u001b[1;33m,\u001b[0m \u001b[0mreq\u001b[0m\u001b[1;33m,\u001b[0m \u001b[0mfp\u001b[0m\u001b[1;33m,\u001b[0m \u001b[0mcode\u001b[0m\u001b[1;33m,\u001b[0m \u001b[0mmsg\u001b[0m\u001b[1;33m,\u001b[0m \u001b[0mhdrs\u001b[0m\u001b[1;33m)\u001b[0m\u001b[1;33m:\u001b[0m\u001b[1;33m\u001b[0m\u001b[1;33m\u001b[0m\u001b[0m\n\u001b[1;32m--> 649\u001b[1;33m         \u001b[1;32mraise\u001b[0m \u001b[0mHTTPError\u001b[0m\u001b[1;33m(\u001b[0m\u001b[0mreq\u001b[0m\u001b[1;33m.\u001b[0m\u001b[0mfull_url\u001b[0m\u001b[1;33m,\u001b[0m \u001b[0mcode\u001b[0m\u001b[1;33m,\u001b[0m \u001b[0mmsg\u001b[0m\u001b[1;33m,\u001b[0m \u001b[0mhdrs\u001b[0m\u001b[1;33m,\u001b[0m \u001b[0mfp\u001b[0m\u001b[1;33m)\u001b[0m\u001b[1;33m\u001b[0m\u001b[1;33m\u001b[0m\u001b[0m\n\u001b[0m\u001b[0;32m    650\u001b[0m \u001b[1;33m\u001b[0m\u001b[0m\n\u001b[0;32m    651\u001b[0m \u001b[1;32mclass\u001b[0m \u001b[0mHTTPRedirectHandler\u001b[0m\u001b[1;33m(\u001b[0m\u001b[0mBaseHandler\u001b[0m\u001b[1;33m)\u001b[0m\u001b[1;33m:\u001b[0m\u001b[1;33m\u001b[0m\u001b[1;33m\u001b[0m\u001b[0m\n",
      "\u001b[1;31mHTTPError\u001b[0m: HTTP Error 404: Not Found"
     ]
    }
   ],
   "source": [
    "#load the balanced and complete training data in a pandas dataframe\n",
    "\n",
    "#df_bc = readfile(\"C:/Users/Admin/Pythonprojects/RAMS/data/Arduino_3Vars_trainingset_BalancedComplete.xlsx\")\n",
    "df_bc = readfile(\"https://raw.githubusercontent.com/chrisrijsdijk/RAMS/master/data/Arduino_trainingset_BalancedComplete.xlsx\")"
   ]
  },
  {
   "cell_type": "code",
   "execution_count": null,
   "metadata": {},
   "outputs": [],
   "source": [
    "# plot the training data and their labels\n",
    "\n",
    "plotlabels(df_bc,                                          # data frame\n",
    "           ['F1','F2','F3','F4'],                          # specify the labels to groupby\n",
    "          '      (    F1,     F2,     F3,     F4)',        # title of the legend\n",
    "           'Training data - balanced & complete'           # title of graph\n",
    "          )\n",
    "\n",
    "plotlabels(df_bc,                                          # data frame\n",
    "           ['Health'],                                     # specify the labels to groupby\n",
    "          '       Health',                                 # title of the legend\n",
    "           'Training data =  balanced & complete'          # title of graph\n",
    "          )\n"
   ]
  },
  {
   "cell_type": "code",
   "execution_count": null,
   "metadata": {},
   "outputs": [],
   "source": [
    "plt.close('all')"
   ]
  },
  {
   "cell_type": "code",
   "execution_count": null,
   "metadata": {},
   "outputs": [],
   "source": [
    "#load the unbalanced and incomplete training data in a pandas dataframe\n",
    "\n",
    "df = None\n",
    "\n",
    "#df_ui =readfile(\"C:/Users/Admin/Pythonprojects/RAMS/data/Arduino_3Vars_trainingset_UnbalancedIncomplete.xlsx\")\n",
    "df_ui = readfile(\"https://raw.githubusercontent.com/chrisrijsdijk/RAMS/master/data/Arduino_trainingset_UnbalancedIncomplete.xlsx\")"
   ]
  },
  {
   "cell_type": "code",
   "execution_count": null,
   "metadata": {},
   "outputs": [],
   "source": [
    "# plot the training data and their labels\n",
    "\n",
    "plotlabels(df_ui,                                          # data frame\n",
    "           ['F1','F2','F3','F4'],                          # specify the labels to groupby\n",
    "          '      (    F1,     F2,     F3,     F4)',        # title of the legend\n",
    "           'Training data =  unbalanced & incomplete'      # title of graph\n",
    "          )\n",
    "\n",
    "plotlabels(df_ui,                                          # data frame\n",
    "           ['Health'],                                     # specify the labels to groupby\n",
    "          '       Health',                                 # title of the legend\n",
    "           'Training data =  unbalanced & incomplete'      # title of graph\n",
    "          )\n"
   ]
  },
  {
   "cell_type": "code",
   "execution_count": null,
   "metadata": {},
   "outputs": [],
   "source": [
    "plt.close('all')"
   ]
  },
  {
   "cell_type": "code",
   "execution_count": null,
   "metadata": {},
   "outputs": [],
   "source": [
    "# infer RF models from df_bc data\n",
    "\n",
    "X = df_bc.iloc[:,[0,1,2]]                    #define the explanatory variables\n",
    "X_names = df_bc.iloc[:,[0,1,2]].columns      #load a string of column names to label the output of the random forest model afterwards...\n",
    "\n",
    "rf_bc_f1_model, rf_bc_f1_featimp = selectRFmodel(X, np.array(df_bc[\"F1\"].astype('float')))\n",
    "rf_bc_f2_model, rf_bc_f2_featimp = selectRFmodel(X, np.array(df_bc[\"F2\"].astype('float')))\n",
    "rf_bc_f3_model, rf_bc_f3_featimp = selectRFmodel(X, np.array(df_bc[\"F3\"].astype('float')))\n",
    "rf_bc_f4_model, rf_bc_f4_featimp = selectRFmodel(X, np.array(df_bc[\"F4\"].astype('float')))\n",
    "\n",
    "rf_bc_health_model, rf_bc_health_featimp = selectRFmodel(X, np.array(df_bc[\"Health\"].astype('float')))\n"
   ]
  },
  {
   "cell_type": "code",
   "execution_count": null,
   "metadata": {},
   "outputs": [],
   "source": [
    "# infer RF models from df_ui data\n",
    "\n",
    "X = df_ui.iloc[:,[0,1,2]]                    #define the explanatory variables\n",
    "X_names = df_ui.iloc[:,[0,1,2]].columns        #load a string of column names to label the output of the random forest model afterwards...\n",
    "\n",
    "rf_ui_f1_model, rf_ui_f1_featimp = selectRFmodel(X, np.array(df_ui[\"F1\"].astype('float')))\n",
    "rf_ui_f2_model, rf_ui_f2_featimp = selectRFmodel(X, np.array(df_ui[\"F2\"].astype('float')))\n",
    "rf_ui_f3_model, rf_ui_f3_featimp = selectRFmodel(X, np.array(df_ui[\"F3\"].astype('float')))\n",
    "rf_ui_f4_model, rf_ui_f4_featimp = selectRFmodel(X, np.array(df_ui[\"F4\"].astype('float')))\n",
    "\n",
    "rf_ui_health_model, rf_ui_health_featimp = selectRFmodel(X, np.array(df_ui[\"Health\"].astype('float')))\n"
   ]
  },
  {
   "cell_type": "code",
   "execution_count": null,
   "metadata": {
    "tags": []
   },
   "outputs": [],
   "source": [
    "# plot the importance of the various explanatory variables using Gini importance\n",
    "# Gini importance is a number between zero and one, the heigher the Gini importance the better the explanatory variable can predict the failure y \n",
    "\n",
    "featureImportances = np.array([rf_bc_f1_model.feature_importances_, \n",
    "                               rf_bc_f2_model.feature_importances_, \n",
    "                               rf_bc_f3_model.feature_importances_, \n",
    "                               rf_bc_f4_model.feature_importances_,\n",
    "                               rf_bc_health_model.feature_importances_,\n",
    "                               \n",
    "                               rf_ui_f1_model.feature_importances_, \n",
    "                               rf_ui_f2_model.feature_importances_, \n",
    "                               rf_ui_f3_model.feature_importances_, \n",
    "                               rf_ui_f4_model.feature_importances_,\n",
    "                               rf_ui_health_model.feature_importances_\n",
    "                              ])\n",
    "\n",
    "pd.DataFrame(featureImportances, columns = X_names, index = [\"bc_F1\",\"bc_F2\",\"bc_F3\",\"bc_F4\",\"bc_Health\",\n",
    "                                                            \"ui_F1\",\"ui_F2\",\"ui_F3\",\"ui_F4\",\"ui_Health\"])"
   ]
  },
  {
   "cell_type": "code",
   "execution_count": null,
   "metadata": {},
   "outputs": [],
   "source": [
    "# infer KM model from df_bc data\n",
    "\n",
    "X = df_bc.iloc[:,[0,1,2]]                    #define the explanatory variables\n",
    "X_names = df_bc.iloc[:,[0,1,2]].columns      #load a string of column names to label the output of the random forest model afterwards...\n",
    "\n",
    "df_bc_scaler, df_bc_KMM, df_bc_regime, df_bc_centers = vl_regime(X)\n",
    "\n",
    "df_bc_cluster = pd.DataFrame(df_bc_centers, columns=X_names)\n",
    "plotlabels(df_bc_cluster,                          # data frame\n",
    "           list(df_bc_cluster.index),              # specify the labels to groupby\n",
    "           'Cluster centers',                      # title of the legend\n",
    "           'Training data =  balanced & complete'  # title of graph\n",
    "          )"
   ]
  },
  {
   "cell_type": "code",
   "execution_count": null,
   "metadata": {},
   "outputs": [],
   "source": [
    "# infer KM model from df_ui data\n",
    "\n",
    "X = df_ui.iloc[:,[0,1,2]]                    #define the explanatory variables\n",
    "X_names = df_ui.iloc[:,[0,1,2]].columns      #load a string of column names to label the output of the random forest model afterwards...\n",
    "\n",
    "df_ui_scaler, df_ui_KMM, df_ui_regime, df_ui_centers = vl_regime(X)\n",
    "\n",
    "df_ui_cluster = pd.DataFrame(df_ui_centers, columns=X_names)\n",
    "plotlabels(df_ui_cluster,                              # data frame\n",
    "           list(df_ui_cluster.index),                  # specify the labels to groupby\n",
    "           'Cluster centers',                           # title of the legend\n",
    "           'Training data =  unbalanced & incomplete'  # title of graph\n",
    "          )"
   ]
  },
  {
   "cell_type": "code",
   "execution_count": null,
   "metadata": {},
   "outputs": [],
   "source": [
    "#confront the various model with the validation data"
   ]
  },
  {
   "cell_type": "code",
   "execution_count": null,
   "metadata": {
    "tags": []
   },
   "outputs": [],
   "source": [
    "\n",
    "df_val = None\n",
    "\n",
    "# this data set represents the system during deployment\n",
    "#df_val = readfile(\"C:/Users/Admin/Pythonprojects/RAMS/data/Arduino_3Vars_validationset.xlsx\")\n",
    "df_val = readfile(\"https://raw.githubusercontent.com/chrisrijsdijk/RAMS/master/data/Arduino_validationset.xlsx\")\n"
   ]
  },
  {
   "cell_type": "code",
   "execution_count": null,
   "metadata": {},
   "outputs": [],
   "source": [
    "# fit assess data to some k_means cluster\n",
    "\n",
    "def fitKMeans(scaler, model, data):\n",
    "    datatrans = scaler.transform(data)\n",
    "    clusterlabel = model.predict(datatrans)\n",
    "    clustercentertrans = model.cluster_centers_[clusterlabel]\n",
    "    clustercenter = scaler.inverse_transform(clustercentertrans)\n",
    "    distance = np.linalg.norm(data-clustercenter)\n",
    "    \n",
    "    return np.array([distance])\n",
    "    "
   ]
  },
  {
   "cell_type": "code",
   "execution_count": null,
   "metadata": {},
   "outputs": [],
   "source": [
    "# infer conclusions from the data using the various RF and KM models\n",
    "\n",
    "df_bc_distance = {}\n",
    "df_ui_distance = {}\n",
    "\n",
    "rf_bc_f1 = {}\n",
    "rf_bc_f2 = {}\n",
    "rf_bc_f3 = {}\n",
    "rf_bc_f4 = {}\n",
    "rf_bc_health = {}\n",
    "\n",
    "rf_ui_f1 = {}\n",
    "rf_ui_f2 = {}\n",
    "rf_ui_f3 = {}\n",
    "rf_ui_f4 = {}\n",
    "rf_ui_health = {}\n",
    "\n",
    "for i in df_val.index:\n",
    "    dummy = df_val.loc[i,:]\n",
    "    dum5 = np.array([ dummy[:3] ])\n",
    "    df_bc_distance[i] = fitKMeans(df_bc_scaler, df_bc_KMM, dum5)\n",
    "    df_ui_distance[i] = fitKMeans(df_ui_scaler, df_ui_KMM, dum5)\n",
    "    \n",
    "    rf_bc_f1[i] = rf_bc_f1_model.predict(dum5)\n",
    "    rf_bc_f2[i] = rf_bc_f2_model.predict(dum5)\n",
    "    rf_bc_f3[i] = rf_bc_f3_model.predict(dum5)\n",
    "    rf_bc_f4[i] = rf_bc_f4_model.predict(dum5)\n",
    "    rf_bc_health[i] = rf_bc_health_model.predict(dum5)\n",
    "    \n",
    "    rf_ui_f1[i] = rf_ui_f1_model.predict(dum5)\n",
    "    rf_ui_f2[i] = rf_ui_f2_model.predict(dum5)\n",
    "    rf_ui_f3[i] = rf_ui_f3_model.predict(dum5)\n",
    "    rf_ui_f4[i] = rf_ui_f4_model.predict(dum5)\n",
    "    rf_ui_health[i] = rf_ui_health_model.predict(dum5)\n",
    "    "
   ]
  },
  {
   "cell_type": "code",
   "execution_count": null,
   "metadata": {},
   "outputs": [],
   "source": [
    "# just dump the result in an Excel file for those who want\n",
    "\n",
    "val_result = pd.concat( [df_val, \n",
    "                         pd.DataFrame(df_bc_distance, index=['bc_cluster']).T,\n",
    "                         pd.DataFrame(df_ui_distance, index=['ui_cluster']).T,\n",
    "                         pd.DataFrame(rf_bc_f1, index=['F1_rf_bc']).T.astype('bool'), \n",
    "                         pd.DataFrame(rf_bc_f2, index=['F2_rf_bc']).T.astype('bool'), \n",
    "                         pd.DataFrame(rf_bc_f3, index=['F3_rf_bc']).T.astype('bool'), \n",
    "                         pd.DataFrame(rf_bc_f4, index=['F4_rf_bc']).T.astype('bool'), \n",
    "                         pd.DataFrame(rf_bc_health, index=['Health_rf_bc']).T.astype('bool'), \n",
    "    \n",
    "                         pd.DataFrame(rf_ui_f1, index=['F1_rf_ui']).T.astype('bool'), \n",
    "                         pd.DataFrame(rf_ui_f2, index=['F2_rf_ui']).T.astype('bool'), \n",
    "                         pd.DataFrame(rf_ui_f3, index=['F3_rf_ui']).T.astype('bool'), \n",
    "                         pd.DataFrame(rf_ui_f4, index=['F4_rf_ui']).T.astype('bool'), \n",
    "                         pd.DataFrame(rf_ui_health, index=['Health_rf_ui']).T.astype('bool')], \n",
    "    \n",
    "                       axis=1 )"
   ]
  },
  {
   "cell_type": "code",
   "execution_count": null,
   "metadata": {
    "tags": []
   },
   "outputs": [],
   "source": [
    "#val_result.to_excel(\"kanweg.xlsx\")"
   ]
  },
  {
   "cell_type": "code",
   "execution_count": null,
   "metadata": {},
   "outputs": [],
   "source": [
    "val_result.groupby(['F1_rf_bc','F2_rf_bc','F3_rf_bc','F4_rf_bc'])[['S','V0','V1']].mean().reset_index()"
   ]
  },
  {
   "cell_type": "code",
   "execution_count": null,
   "metadata": {},
   "outputs": [],
   "source": [
    "val_result.groupby(['F1_rf_ui','F2_rf_ui','F3_rf_ui','F4_rf_ui'])[['S','V0','V1']].mean().reset_index()"
   ]
  },
  {
   "cell_type": "code",
   "execution_count": null,
   "metadata": {},
   "outputs": [],
   "source": [
    "val_result.groupby(['F1','F2','F3','F4'])[['S','V0','V1']].mean().reset_index()"
   ]
  },
  {
   "cell_type": "code",
   "execution_count": null,
   "metadata": {},
   "outputs": [],
   "source": [
    "val_result.groupby(['Health_rf_bc'])[['S','V0','V1']].mean().reset_index()"
   ]
  },
  {
   "cell_type": "code",
   "execution_count": null,
   "metadata": {},
   "outputs": [],
   "source": [
    "val_result.groupby(['Health_rf_ui'])[['S','V0','V1']].mean().reset_index()"
   ]
  },
  {
   "cell_type": "code",
   "execution_count": null,
   "metadata": {},
   "outputs": [],
   "source": [
    "val_result.groupby(['Health'])[['S','V0','V1']].mean().reset_index()"
   ]
  },
  {
   "cell_type": "code",
   "execution_count": null,
   "metadata": {},
   "outputs": [],
   "source": []
  }
 ],
 "metadata": {
  "kernelspec": {
   "display_name": "Python 3",
   "language": "python",
   "name": "python3"
  },
  "language_info": {
   "codemirror_mode": {
    "name": "ipython",
    "version": 3
   },
   "file_extension": ".py",
   "mimetype": "text/x-python",
   "name": "python",
   "nbconvert_exporter": "python",
   "pygments_lexer": "ipython3",
   "version": "3.8.8"
  },
  "toc-autonumbering": false,
  "toc-showcode": true,
  "toc-showmarkdowntxt": true
 },
 "nbformat": 4,
 "nbformat_minor": 4
}
