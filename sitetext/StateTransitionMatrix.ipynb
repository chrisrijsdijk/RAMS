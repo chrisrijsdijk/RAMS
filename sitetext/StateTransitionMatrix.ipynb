{
 "cells": [
  {
   "cell_type": "markdown",
   "metadata": {},
   "source": [
    "# State transition matrix\n",
    "This script illustrates the concept of the Markov property, i.e. only the current state of the system determines what happens the next step ahead. This script departs from a time series representing the evolution of the state of a system. In its most simple scenario, the system is just up or down, but the script is easily extendable to multiple state systems. The script provides various sample time series to illustrate some practical issues.\n",
    "\n",
    "The script illustrates the construction of the state transition matrix from a time series of system states. The rows in this state transition matrix represent the current state and the columns represent the next step ahead state. Below is the state transition matrix of a 4-state system. Each row in the state transition matrix should sum up to one.\n",
    "\n",
    "|             | up/up     | up/down   | down/up | down/down  |\n",
    "|:-----------:|----------:|----------:|--------:|-----------:|\n",
    "|up/up        |    0.50   |    0.33   |   0.17  |   0.00     |\n",
    "|up/down      |    0.25   |    0.25   |   0.00  |   0.50     |\n",
    "|down/up      |    0.50   |    0.00   |   0.25  |   0.25     |\n",
    "|down/down    |    0.00   |    0.33   |   0.67  |   0.00     |\n",
    "\n",
    "Particularly in case of multiple state systems, it is often impossible to construct a state transition matrix from a time series of observations. Failures typically (and hopefully!) rarely occur and some system states may therefore remain absent in the time series. Then, the state transition matrix cannot be constructed from a time series of observations. Then, expert judgement is needed to load the state transition matrix. Reliability handbooks may be helpful here.\n",
    "\n",
    "![image](figures/StateTransitionPlot01.png).\n",
    "\n",
    "The main output of this script is a graph that plots the probability of an upstate of the system. In case of multiple state systems, a definition of the system's upstate needs to be specified. In this picture, both components should be up for the system to be up or just one of the two components should be up for the system to be up. So, the effect of various configurations on the probability of the upstate may be evaluated.\n",
    "\n",
    "![image](figures/StateTransitionPlot02.png).\n",
    "\n",
    "Both pictures have been built on the same time series, but in the first picture this time series has been decomposed in 10 steps and in the second one, it has been decomposed in 60 steps. Then, the number of state transitions in the time series did not change, but the number of state holdings grows by a factor 6 as shown in the state transition matrix below.\n",
    "\n",
    "|             | up/up     | up/down   | down/up | down/down  |\n",
    "|:-----------:|----------:|----------:|--------:|-----------:|\n",
    "|up/up        |    0.93   |    0.05   |   0.17  |   0.00     |\n",
    "|up/down      |    0.04   |    0.88   |   0.00  |   0.08     |\n",
    "|down/up      |    0.08   |    0.00   |   0.88  |   0.04     |\n",
    "|down/down    |    0.00   |    0.06   |   0.11  |   0.83     |\n",
    "\n",
    "Although both graphs end at similar probabilities of an upstate, the resolution of the second graph is more accurate. This idea can be stretched to a decomposition into infinitely many time intervals. If the number of system states is small, an equation for the evolution of the probability of the upstate can be derived.\n",
    "\n",
    "# [Click here to see the script](/notebook/StateTransitionMatrix.ipynb)"
   ]
  },
  {
   "cell_type": "code",
   "execution_count": null,
   "metadata": {},
   "outputs": [],
   "source": []
  }
 ],
 "metadata": {
  "kernelspec": {
   "display_name": "Python 3",
   "language": "python",
   "name": "python3"
  },
  "language_info": {
   "codemirror_mode": {
    "name": "ipython",
    "version": 3
   },
   "file_extension": ".py",
   "mimetype": "text/x-python",
   "name": "python",
   "nbconvert_exporter": "python",
   "pygments_lexer": "ipython3",
   "version": "3.7.6"
  }
 },
 "nbformat": 4,
 "nbformat_minor": 4
}
