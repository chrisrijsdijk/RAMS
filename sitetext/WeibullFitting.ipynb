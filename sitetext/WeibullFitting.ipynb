{
 "cells": [
  {
   "cell_type": "markdown",
   "metadata": {},
   "source": [
    "# Weibull fitting\n",
    "This script outlines a way to infer a Weibull distribution that fits the interarrival times from a Computerised Maintenance Management System (CMMS). CMMS data is typically event data that has been entered by human beings and it is therefore prone to humans factors. This script only estimates from interarrival times that are known. It ignores recordings of interarrival times with an unknown start or an unknown end.\n",
    "\n",
    "In some cases, these interarrival times equal the life time of an item, but this is not always the case. For example, the arrivals come from different members of a fleet or the shelf life should also be considered. In the setup of this script however, the interarrival times equal the life time which makes them of direct use to reliability engineers. Reliability engineers have often used Weibull plots to estimate the reliability from data about life times. As calendar time is rarely a cause of failures, the life time may also be expressed in terms of load cycles or \"production volume\" to enhance predictability. Predicting failures is important to align maintenance decisions with failure behaviour. This script ultimately just infers from known life times irrespective of their definition. The probabilities of the observed interarrival times on the vertical axis of the Weibull plot have been estimated by Benard's median rank approximation.\n",
    "\n",
    "\n",
    "$ R_{k}= 1-{(i-0.3)\\over (n+0.4)} $\n",
    "\n",
    "\n",
    "This script applies the log-transform that enables an estimation of the parameters of the Weibull distribution by linear regression. The Weibull distribution is given by:\n",
    "\n",
    "$ R_{(0,t]}= e^{-({t\\over \\eta})^\\beta} $\n",
    "\n",
    "Take the log:\n",
    "\n",
    "$ ln(R_{(0,t]})= -({t\\over \\eta})^\\beta $\n",
    "\n",
    "Eliminate the minus:\n",
    "\n",
    "$ ln({1 \\over R_{(0,t]}})= ({t\\over \\eta})^\\beta $\n",
    "\n",
    "Take the log again:\n",
    "\n",
    "$ ln(ln({1 \\over {R_(0,t]}}))= \\beta ln({t\\over \\eta})= \\beta ln(t) - \\beta ln(\\eta) $\n",
    "\n",
    "Now, the log transformed expression for reliability linearly depends on a log transformed time. The slope of this line is $\\beta$ and the intercept is $-\\beta ln(\\eta)$ as shown in the picture:\n",
    "\n",
    "![Figure](figures/WeibullFit01.png)\n",
    "\n",
    "From the slope and the intercept of the linear regression line, the shape parameter ($\\beta$) and the scale parameter ($\\eta$) can be deduced. The Weibull distribution fitted in the picture becomes:\n",
    "\n",
    "$ R_{(0,t]}= e^{-({t\\over 272})^{0.615}} $\n",
    "\n",
    "In this case, the shape parameter $\\beta <1$ meaning that the item suffers from a high infant mortality. This means that reliability steeply drops in the early stages of an item's life:\n",
    "\n",
    "![Figure](figures/WeibullDist01.png)\n",
    "\n",
    "Having survived the initial stage, the reliability slowly decreases implying that it is highly probable that the item will survive a next time interval in its remaining life. As a consequence, a replacement of an old item by a new one increases the probability of a failure immediately after this replacement. Therefore, scheduled maintenance should not be applied if $\\beta <1$.\n",
    "\n",
    "If the shape parameter $\\beta >1$, the item suffers from ageing or wear. If the parameter $\\beta =1$, the item suffers from failures that occur randomly in time. Therefore, a Weibull plot shows some symptoms of the cause of the failure but expert judgement remains indispensible to identify this cause. Of course, as sensorrecordings from items become better accessible, it becomes increasingly possibly to directly predict failures from indicators of their suspected causes.\n",
    "\n",
    "# [Click here to see the script](https://nbviewer.jupyter.org/github/chrisrijsdijk/RAMS/blob/master/notebook/WeibullFitting.ipynb)"
   ]
  },
  {
   "cell_type": "code",
   "execution_count": null,
   "metadata": {},
   "outputs": [],
   "source": []
  }
 ],
 "metadata": {
  "kernelspec": {
   "display_name": "Python 3",
   "language": "python",
   "name": "python3"
  },
  "language_info": {
   "codemirror_mode": {
    "name": "ipython",
    "version": 3
   },
   "file_extension": ".py",
   "mimetype": "text/x-python",
   "name": "python",
   "nbconvert_exporter": "python",
   "pygments_lexer": "ipython3",
   "version": "3.7.6"
  }
 },
 "nbformat": 4,
 "nbformat_minor": 4
}
