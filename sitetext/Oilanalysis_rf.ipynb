{
 "cells": [
  {
   "cell_type": "markdown",
   "metadata": {},
   "source": [
    "# Oil analysis using random forest classification \n",
    "The essentials of a random forest are best illustrated by introducing its decision trees first. A decision tree shows how well a partitioning of the data predicts a label that has been assigned to the data. For example, the demo-script below is geared to distinguish used oil from fresh oil. The picture shows a random forest of two decision trees that predict the label \"green\" by partitioning a training set of measurements ($x$,$y$). The picture illustrates that various decision trees may be selected and that the choice of the decision tree determines the prediction of the label.\n",
    "\n",
    "![image](figures/Oilanalysis_rf01.png).\n",
    "\n",
    "Clearly, the decision tree at the lefthand side is better as it is shorter and it predicts the label of the measurements ($x$,$y$) perfectly.\n",
    "\n",
    "### ... is sensitive to the choice of k\n",
    "\n",
    "\n",
    "### ... is insensitive to many scaling and transformations\n",
    "An ...\n",
    "\n",
    "$ z= {{(x-\\bar{x})}\\over s} $\n",
    "\n",
    "Here, \n",
    "\n",
    "### ... is insensitive to irrelevant data\n",
    "Dependencies\n",
    " \n",
    "\n",
    "### ... is insensitive to the initial choice of the centroids\n",
    "..\n",
    "\n",
    "# [Click here to see the random forest script](https://nbviewer.jupyter.org/github/chrisrijsdijk/RAMS/blob/master/notebook/Oilanalysis_randomforest.ipynb)"
   ]
  },
  {
   "cell_type": "code",
   "execution_count": null,
   "metadata": {},
   "outputs": [],
   "source": []
  }
 ],
 "metadata": {
  "kernelspec": {
   "display_name": "Python 3",
   "language": "python",
   "name": "python3"
  },
  "language_info": {
   "codemirror_mode": {
    "name": "ipython",
    "version": 3
   },
   "file_extension": ".py",
   "mimetype": "text/x-python",
   "name": "python",
   "nbconvert_exporter": "python",
   "pygments_lexer": "ipython3",
   "version": "3.7.6"
  }
 },
 "nbformat": 4,
 "nbformat_minor": 4
}
