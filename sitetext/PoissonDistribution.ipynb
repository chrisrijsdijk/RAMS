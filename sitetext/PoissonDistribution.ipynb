{
 "cells": [
  {
   "cell_type": "markdown",
   "metadata": {},
   "source": [
    "# Poisson arrivals\n",
    "This script may be interesting to operating organisations that only have Computerised Maintenance Management System (CMMS) data available. CMMS data is typically event data that has been entered by human beings and it is therefore prone to humans factors. This [paper](https://www.phmpapers.org/index.php/phme/article/view/409) provides a realistic application of this script while outlining that this basic analysis may be enriched with sensor data.\n",
    "\n",
    "![Figure](figures/PoissonPlot01.png)\n",
    "\n",
    "The main output of this script is a graph that plots the \"observed arrivals\" in red. The maximum likelihood Poisson parameter linearly evolves in time and in this specific case, the evolution of the \"observed arrivals\" is within the 95% acceptance region. In this way, an initial screening on large discontinuities in the \"observed arrivals\" will be obtained. These discontinuities typically require an explanation as time by itself does not explain the arrival of a failure. In the absence of any other data, these explanations should follow from expert judgement.\n",
    "\n",
    "A homogenous Poisson process presumes a constant arrival rate which typically does not apply to many job requests in a CMMS. For example, many job requests are subject to scheduling and even failure notifications often deferrable to a \"convenient\" time. Also the definition of the time bracket in which these arrivals took place may require some adjustment of the script.\n",
    "\n",
    "# [Click here to see the script](https://nbviewer.jupyter.org/github/chrisrijsdijk/RAMS/blob/master/notebook/PoissonDistribution.ipynb)"
   ]
  },
  {
   "cell_type": "code",
   "execution_count": null,
   "metadata": {},
   "outputs": [],
   "source": []
  }
 ],
 "metadata": {
  "kernelspec": {
   "display_name": "Python 3",
   "language": "python",
   "name": "python3"
  },
  "language_info": {
   "codemirror_mode": {
    "name": "ipython",
    "version": 3
   },
   "file_extension": ".py",
   "mimetype": "text/x-python",
   "name": "python",
   "nbconvert_exporter": "python",
   "pygments_lexer": "ipython3",
   "version": "3.8.8"
  }
 },
 "nbformat": 4,
 "nbformat_minor": 4
}
