{
 "cells": [
  {
   "cell_type": "markdown",
   "metadata": {},
   "source": [
    "# Oil analysis using k-means clustering \n",
    "The essentials of k-means clustering are best illustrated visually for a fictitious oil analysis of only two measurements x and y. Then, the scatter plot surveys several paired measurements (x,y) that are not entirely independent.\n",
    "\n",
    "![image](figures/Oilanalysis_kmeans01.png).\n",
    "\n",
    "Let's model this dependency by k=2 clusters (and not by a linear equation). As prior knowledge of the centroids of these two clusters is lacking, they are chosen randomly. \n",
    "\n",
    "![image](figures/Oilanalysis_kmeans02.png).\n",
    "\n",
    "Now each of the measurements (x,y) is nearest to either of these centroids. \n",
    "\n",
    "![image](figures/Oilanalysis_kmeans03.png).\n",
    "\n",
    "So, the measurements are being clustered in this way and the center of gravity of each cluster becomes the new centroid. \n",
    "\n",
    "![image](figures/Oilanalysis_kmeans05.png).\n",
    "\n",
    "The clusters that have been formed will stabilise when repeating this procedure several times.\n",
    "\n",
    "![image](figures/Oilanalysis_kmeans07.png).\n",
    "\n",
    "K-means clustering just assigns a clusterlabel while leaving the choice of the number of clusters to the analyst. Also the explanation for these clusters (wear, different grades,...) is left to the analyst. \n",
    "\n",
    "The demo script is just a naive clustering (k=3) over all measurements of the oil analysis. Tentatively, these clusters may be meaningful to experts afterwards but this is not necessarily the case. Possibly, it is already known which columns will be affected by a particular cause. For example:\n",
    "- contamination by solid particles is expected to affect the ISO4406 and LNF measurements\n",
    "- contamination by liquids is expected to affect the fuel, water and Na (antifreeze) measurements\n",
    "- degradation of additives is expected to affect the TAN, TBN, P, Mn, Pb measurements \n",
    "- loss of tribological properties is indicated by the Viscosity and the flash point measurements\n",
    "\n",
    "It should be realised that independent variables may still affect the clusters. Fig BBB shows that x is either a high or a low due to some cause. Then, this cause is easily identified by k-means clustering (k=2). However, if this data set extends to (x,y) where y is entirely independent, the cause may no longer be straightforwardly identifiable by k-means clustering (Fig CCC).\n",
    "\n",
    "The \n",
    "\n",
    "# [Click here to see the k_means script](https://nbviewer.jupyter.org/github/chrisrijsdijk/RAMS/blob/master/notebook/Oilanalysis_kmeans.ipynb)"
   ]
  },
  {
   "cell_type": "code",
   "execution_count": null,
   "metadata": {},
   "outputs": [],
   "source": []
  }
 ],
 "metadata": {
  "kernelspec": {
   "display_name": "Python 3",
   "language": "python",
   "name": "python3"
  },
  "language_info": {
   "codemirror_mode": {
    "name": "ipython",
    "version": 3
   },
   "file_extension": ".py",
   "mimetype": "text/x-python",
   "name": "python",
   "nbconvert_exporter": "python",
   "pygments_lexer": "ipython3",
   "version": "3.7.6"
  }
 },
 "nbformat": 4,
 "nbformat_minor": 4
}
