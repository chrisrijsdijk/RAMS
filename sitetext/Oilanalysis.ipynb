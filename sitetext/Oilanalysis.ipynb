{
 "cells": [
  {
   "cell_type": "markdown",
   "metadata": {},
   "source": [
    "# Oil analysis\n",
    "Oil is known to improve the tribological properties of interacting surfaces in relative motion to each other by reducing friction, temperature and wear. Oil degrades in time which may have severe consequences to the asset. For example, some contamination due to a leakage of fuel or a refrigerant may heavily affect the properties of the oil and consequently the asset's operation. An oil analysis provides sight on the oil's health and indirectly also on some aspects of the asset's health.\n",
    "\n",
    "The oil analysis in this case study comprises various assessments of the contaminating solid particles:\n",
    "- The ISO4406 standard classifies these solid particles by their number and their size.\n",
    "- The LaserNet Fines (LNF) technology classifies solid particles by shapes that are typical for cutting, severe sliding, fatigue, nonmetallics, fibers or water droplets.\n",
    "- Spectroscopy classifies solid particles as chemical elements. \n",
    "The oil analysis also comprises some tribological properties like the viscosity at various temperatures. Finally, the oil analysis comprises an assessment of some chemical properties like the water and fuel contamination, the total acid/base number (TAN/TBN) or the flash point.\n",
    "\n",
    "Most of the samples in the data set come from oil that has been in operation for about a year in a vehicle. However, some samples come from fresh oil or from fresh oil after a short test ride. So, this case study does not contain sequences of measurements that have been taken during the operational life of the oil. So, resampling cannot explain the dependencies in the data set. Still, the vehicles have been deployed in various ways and their health state may well differ. So, the use and the health of the vehicle and the initial health of the oil most likely explain the outcome of the oil analysis at the age of one year.\n",
    "\n",
    "The data set allows to apply both unsupervised and supervised machine learning, as will be illustrated in the demo scripts. \n",
    "\n",
    "## Unsupervised machine learning; [Click here to apply k-means clustering](https://nbviewer.jupyter.org/github/chrisrijsdijk/RAMS/blob/master/sitetext/Oilanalysis_kmeans.ipynb)\n",
    "Unsupervised machine learning is a type of algorithm that learns patterns from unlabelled data. It has just been explained that oil may degrade in a variety of ways, each resulting in a specific pattern in the analysed oil sample. Conversely, a specific pattern in the analysed oil sample indicates which type of degradations are predominant. \n",
    "\n",
    "\n",
    "Then, a specific type of degradation explains a specific pattern in the oil analysis. Not knowing the specific type of degradation that is predominant in each oil analysis, one may resort to just identifying these predominant patterns with unsupervised machine learning. Having identified the predominant patterns, an expert may explain them. Knowing the cause of these patterns makes them practically meaningful.\n",
    "\n",
    "This case study differs from a typical data science case as attempts to improve some arbitrarily chosen algorithm have been omitted. Here, the objective is just to illustrate how unsupervised machine learning could support practical decision making. As opposed to many data science cases, the various measurements of the oil analysis have been tagged by an identifier that makes them meaningful to a decision maker. Potentially, knowledge of data science and knowledge of engineering could simultaneously be involved in improving the algorithm.\n",
    "\n",
    "The demo script just performs some exploratory data analysis and it applies some elementary k-means clustering. So, the script provides sight on the outliers, the linear dependencies and the predominant clusters. If experts can explain these clusters, they become practically meaningful. Otherwise, unexplained clusters may still provide experts a direction for further research.\n",
    "\n",
    "##\n",
    "\n",
    "## Supervised machine learning\n",
    "Supervised machine learning is a type of algorithm that learns about a function from labelled data. So, supervised machine learning yields a function that maps inputs (data) to outputs (label) by learning from pairs of inputs and outputs.\n",
    "\n",
    "## [Click here to apply random forest regression](https://nbviewer.jupyter.org/github/chrisrijsdijk/RAMS/blob/master/notebook/Oilanalysis_randomforest.ipynb)"
   ]
  },
  {
   "cell_type": "code",
   "execution_count": null,
   "metadata": {},
   "outputs": [],
   "source": []
  }
 ],
 "metadata": {
  "kernelspec": {
   "display_name": "Python 3",
   "language": "python",
   "name": "python3"
  },
  "language_info": {
   "codemirror_mode": {
    "name": "ipython",
    "version": 3
   },
   "file_extension": ".py",
   "mimetype": "text/x-python",
   "name": "python",
   "nbconvert_exporter": "python",
   "pygments_lexer": "ipython3",
   "version": "3.7.6"
  }
 },
 "nbformat": 4,
 "nbformat_minor": 4
}
