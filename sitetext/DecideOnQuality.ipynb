{
 "cells": [
  {
   "cell_type": "markdown",
   "metadata": {},
   "source": [
    "# Decide on the dichotomous quality\n",
    "This script illustrates the impact of decisions to influence the dichotomous (up/down) quality. These decisions may be geared:\n",
    "- to prevent a downstate\n",
    "- to predict a downstate\n",
    "- to prevent the effects of a downstate\n",
    "- to recover from a downstate\n",
    "\n",
    "Maintenance decisions are usually selected in this preference order. This script will be based on an exponential reliability distribution, but it could trivially be extended to any other reliability distribution.\n",
    "\n",
    "## Downstate prevention scenario\n",
    "In the downstate prevention scenario, the inherent characteristics $x$ that determine the parameters (in this case $\\lambda$) of the reliability distribution are controlled. In this way, the reliability is also controlled:\n",
    "\n",
    "$ R(t)= e^{-\\lambda (x) t} $\n",
    "\n",
    "Reliability handbooks specify some inherent characteristics $x$ that influence the reliability $R$ and some of them may be under the control of the decision maker. In this way, the probability of a downstate is deferred upfront. Driving carefully falls in this scenario.\n",
    "\n",
    "![Figure](figures/DecideOnQualityPlot01.png)\n",
    "\n",
    "## Downstate prediction scenario\n",
    "In the downstate prediction scenario, the reliability distribution is beyond control of the decision maker. However, the decision maker may increase his knowledge. A confirmation that the item is in upstate without any reduction of its health at a time $t+\\Delta t$ implies a renewal of the reliability distribution:\n",
    "\n",
    "$ R(t+ \\Delta t)=R(t)=e^{-\\lambda (x) t} $\n",
    "\n",
    "Otherwise, a confirmation that the item is in a downstate also implies a renewal of the reliability distribution:\n",
    "\n",
    "$ R(t+ \\Delta t)=0 $\n",
    "\n",
    "It is the knowledge about the dichotomous quality at a time $t$ that altered the reliability distribution. Likewise, knowledge about the inherent characteristics $x$. Moreover, the structure and the parameters of the reliability distribution itself are merely an arbitrary presumption rather than a law of nature. As evidence increases, the decision maker may adjust the parameters and the structure of the reliability distribution following Bayes rule. Driving with care falls in this scenario.\n",
    "\n",
    "![Figure](figures/DecideOnQualityPlot02.png)\n",
    "\n",
    "## Downstate effects prevention scenario\n",
    "In the downstate effects prevention scenario, the decision maker does not (try) to influence or renew the reliability distribution. Still, the decision maker may alleviate the effects of a downstate by being prepared for it. A decision maker may just switch to a standby system (a spare or a redundant one) in case of the uncontrolled failure. Then, the system turns to a downstate as all $n$ standby's have failed. The complementary event of the system's upstate is given by: \n",
    "\n",
    "$ R_{system}(t)=1-\\prod_{i=0}^{n}(1-R_i) $\n",
    "\n",
    "The decision maker just creates standby's that prevent the effects of a downstate. Driving with a bus pass and a spare wheel falls in this scenario.\n",
    "\n",
    "![Figure](figures/DecideOnQualityPlot03.png)\n",
    "\n",
    "## Downstate recovery scenario\n",
    "In the downstate recovery scenario, the decision maker does not even try to avoid the effects of a downstate, he just requests for a recovery if needed. Then, the response to a downstate (maintainability) becomes a concern and probability of an upstate is defined as (point)availability rather than reliability.\n",
    "\n",
    "![Figure](figures/DecideOnQualityPlot04.png)\n",
    "\n",
    "As recoveries are possible, the probability of an upstate does not converge. Still, the probability of an upstate converges to some $\\mu / (\\mu + \\lambda)$:\n",
    "\n",
    "$A(t)= \\frac{\\mu}{\\mu + \\lambda}+ \\frac{\\lambda}{\\mu + \\lambda}e^{-\\lambda t} $\n",
    "\n",
    "This equation shows that a fast recovery rate $\\mu$ contributes to a high availability.\n",
    "\n",
    "# [Click here to see the script](https://nbviewer.jupyter.org/github/chrisrijsdijk/RAMS/blob/master/notebook/DecideOnQuality.ipynb) \n"
   ]
  },
  {
   "cell_type": "code",
   "execution_count": null,
   "metadata": {},
   "outputs": [],
   "source": []
  }
 ],
 "metadata": {
  "kernelspec": {
   "display_name": "Python 3",
   "language": "python",
   "name": "python3"
  },
  "language_info": {
   "codemirror_mode": {
    "name": "ipython",
    "version": 3
   },
   "file_extension": ".py",
   "mimetype": "text/x-python",
   "name": "python",
   "nbconvert_exporter": "python",
   "pygments_lexer": "ipython3",
   "version": "3.7.6"
  }
 },
 "nbformat": 4,
 "nbformat_minor": 4
}
