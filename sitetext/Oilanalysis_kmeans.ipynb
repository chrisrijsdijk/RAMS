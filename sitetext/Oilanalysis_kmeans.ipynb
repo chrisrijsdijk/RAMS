{
 "cells": [
  {
   "cell_type": "markdown",
   "metadata": {},
   "source": [
    "# Oil analysis using k-means clustering \n",
    "The essentials of k-means clustering are best illustrated visually for a fictitious oil analysis of only two measurements x and y. Then, the scatter plot XXX surveys several paired measurements (x,y). XXX shows that the measurements x and y are not entirely independent. Let's model this dependency by k=2 clusters (and not by a linear equation). As prior knowledge of the centroids of these two clusters is lacking, they are chosen randomly in Figure YYY. Now each of the measurements (x,y) is nearest to either of these centroids (ZZZ). So, the measurements are being clustered in this way and the center of gravity of each cluster becomes the new centroid (AAA). The clusters that have been formed will stabilise when repeating this procedure several times.\n",
    "\n",
    "The demo script is just a naive clustering (k=3) over all measurements of the oil analysis. Tentatively, these clusters may be meaningful to experts afterwards but this is not necessarily the case. Possibly, it is already known which columns will be affected by a particular cause. For example:\n",
    "- a leakage of fuel will affect\n",
    "- a leakage of refrigerant will affect\n",
    "- abbrasive wear will affect\n",
    "- the additives will affect\n",
    "It should be realised that independent variables may still affect the clusters. Fig BBB shows that x is either a high or a low due to some cause. Then, this cause is easily identified by k-means clustering (k=2). However, if this data set extends to (x,y) where y is entirely independent, the cause may no longer be straightforwardly identifiable by k-means clustering (Fig CCC).\n",
    "\n",
    "The \n",
    "\n",
    "# [Click here to see the k_means script](https://nbviewer.jupyter.org/github/chrisrijsdijk/RAMS/blob/master/notebook/Oilanalysis_kmeans.ipynb)"
   ]
  }
 ],
 "metadata": {
  "kernelspec": {
   "display_name": "Python 3",
   "language": "python",
   "name": "python3"
  },
  "language_info": {
   "codemirror_mode": {
    "name": "ipython",
    "version": 3
   },
   "file_extension": ".py",
   "mimetype": "text/x-python",
   "name": "python",
   "nbconvert_exporter": "python",
   "pygments_lexer": "ipython3",
   "version": "3.7.6"
  }
 },
 "nbformat": 4,
 "nbformat_minor": 4
}
