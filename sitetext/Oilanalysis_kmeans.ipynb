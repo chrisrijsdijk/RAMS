{
 "cells": [
  {
   "cell_type": "markdown",
   "metadata": {},
   "source": [
    "# Oil analysis using k-means clustering \n",
    "The essentials of k-means clustering are best illustrated visually for a fictitious oil analysis of only two measurements x and y. Then, the scatter plot surveys several paired measurements (x,y) that are not entirely independent.\n",
    "\n",
    "![image](figures/Oilanalysis_kmeans01.png).\n",
    "\n",
    "Let's model this dependency by k=2 clusters (and not by a linear equation). As prior knowledge of the centroids of these two clusters is lacking, they are chosen randomly. \n",
    "\n",
    "![image](figures/Oilanalysis_kmeans02.png).\n",
    "\n",
    "Now each of the measurements (x,y) is nearest to either of these centroids. \n",
    "\n",
    "![image](figures/Oilanalysis_kmeans03.png).\n",
    "\n",
    "So, the measurements are being clustered in this way and the center of gravity of each cluster becomes the new centroid. \n",
    "\n",
    "![image](figures/Oilanalysis_kmeans05.png).\n",
    "\n",
    "The clusters that have been formed will stabilise when repeating this procedure several times.\n",
    "\n",
    "![image](figures/Oilanalysis_kmeans07.png).\n",
    "\n",
    "K-means clustering just assigns a clusterlabel while leaving the choice of the number of clusters to the analyst. Also the explanation for these clusters (wear, different grades,...) is left to the analyst. In the absence of knowledge of the data, the analyst may just resort to some optimisation criterion that balances the distances within the clusters with the number of clusters. An elbow plot visualises this optimisation criterion.\n",
    "\n",
    "However, knowledge of the data is available. In this oil analysis for example, it is known that:\n",
    "- contamination by solid particles is expected to affect the ISO4406 and LNF measurements\n",
    "- contamination by liquids is expected to affect the fuel, water and Na (antifreeze) measurements\n",
    "- degradation of additives is expected to affect the TAN, TBN, P, Mn, Pb measurements \n",
    "- loss of tribological properties is indicated by the Viscosity and the flash point measurements\n",
    "\n",
    "An analyst who is interested in a specific kind of oil degradation should eliminate the data that is known to be independent of this specific kind of oil degradation. \n",
    "\n",
    "![image](figures/Oilanalysis_kmeans09.png).\n",
    "\n",
    "ee\n",
    "\n",
    "\n",
    "# [Click here to see the k_means script](https://nbviewer.jupyter.org/github/chrisrijsdijk/RAMS/blob/master/notebook/Oilanalysis_kmeans.ipynb)"
   ]
  },
  {
   "cell_type": "code",
   "execution_count": null,
   "metadata": {},
   "outputs": [],
   "source": []
  }
 ],
 "metadata": {
  "kernelspec": {
   "display_name": "Python 3",
   "language": "python",
   "name": "python3"
  },
  "language_info": {
   "codemirror_mode": {
    "name": "ipython",
    "version": 3
   },
   "file_extension": ".py",
   "mimetype": "text/x-python",
   "name": "python",
   "nbconvert_exporter": "python",
   "pygments_lexer": "ipython3",
   "version": "3.7.6"
  }
 },
 "nbformat": 4,
 "nbformat_minor": 4
}
