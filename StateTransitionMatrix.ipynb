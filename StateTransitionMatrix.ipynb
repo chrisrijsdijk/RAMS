{
 "cells": [
  {
   "cell_type": "code",
   "execution_count": 139,
   "metadata": {},
   "outputs": [],
   "source": [
    "#import some libraries\n",
    "\n",
    "import numpy as np\n",
    "import pandas as pd\n",
    "import matplotlib.pyplot as plt\n"
   ]
  },
  {
   "cell_type": "code",
   "execution_count": 154,
   "metadata": {},
   "outputs": [
    {
     "name": "stdout",
     "output_type": "stream",
     "text": [
      "survey of state transitions: \n",
      " (('up', 'up'), ('up', 'up'), ('up', 'up'), ('up', 'down'), ('down', 'down')) \n",
      "\n"
     ]
    }
   ],
   "source": [
    "#this sample represents the evolution of the system states in time\n",
    "\n",
    "#this sample represents a non repairable system, i.e. it assesses reliability\n",
    "sample =[\"up\",\"up\",\"up\",\"up\",\"down\",\"down\"]\n",
    "\n",
    "#this sample represents a repairable system, i.e. it assesses availability \n",
    "#sample =[\"up\",\"up\",\"up\",\"up\",\"down\",\"down\",\"up\"]\n",
    "\n",
    "#this sample represents a repairable multiple state system, i.e. it assesses availability of some configuration\n",
    "#sample =[\"up/up\",\"up/up\",\"up/down\",\"up/up\",\"down/up\",\"up/up\",\"up/down\",\"up/down\",\"down/down\",\"up/down\",\"down/down\",\"down/up\",\"down/down\",\"down/up\",\"down/up\",\"up/up\",\"up/up\",\"up/up\"]\n",
    "\n",
    "print(\"survey of state transitions: \\n\",tuple(zip(sample,sample[1:])),\"\\n\")"
   ]
  },
  {
   "cell_type": "code",
   "execution_count": 155,
   "metadata": {},
   "outputs": [
    {
     "name": "stdout",
     "output_type": "stream",
     "text": [
      "survey of the unique states in the sample, sorted descending:  ['up', 'down']\n",
      "empty state transition matrix: \n",
      "       up  down\n",
      "up     0     0\n",
      "down   0     0\n"
     ]
    }
   ],
   "source": [
    "#define state transition matrix\n",
    "\n",
    "n=pd.DataFrame(sample)[0].unique()\n",
    "n=n.tolist()\n",
    "n.sort(reverse=True)\n",
    "print(\"survey of the unique states in the sample, sorted descending: \",n)\n",
    "\n",
    "tm=pd.DataFrame(0,columns=n,index=n)\n",
    "print(\"empty state transition matrix: \\n\",tm)"
   ]
  },
  {
   "cell_type": "code",
   "execution_count": 156,
   "metadata": {},
   "outputs": [
    {
     "name": "stdout",
     "output_type": "stream",
     "text": [
      "print the transition matrix, the proportions in each row sum up to one:\n",
      "         up  down\n",
      "up    0.75  0.25\n",
      "down  0.00  1.00\n"
     ]
    }
   ],
   "source": [
    "# load the state transition matrix \n",
    "\n",
    "for (i,j) in zip(sample,sample[1:]):\n",
    "    tm.loc[i,j] += 1\n",
    "    \n",
    "tm=tm.apply(lambda x: x/x.sum(), axis=\"columns\")\n",
    "\n",
    "print(\"print the transition matrix, the proportions in each row sum up to one:\\n\", tm)"
   ]
  },
  {
   "cell_type": "code",
   "execution_count": 157,
   "metadata": {},
   "outputs": [
    {
     "name": "stdout",
     "output_type": "stream",
     "text": [
      "check whether the values in this series add up to one:\n",
      " up      1\n",
      "down    0\n",
      "dtype: int64\n",
      "the evolution matrix, given the initial state and the state transition matrix:\n",
      "        down        up\n",
      "0  0.000000  1.000000\n",
      "1  0.250000  0.750000\n",
      "2  0.437500  0.562500\n",
      "3  0.578125  0.421875\n",
      "4  0.683594  0.316406\n",
      "5  0.762695  0.237305\n",
      "6  0.822021  0.177979\n",
      "7  0.866516  0.133484\n",
      "8  0.899887  0.100113\n",
      "9  0.924915  0.075085\n"
     ]
    }
   ],
   "source": [
    "#define the initial state of the system\n",
    "\n",
    "s = pd.Series(0,index=n)\n",
    "s[0]=1\n",
    "print(\"check whether the values in this series add up to one:\\n\",s)\n",
    "\n",
    "#calculate the evolution of the system states in time\n",
    "\n",
    "t=10 #define the time interval of interest\n",
    "\n",
    "em=pd.DataFrame()\n",
    "\n",
    "for i in range(t):\n",
    "    em=em.append(s,ignore_index=True)\n",
    "    s=tm.T.dot(s.T)\n",
    "    \n",
    "print(\"the evolution matrix, given the initial state and the state transition matrix:\\n\",em)\n"
   ]
  },
  {
   "cell_type": "code",
   "execution_count": 158,
   "metadata": {},
   "outputs": [
    {
     "name": "stdout",
     "output_type": "stream",
     "text": [
      "the evolution of the upstate by two definitions:\n",
      "        down        up  up_system_1  up_system_2\n",
      "0  0.000000  1.000000     1.000000     1.000000\n",
      "1  0.250000  0.750000     0.750000     0.750000\n",
      "2  0.437500  0.562500     0.562500     0.562500\n",
      "3  0.578125  0.421875     0.421875     0.421875\n",
      "4  0.683594  0.316406     0.316406     0.316406\n",
      "5  0.762695  0.237305     0.237305     0.237305\n",
      "6  0.822021  0.177979     0.177979     0.177979\n",
      "7  0.866516  0.133484     0.133484     0.133484\n",
      "8  0.899887  0.100113     0.100113     0.100113\n",
      "9  0.924915  0.075085     0.075085     0.075085\n"
     ]
    }
   ],
   "source": [
    "#add a columns that defines the upstate of the system\n",
    "\n",
    "sem=em.copy()\n",
    "sem[\"up_system_1\"]=em.iloc[:,len(em.iloc[0,:])-1]\n",
    "sem[\"up_system_2\"]=1-em.iloc[:,0]\n",
    "\n",
    "print(\"the evolution of the upstate by two definitions:\\n\",sem)"
   ]
  },
  {
   "cell_type": "code",
   "execution_count": 159,
   "metadata": {},
   "outputs": [
    {
     "data": {
      "image/png": "[encoded data removed]",
      "text/plain": [
       "<Figure size 432x288 with 1 Axes>"
      ]
     },
     "metadata": {
      "needs_background": "light"
     },
     "output_type": "display_data"
    }
   ],
   "source": [
    "#plot the system upstate in a graph\n",
    "\n",
    "fig = plt.figure()\n",
    "ax1 = fig.add_subplot(1,1,1) # one row, one column, first plot\n",
    "\n",
    "line, = ax1.step(sem.index,\n",
    "         sem[\"up_system_1\"],\n",
    "         where=\"post\",\n",
    "        label=\"up_system_1 definition\",\n",
    "        color=\"red\")\n",
    "\n",
    "line, = ax1.step(sem.index,\n",
    "         sem[\"up_system_2\"],\n",
    "         where=\"post\",\n",
    "        label=\"up_system_2 definition\",\n",
    "        color=\"black\",\n",
    "        linestyle=\"dashed\")\n",
    "\n",
    "xtext = ax1.set_xlabel('time in steps') # returns a Text instance\n",
    "ytext = ax1.set_ylabel('probability of the system to be up')\n",
    "\n",
    "plt.legend(title='Legend')\n",
    "plt.show()"
   ]
  },
  {
   "cell_type": "code",
   "execution_count": null,
   "metadata": {},
   "outputs": [],
   "source": []
  }
 ],
 "metadata": {
  "kernelspec": {
   "display_name": "Python 3",
   "language": "python",
   "name": "python3"
  },
  "language_info": {
   "codemirror_mode": {
    "name": "ipython",
    "version": 3
   },
   "file_extension": ".py",
   "mimetype": "text/x-python",
   "name": "python",
   "nbconvert_exporter": "python",
   "pygments_lexer": "ipython3",
   "version": "3.7.6"
  }
 },
 "nbformat": 4,
 "nbformat_minor": 4
}
