{
 "cells": [
  {
   "cell_type": "markdown",
   "metadata": {},
   "source": [
    "# Homogenous Poisson process\n",
    "This script may be interesting to operating organisations that only have Computerised Maintenance Management System (CMMS) data available. CMMS data is typically event data that has been entered by human beings and it is therefore prone to humans factors. This [paper](https://www.phmpapers.org/index.php/phme/article/view/409) provides a realistic application of this script while outlining that this basic analysis may be enriched with sensor data.\n",
    "\n",
    "![Figure](figures/PoissonPlot01.png)\n",
    "\n",
    "The main output of this script is a graph that plots the \"observed arrivals\" in red. The maximum likelihood Poisson parameter linearly evolves in time and in this specific case, the evolution of the \"observed arrivals\" is within the 95% acceptance region. In this way, an initial screening on large discontinuities in the \"observed arrivals\" will be obtained. These discontinuities typically require an explanation as time by itself does not explain the arrival of a failure. In the absence of any other data, these explanations should follow from expert judgement.\n",
    "\n",
    "A homogenous Poisson process presumes a constant arrival rate which typically does not apply to many job requests in a CMMS. For example, many job requests are subject to scheduling and even failure notifications often deferrable to a \"convenient\" time. Also the definition of the time bracket in which these arrivals took place may require some adjustment of the script.\n",
    "\n",
    "# [Click here to run the script](https://notebooks.gesis.org/binder/jupyter/user/chrisrijsdijk-rams-gatqephb/notebooks/PoissonDistribution.ipynb)\n",
    "\n",
    "# Script\n",
    "Below you find the script."
   ]
  },
  {
   "cell_type": "code",
   "execution_count": 1,
   "metadata": {},
   "outputs": [],
   "source": [
    "# import some libraries\n",
    "import numpy as np\n",
    "import pandas as pd\n",
    "\n",
    "from scipy.stats import poisson\n",
    "\n",
    "%matplotlib inline\n",
    "import matplotlib.pyplot as plt"
   ]
  },
  {
   "cell_type": "code",
   "execution_count": 2,
   "metadata": {},
   "outputs": [],
   "source": [
    "#read a file\n",
    "#dfcmms=pd.read_excel('CMMS_demodata.xlsx', index_col=0, header=0) \n",
    "dfcmms=pd.to_datetime([\"2015-01-21\",\"2016-04-14\",\"2016-11-08\",\"2016-12-01\"])\n",
    "dfcmms=pd.DataFrame(dfcmms,columns=[\"Notif.date\"])\n",
    "#dfcmms"
   ]
  },
  {
   "cell_type": "code",
   "execution_count": 3,
   "metadata": {},
   "outputs": [],
   "source": [
    "#estimate the arrivals, given a presumed birthdate of the experiment\n",
    "#note that in this setup, knowledge about what happened after the last arrival is presumed to be unknown!\n",
    "\n",
    "birth=pd.to_datetime(\"2012-01-01\")\n",
    "\n",
    "dfcmms[\"arrival\"]=dfcmms[\"Notif.date\"]-birth\n",
    "#dfcmms[\"arrival\"]"
   ]
  },
  {
   "cell_type": "code",
   "execution_count": 4,
   "metadata": {},
   "outputs": [],
   "source": [
    "#create a dataframe of the arrivals\n",
    "#sort values on the arrival times\n",
    "\n",
    "dfarrival=pd.DataFrame.append(pd.DataFrame({\"arrival\":dfcmms[\"arrival\"]}),pd.DataFrame({\"arrival\":[birth-birth]}))\n",
    "\n",
    "dfarrival=dfarrival.sort_values(by=\"arrival\",ascending=True)\n",
    "dfarrival[\"arrival\"]=dfarrival[\"arrival\"].dt.days\n",
    "dfarrival[\"count\"]=range(0,len(dfarrival[\"arrival\"]))\n",
    "\n",
    "#dfarrival"
   ]
  },
  {
   "cell_type": "code",
   "execution_count": 5,
   "metadata": {},
   "outputs": [],
   "source": [
    "#estimate the MLE Poisson parameter\n",
    "\n",
    "poismle=dfarrival[\"count\"].max()/dfarrival[\"arrival\"].max()\n",
    "\n",
    "#eventually the experiment could be extended with an OLS estimation...\n",
    "\n",
    "#poisols=dfarrival[\"arrival\"].dot(dfarrival[\"count\"])/dfarrival[\"arrival\"].dot(dfarrival[\"arrival\"])\n"
   ]
  },
  {
   "cell_type": "code",
   "execution_count": 7,
   "metadata": {},
   "outputs": [
    {
     "data": {
      "image/png": "[encoded data removed]",
      "text/plain": [
       "<Figure size 432x288 with 1 Axes>"
      ]
     },
     "metadata": {
      "needs_background": "light"
     },
     "output_type": "display_data"
    }
   ],
   "source": [
    "\n",
    "fig = plt.figure()\n",
    "ax1 = fig.add_subplot(1,1,1) # one row, one column, first plot\n",
    "\n",
    "line, = ax1.step(dfarrival[\"arrival\"],\n",
    "         dfarrival[\"count\"],\n",
    "         where=\"post\",\n",
    "        label=\"observed arrivals\",\n",
    "        color=\"red\")\n",
    "\n",
    "line, = ax1.plot(dfarrival[\"arrival\"],\n",
    "              dfarrival[\"arrival\"]*poismle,\n",
    "                label=\"mle Poisson parameter\",\n",
    "                color=\"black\",\n",
    "                linestyle=\"dashed\")\n",
    "\n",
    "line, = ax1.plot(np.arange(0,dfarrival[\"arrival\"].max()),\n",
    "               poisson.ppf(0.025,np.arange(0,dfarrival[\"arrival\"].max())*poismle),\n",
    "                label=\"95% acceptance region\",\n",
    "                color=\"black\",\n",
    "                linestyle=\"dotted\")\n",
    "\n",
    "line, = ax1.plot(np.arange(0,dfarrival[\"arrival\"].max()),\n",
    "               poisson.ppf(0.975,np.arange(0,dfarrival[\"arrival\"].max())*poismle),\n",
    "                color=\"black\",\n",
    "                linestyle=\"dotted\")\n",
    "\n",
    "xtext = ax1.set_xlabel('time in days') # returns a Text instance\n",
    "ytext = ax1.set_ylabel('arrivals')\n",
    "\n",
    "plt.legend(title='Legend')\n",
    "#plt.savefig(\"C:/Users/Chris/Pythonprojects/RAMS/figures/PoissonPlot01.png\")\n",
    "#plt.show()\n",
    "\n"
   ]
  },
  {
   "cell_type": "code",
   "execution_count": null,
   "metadata": {},
   "outputs": [],
   "source": []
  }
 ],
 "metadata": {
  "kernelspec": {
   "display_name": "Python 3",
   "language": "python",
   "name": "python3"
  },
  "language_info": {
   "codemirror_mode": {
    "name": "ipython",
    "version": 3
   },
   "file_extension": ".py",
   "mimetype": "text/x-python",
   "name": "python",
   "nbconvert_exporter": "python",
   "pygments_lexer": "ipython3",
   "version": "3.7.6"
  }
 },
 "nbformat": 4,
 "nbformat_minor": 4
}
