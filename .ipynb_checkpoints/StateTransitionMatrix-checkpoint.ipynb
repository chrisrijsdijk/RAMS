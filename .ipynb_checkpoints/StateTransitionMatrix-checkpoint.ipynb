{
 "cells": [
  {
   "cell_type": "markdown",
   "metadata": {},
   "source": [
    "# State transition matrix\n",
    "This script illustrates the concept of the Markov property, i.e. only the current state of the system determines what happens the next step ahead. This script departs from a time series representing the evolution of the state of a system. In its most simple scenario, the system is just up or down, but the script is easily extendable to multiple state systems. The script provides various sample time series to illustrate some practical issues.\n",
    "\n",
    "The script illustrates the construction of the state transition matrix from a time series of system states. The rows in this state transition matrix represent the current state and the columns represent the next step ahead state. Below is the state transition matrix of a 4-state system. Each row in the state transition matrix should sum up to one.\n",
    "\n",
    "|             | up/up     | up/down   | down/up | down/down  |\n",
    "|:-----------:|----------:|----------:|--------:|-----------:|\n",
    "|up/up        |    0.50   |    0.33   |   0.17  |   0.00     |\n",
    "|up/down      |    0.25   |    0.25   |   0.00  |   0.50     |\n",
    "|down/up      |    0.50   |    0.00   |   0.25  |   0.25     |\n",
    "|down/down    |    0.00   |    0.33   |   0.67  |   0.00     |\n",
    "\n",
    "Particularly in case of multiple state systems, it is often impossible to construct a state transition matrix from a time series of observations. Failures typically (and hopefully!) rarely occur and some system states may therefore remain absent in the time series. Then, the state transition matrix cannot be constructed from a time series of observations. Then, expert judgement is needed to load the state transition matrix. Reliability handbooks may be helpful here.\n",
    "\n",
    "![image](figures/StateTransitionPlot01.png).\n",
    "\n",
    "The main output of this script is a graph that plots the probability of an upstate of the system. In case of multiple state systems, a definition of the system's upstate needs to be specified. In this picture, both components should be up for the system to be up or just one of the two components should be up for the system to be up. So, the effect of various configurations on the probability of the upstate may be evaluated.\n",
    "\n",
    "![image](figures/StateTransitionPlot02.png).\n",
    "\n",
    "Both pictures have been built on the same time series, but in the first picture this time series has been decomposed in 10 steps and in the second one, it has been decomposed in 60 steps. Then, the number of state transitions in the time series did not change, but the number of state holdings grows by a factor 6 as shown in the state transition matrix below.\n",
    "\n",
    "|             | up/up     | up/down   | down/up | down/down  |\n",
    "|:-----------:|----------:|----------:|--------:|-----------:|\n",
    "|up/up        |    0.93   |    0.05   |   0.17  |   0.00     |\n",
    "|up/down      |    0.04   |    0.88   |   0.00  |   0.08     |\n",
    "|down/up      |    0.08   |    0.00   |   0.88  |   0.04     |\n",
    "|down/down    |    0.00   |    0.06   |   0.11  |   0.83     |\n",
    "\n",
    "Although both graphs end at similar probabilities of an upstate, the resolution of the second graph is more accurate. This idea can be stretched to a decomposition into infinitely many time intervals. If the number of system states is small, an equation for the evolution of the probability of the upstate can be derived.\n",
    "\n"
   ]
  },
  {
   "cell_type": "code",
   "execution_count": 2,
   "metadata": {},
   "outputs": [],
   "source": [
    "#import some libraries\n",
    "\n",
    "import numpy as np\n",
    "import pandas as pd\n",
    "import matplotlib.pyplot as plt"
   ]
  },
  {
   "cell_type": "code",
   "execution_count": 3,
   "metadata": {},
   "outputs": [],
   "source": [
    "#this sample represents the evolution of the system states in time\n",
    "\n",
    "#this sample represents a non repairable system, i.e. it assesses reliability\n",
    "#sample =[\"up\",\"up\",\"up\",\"up\",\"down\",\"down\"]\n",
    "\n",
    "#this sample represents a repairable system, i.e. it assesses availability \n",
    "#sample =[\"up\",\"up\",\"up\",\"up\",\"down\",\"down\",\"up\"]\n",
    "\n",
    "#this sample represents a repairable multiple state system, i.e. it assesses availability of some configuration\n",
    "sample =[\"up/up\",\"up/up\",\"up/down\",\"up/up\",\"down/up\",\"up/up\",\"up/down\",\"up/down\",\"down/down\",\"up/down\",\"down/down\",\"down/up\",\"down/down\",\"down/up\",\"down/up\",\"up/up\",\"up/up\",\"up/up\"]\n",
    "\n",
    "#this is an incomplete sample as the transitions from down/down have not been observed\n",
    "#sample =[\"up/up\",\"up/up\",\"up/down\",\"up/up\",\"down/up\",\"up/up\",\"up/down\",\"up/down\",\"up/down\",\"up/up\",\"down/up\",\"down/up\",\"down/down\"]\n",
    "\n",
    "#this sample represents a repairable multiple state system at a higher time resolution, i.e. it assesses availability of some configuration\n",
    "#sample =[\"up/up\",\"up/up\",\"up/up\",\"up/up\",\"up/up\",\"up/up\",\"up/up\",\"up/up\",\"up/up\",\"up/up\",\"up/up\",\"up/up\",\n",
    " #        \"up/down\",\"up/down\",\"up/down\",\"up/down\",\"up/down\",\"up/down\",\"up/up\",\"up/up\",\"up/up\",\"up/up\",\"up/up\",\"up/up\",\n",
    "  #       \"down/up\",\"down/up\",\"down/up\",\"down/up\",\"down/up\",\"down/up\",\"up/up\",\"up/up\",\"up/up\",\"up/up\",\"up/up\",\"up/up\",\n",
    "   #      \"up/down\",\"up/down\",\"up/down\",\"up/down\",\"up/down\",\"up/down\",\"up/down\",\"up/down\",\"up/down\",\"up/down\",\"up/down\",\"up/down\",\n",
    "    #     \"down/down\",\"down/down\",\"down/down\",\"down/down\",\"down/down\",\"down/down\",\"up/down\",\"up/down\",\"up/down\",\"up/down\",\"up/down\",\"up/down\",\n",
    "     #    \"down/down\",\"down/down\",\"down/down\",\"down/down\",\"down/down\",\"down/down\",\"down/up\",\"down/up\",\"down/up\",\"down/up\",\"down/up\",\"down/up\",\n",
    "      #   \"down/down\",\"down/down\",\"down/down\",\"down/down\",\"down/down\",\"down/down\",\"down/up\",\"down/up\",\"down/up\",\"down/up\",\"down/up\",\"down/up\",\"down/up\",\"down/up\",\"down/up\",\"down/up\",\"down/up\",\"down/up\",\n",
    "       #  \"up/up\",\"up/up\",\"up/up\",\"up/up\",\"up/up\",\"up/up\",\"up/up\",\"up/up\",\"up/up\",\"up/up\",\"up/up\",\"up/up\",\"up/up\",\"up/up\",\"up/up\",\"up/up\",\"up/up\",\"up/up\"]\n",
    "\n",
    "#print(\"survey of state transitions: \\n\",tuple(zip(sample,sample[1:])),\"\\n\")"
   ]
  },
  {
   "cell_type": "code",
   "execution_count": 4,
   "metadata": {},
   "outputs": [],
   "source": [
    "#define state transition matrix\n",
    "\n",
    "n=pd.DataFrame(sample)[0].unique()\n",
    "n=n.tolist()\n",
    "n.sort(reverse=True)\n",
    "#print(\"survey of the unique states in the sample, sorted descending: \",n)\n",
    "\n",
    "tm=pd.DataFrame(0,columns=n,index=n)\n",
    "#print(\"empty state transition matrix: \\n\",tm)"
   ]
  },
  {
   "cell_type": "code",
   "execution_count": 5,
   "metadata": {},
   "outputs": [],
   "source": [
    "# load the state transition matrix \n",
    "\n",
    "for (i,j) in zip(sample,sample[1:]):\n",
    "    tm.loc[i,j] += 1\n",
    "    \n",
    "tm=tm.apply(lambda x: x/x.sum(), axis=\"columns\")\n",
    "\n",
    "#print(\"print the transition matrix, the proportions in each row sum up to one:\\n\", tm)"
   ]
  },
  {
   "cell_type": "code",
   "execution_count": 8,
   "metadata": {},
   "outputs": [],
   "source": [
    "#define the initial state of the system\n",
    "\n",
    "s = pd.Series(0,index=n)\n",
    "s[0]=1\n",
    "#print(\"check whether the values in this series add up to one:\\n\",s)\n",
    "\n",
    "#calculate the evolution of the system states in time\n",
    "\n",
    "t=10 #define the time interval of interest\n",
    "\n",
    "em=pd.DataFrame()\n",
    "\n",
    "for i in range(t):\n",
    "    em=em.append(s,ignore_index=True)\n",
    "    s=tm.T.dot(s.T)\n",
    "    \n",
    "#print(\"the evolution matrix, given the initial state and the state transition matrix:\\n\",em)\n"
   ]
  },
  {
   "cell_type": "code",
   "execution_count": 9,
   "metadata": {},
   "outputs": [],
   "source": [
    "#add a columns that defines the upstate of the system\n",
    "\n",
    "sem=em.copy()\n",
    "sem[\"up_system_1\"]=em.iloc[:,len(em.iloc[0,:])-1]\n",
    "sem[\"up_system_2\"]=1-em.iloc[:,0]\n",
    "\n",
    "#print(\"the evolution of the upstate by two definitions:\\n\",sem)"
   ]
  },
  {
   "cell_type": "code",
   "execution_count": 12,
   "metadata": {},
   "outputs": [
    {
     "data": {
      "text/plain": [
       "<matplotlib.legend.Legend at 0x1fa93b5d548>"
      ]
     },
     "execution_count": 12,
     "metadata": {},
     "output_type": "execute_result"
    },
    {
     "data": {
      "image/png": "[encoded data removed]",
      "text/plain": [
       "<Figure size 432x288 with 1 Axes>"
      ]
     },
     "metadata": {
      "needs_background": "light"
     },
     "output_type": "display_data"
    }
   ],
   "source": [
    "#plot the system upstate in a graph\n",
    "\n",
    "fig = plt.figure()\n",
    "ax1 = fig.add_subplot(1,1,1) # one row, one column, first plot\n",
    "\n",
    "line, = ax1.step(sem.index,\n",
    "         sem[\"up_system_1\"],\n",
    "         where=\"post\",\n",
    "        label=\"up_system_1 definition\",\n",
    "        color=\"red\")\n",
    "\n",
    "line, = ax1.step(sem.index,\n",
    "         sem[\"up_system_2\"],\n",
    "         where=\"post\",\n",
    "        label=\"up_system_2 definition\",\n",
    "        color=\"black\",\n",
    "        linestyle=\"dashed\")\n",
    "\n",
    "xtext = ax1.set_xlabel('time in steps') # returns a Text instance\n",
    "ytext = ax1.set_ylabel('probability of the system to be up')\n",
    "\n",
    "plt.legend(title='Legend')\n",
    "#plt.savefig(\"C:/Users/Chris/Pythonprojects/RAMS/sitetexts/figures/StateTransitionPlot02.png\")\n",
    "#plt.show()"
   ]
  },
  {
   "cell_type": "code",
   "execution_count": null,
   "metadata": {},
   "outputs": [],
   "source": []
  }
 ],
 "metadata": {
  "kernelspec": {
   "display_name": "Python 3",
   "language": "python",
   "name": "python3"
  },
  "language_info": {
   "codemirror_mode": {
    "name": "ipython",
    "version": 3
   },
   "file_extension": ".py",
   "mimetype": "text/x-python",
   "name": "python",
   "nbconvert_exporter": "python",
   "pygments_lexer": "ipython3",
   "version": "3.7.6"
  }
 },
 "nbformat": 4,
 "nbformat_minor": 4
}
