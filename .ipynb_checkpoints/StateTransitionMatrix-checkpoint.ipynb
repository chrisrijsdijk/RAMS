{
 "cells": [
  {
   "cell_type": "code",
   "execution_count": 13,
   "metadata": {},
   "outputs": [],
   "source": [
    "#import some libraries\n",
    "\n",
    "import numpy as np\n",
    "import pandas as pd\n",
    "import matplotlib.pyplot as plt\n"
   ]
  },
  {
   "cell_type": "code",
   "execution_count": 26,
   "metadata": {},
   "outputs": [],
   "source": [
    "#this sample represents the evolution of the system states in time\n",
    "\n",
    "#this sample represents a non repairable system, i.e. it assesses reliability\n",
    "#sample =[\"up\",\"up\",\"up\",\"up\",\"down\",\"down\"]\n",
    "\n",
    "#this sample represents a repairable system, i.e. it assesses availability \n",
    "#sample =[\"up\",\"up\",\"up\",\"up\",\"down\",\"down\",\"up\"]\n",
    "\n",
    "#this sample represents a repairable multiple state system, i.e. it assesses availability of some configuration\n",
    "sample =[\"up/up\",\"up/up\",\"up/down\",\"up/up\",\"down/up\",\"up/up\",\"up/down\",\"up/down\",\"down/down\",\"up/down\",\"down/down\",\"down/up\",\"down/down\",\"down/up\",\"down/up\",\"up/up\",\"up/up\",\"up/up\"]\n",
    "\n",
    "#this is an incomplete sample as the transitions from down/down have not been observed\n",
    "#sample =[\"up/up\",\"up/up\",\"up/down\",\"up/up\",\"down/up\",\"up/up\",\"up/down\",\"up/down\",\"up/down\",\"up/up\",\"down/up\",\"down/up\",\"down/down\"]\n",
    "\n",
    "#this sample represents a repairable multiple state system at a higher time resolution, i.e. it assesses availability of some configuration\n",
    "#sample =[\"up/up\",\"up/up\",\"up/up\",\"up/up\",\"up/up\",\"up/up\",\"up/up\",\"up/up\",\"up/up\",\"up/up\",\"up/up\",\"up/up\",\n",
    " #        \"up/down\",\"up/down\",\"up/down\",\"up/down\",\"up/down\",\"up/down\",\"up/up\",\"up/up\",\"up/up\",\"up/up\",\"up/up\",\"up/up\",\n",
    "  #       \"down/up\",\"down/up\",\"down/up\",\"down/up\",\"down/up\",\"down/up\",\"up/up\",\"up/up\",\"up/up\",\"up/up\",\"up/up\",\"up/up\",\n",
    "   #      \"up/down\",\"up/down\",\"up/down\",\"up/down\",\"up/down\",\"up/down\",\"up/down\",\"up/down\",\"up/down\",\"up/down\",\"up/down\",\"up/down\",\n",
    "    #     \"down/down\",\"down/down\",\"down/down\",\"down/down\",\"down/down\",\"down/down\",\"up/down\",\"up/down\",\"up/down\",\"up/down\",\"up/down\",\"up/down\",\n",
    "     #    \"down/down\",\"down/down\",\"down/down\",\"down/down\",\"down/down\",\"down/down\",\"down/up\",\"down/up\",\"down/up\",\"down/up\",\"down/up\",\"down/up\",\n",
    "      #   \"down/down\",\"down/down\",\"down/down\",\"down/down\",\"down/down\",\"down/down\",\"down/up\",\"down/up\",\"down/up\",\"down/up\",\"down/up\",\"down/up\",\"down/up\",\"down/up\",\"down/up\",\"down/up\",\"down/up\",\"down/up\",\n",
    "       #  \"up/up\",\"up/up\",\"up/up\",\"up/up\",\"up/up\",\"up/up\",\"up/up\",\"up/up\",\"up/up\",\"up/up\",\"up/up\",\"up/up\",\"up/up\",\"up/up\",\"up/up\",\"up/up\",\"up/up\",\"up/up\"]\n",
    "\n",
    "#print(\"survey of state transitions: \\n\",tuple(zip(sample,sample[1:])),\"\\n\")"
   ]
  },
  {
   "cell_type": "code",
   "execution_count": 27,
   "metadata": {},
   "outputs": [
    {
     "name": "stdout",
     "output_type": "stream",
     "text": [
      "survey of the unique states in the sample, sorted descending:  ['up/up', 'up/down', 'down/up', 'down/down']\n",
      "empty state transition matrix: \n",
      "            up/up  up/down  down/up  down/down\n",
      "up/up          0        0        0          0\n",
      "up/down        0        0        0          0\n",
      "down/up        0        0        0          0\n",
      "down/down      0        0        0          0\n"
     ]
    }
   ],
   "source": [
    "#define state transition matrix\n",
    "\n",
    "n=pd.DataFrame(sample)[0].unique()\n",
    "n=n.tolist()\n",
    "n.sort(reverse=True)\n",
    "print(\"survey of the unique states in the sample, sorted descending: \",n)\n",
    "\n",
    "tm=pd.DataFrame(0,columns=n,index=n)\n",
    "print(\"empty state transition matrix: \\n\",tm)"
   ]
  },
  {
   "cell_type": "code",
   "execution_count": 28,
   "metadata": {},
   "outputs": [
    {
     "name": "stdout",
     "output_type": "stream",
     "text": [
      "print the transition matrix, the proportions in each row sum up to one:\n",
      "               up/up   up/down   down/up  down/down\n",
      "up/up      0.926829  0.048780  0.024390   0.000000\n",
      "up/down    0.041667  0.875000  0.000000   0.083333\n",
      "down/up    0.083333  0.000000  0.875000   0.041667\n",
      "down/down  0.000000  0.055556  0.111111   0.833333\n"
     ]
    }
   ],
   "source": [
    "# load the state transition matrix \n",
    "\n",
    "for (i,j) in zip(sample,sample[1:]):\n",
    "    tm.loc[i,j] += 1\n",
    "    \n",
    "tm=tm.apply(lambda x: x/x.sum(), axis=\"columns\")\n",
    "\n",
    "print(\"print the transition matrix, the proportions in each row sum up to one:\\n\", tm)"
   ]
  },
  {
   "cell_type": "code",
   "execution_count": 30,
   "metadata": {},
   "outputs": [
    {
     "name": "stdout",
     "output_type": "stream",
     "text": [
      "check whether the values in this series add up to one:\n",
      " up/up        1\n",
      "up/down      0\n",
      "down/up      0\n",
      "down/down    0\n",
      "dtype: int64\n",
      "the evolution matrix, given the initial state and the state transition matrix:\n",
      "     down/down   down/up   up/down     up/up\n",
      "0    0.000000  0.000000  0.000000  1.000000\n",
      "1    0.000000  0.024390  0.048780  0.926829\n",
      "2    0.005081  0.043947  0.087894  0.863078\n",
      "3    0.013390  0.060069  0.119291  0.807250\n",
      "4    0.023602  0.073737  0.144502  0.758159\n",
      "5    0.034783  0.085634  0.164733  0.714850\n",
      "6    0.046281  0.096230  0.180945  0.676544\n",
      "7    0.057656  0.105845  0.193900  0.642599\n",
      "8    0.068615  0.114693  0.204212  0.612479\n",
      "9    0.078976  0.122919  0.212374  0.585730\n",
      "10   0.088633  0.130616  0.218787  0.561964\n",
      "11   0.097535  0.137843  0.223776  0.540846\n",
      "12   0.105671  0.144641  0.227605  0.522082\n",
      "13   0.113053  0.151036  0.230493  0.505418\n",
      "14   0.119712  0.157045  0.232616  0.490627\n",
      "15   0.125688  0.162682  0.234123  0.477507\n",
      "16   0.131029  0.167959  0.235133  0.465879\n",
      "17   0.135783  0.172886  0.235747  0.455584\n",
      "18   0.140002  0.177474  0.236046  0.446479\n",
      "19   0.143733  0.181735  0.236097  0.438434\n",
      "20   0.147025  0.185682  0.235957  0.431336\n",
      "21   0.149921  0.189328  0.235671  0.425080\n",
      "22   0.152462  0.192688  0.235277  0.419573\n",
      "23   0.154687  0.195776  0.234804  0.414733\n",
      "24   0.156630  0.198607  0.234279  0.410485\n",
      "25   0.158323  0.201196  0.233719  0.406762\n",
      "26   0.159796  0.203559  0.233142  0.403503\n",
      "27   0.161073  0.205711  0.232560  0.400656\n",
      "28   0.162179  0.207666  0.231983  0.398172\n",
      "29   0.163134  0.209439  0.231418  0.396009\n",
      "30   0.163956  0.211044  0.230871  0.394129\n",
      "31   0.164663  0.212494  0.230347  0.392497\n",
      "32   0.165269  0.213801  0.229847  0.391083\n",
      "33   0.165786  0.214978  0.229375  0.389861\n",
      "34   0.166227  0.216035  0.228931  0.388807\n",
      "35   0.166602  0.216983  0.228516  0.387899\n",
      "36   0.166919  0.217833  0.228129  0.387120\n",
      "37   0.167186  0.218592  0.227770  0.386452\n",
      "38   0.167411  0.219270  0.227438  0.385881\n",
      "39   0.167598  0.219874  0.227132  0.385395\n",
      "40   0.167754  0.220412  0.226852  0.384982\n",
      "41   0.167883  0.220889  0.226595  0.384633\n",
      "42   0.167989  0.221313  0.226360  0.384338\n",
      "43   0.168076  0.221689  0.226146  0.384090\n",
      "44   0.168146  0.222021  0.225951  0.383882\n",
      "45   0.168202  0.222314  0.225775  0.383710\n",
      "46   0.168246  0.222573  0.225615  0.383567\n",
      "47   0.168280  0.222800  0.225471  0.383449\n",
      "48   0.168306  0.223000  0.225340  0.383353\n",
      "49   0.168325  0.223176  0.225223  0.383276\n",
      "50   0.168338  0.223330  0.225118  0.383213\n",
      "51   0.168347  0.223465  0.225024  0.383164\n",
      "52   0.168352  0.223582  0.224939  0.383126\n",
      "53   0.168354  0.223685  0.224864  0.383097\n",
      "54   0.168354  0.223774  0.224797  0.383075\n",
      "55   0.168352  0.223852  0.224737  0.383059\n",
      "56   0.168349  0.223919  0.224683  0.383049\n",
      "57   0.168344  0.223977  0.224636  0.383043\n",
      "58   0.168339  0.224027  0.224594  0.383040\n",
      "59   0.168333  0.224071  0.224557  0.383040\n"
     ]
    }
   ],
   "source": [
    "#define the initial state of the system\n",
    "\n",
    "s = pd.Series(0,index=n)\n",
    "s[0]=1\n",
    "print(\"check whether the values in this series add up to one:\\n\",s)\n",
    "\n",
    "#calculate the evolution of the system states in time\n",
    "\n",
    "t=10 #define the time interval of interest\n",
    "\n",
    "em=pd.DataFrame()\n",
    "\n",
    "for i in range(t):\n",
    "    em=em.append(s,ignore_index=True)\n",
    "    s=tm.T.dot(s.T)\n",
    "    \n",
    "print(\"the evolution matrix, given the initial state and the state transition matrix:\\n\",em)\n"
   ]
  },
  {
   "cell_type": "code",
   "execution_count": 31,
   "metadata": {},
   "outputs": [
    {
     "name": "stdout",
     "output_type": "stream",
     "text": [
      "the evolution of the upstate by two definitions:\n",
      "     down/down   down/up   up/down     up/up  up_system_1  up_system_2\n",
      "0    0.000000  0.000000  0.000000  1.000000     1.000000     1.000000\n",
      "1    0.000000  0.024390  0.048780  0.926829     0.926829     1.000000\n",
      "2    0.005081  0.043947  0.087894  0.863078     0.863078     0.994919\n",
      "3    0.013390  0.060069  0.119291  0.807250     0.807250     0.986610\n",
      "4    0.023602  0.073737  0.144502  0.758159     0.758159     0.976398\n",
      "5    0.034783  0.085634  0.164733  0.714850     0.714850     0.965217\n",
      "6    0.046281  0.096230  0.180945  0.676544     0.676544     0.953719\n",
      "7    0.057656  0.105845  0.193900  0.642599     0.642599     0.942344\n",
      "8    0.068615  0.114693  0.204212  0.612479     0.612479     0.931385\n",
      "9    0.078976  0.122919  0.212374  0.585730     0.585730     0.921024\n",
      "10   0.088633  0.130616  0.218787  0.561964     0.561964     0.911367\n",
      "11   0.097535  0.137843  0.223776  0.540846     0.540846     0.902465\n",
      "12   0.105671  0.144641  0.227605  0.522082     0.522082     0.894329\n",
      "13   0.113053  0.151036  0.230493  0.505418     0.505418     0.886947\n",
      "14   0.119712  0.157045  0.232616  0.490627     0.490627     0.880288\n",
      "15   0.125688  0.162682  0.234123  0.477507     0.477507     0.874312\n",
      "16   0.131029  0.167959  0.235133  0.465879     0.465879     0.868971\n",
      "17   0.135783  0.172886  0.235747  0.455584     0.455584     0.864217\n",
      "18   0.140002  0.177474  0.236046  0.446479     0.446479     0.859998\n",
      "19   0.143733  0.181735  0.236097  0.438434     0.438434     0.856267\n",
      "20   0.147025  0.185682  0.235957  0.431336     0.431336     0.852975\n",
      "21   0.149921  0.189328  0.235671  0.425080     0.425080     0.850079\n",
      "22   0.152462  0.192688  0.235277  0.419573     0.419573     0.847538\n",
      "23   0.154687  0.195776  0.234804  0.414733     0.414733     0.845313\n",
      "24   0.156630  0.198607  0.234279  0.410485     0.410485     0.843370\n",
      "25   0.158323  0.201196  0.233719  0.406762     0.406762     0.841677\n",
      "26   0.159796  0.203559  0.233142  0.403503     0.403503     0.840204\n",
      "27   0.161073  0.205711  0.232560  0.400656     0.400656     0.838927\n",
      "28   0.162179  0.207666  0.231983  0.398172     0.398172     0.837821\n",
      "29   0.163134  0.209439  0.231418  0.396009     0.396009     0.836866\n",
      "30   0.163956  0.211044  0.230871  0.394129     0.394129     0.836044\n",
      "31   0.164663  0.212494  0.230347  0.392497     0.392497     0.835337\n",
      "32   0.165269  0.213801  0.229847  0.391083     0.391083     0.834731\n",
      "33   0.165786  0.214978  0.229375  0.389861     0.389861     0.834214\n",
      "34   0.166227  0.216035  0.228931  0.388807     0.388807     0.833773\n",
      "35   0.166602  0.216983  0.228516  0.387899     0.387899     0.833398\n",
      "36   0.166919  0.217833  0.228129  0.387120     0.387120     0.833081\n",
      "37   0.167186  0.218592  0.227770  0.386452     0.386452     0.832814\n",
      "38   0.167411  0.219270  0.227438  0.385881     0.385881     0.832589\n",
      "39   0.167598  0.219874  0.227132  0.385395     0.385395     0.832402\n",
      "40   0.167754  0.220412  0.226852  0.384982     0.384982     0.832246\n",
      "41   0.167883  0.220889  0.226595  0.384633     0.384633     0.832117\n",
      "42   0.167989  0.221313  0.226360  0.384338     0.384338     0.832011\n",
      "43   0.168076  0.221689  0.226146  0.384090     0.384090     0.831924\n",
      "44   0.168146  0.222021  0.225951  0.383882     0.383882     0.831854\n",
      "45   0.168202  0.222314  0.225775  0.383710     0.383710     0.831798\n",
      "46   0.168246  0.222573  0.225615  0.383567     0.383567     0.831754\n",
      "47   0.168280  0.222800  0.225471  0.383449     0.383449     0.831720\n",
      "48   0.168306  0.223000  0.225340  0.383353     0.383353     0.831694\n",
      "49   0.168325  0.223176  0.225223  0.383276     0.383276     0.831675\n",
      "50   0.168338  0.223330  0.225118  0.383213     0.383213     0.831662\n",
      "51   0.168347  0.223465  0.225024  0.383164     0.383164     0.831653\n",
      "52   0.168352  0.223582  0.224939  0.383126     0.383126     0.831648\n",
      "53   0.168354  0.223685  0.224864  0.383097     0.383097     0.831646\n",
      "54   0.168354  0.223774  0.224797  0.383075     0.383075     0.831646\n",
      "55   0.168352  0.223852  0.224737  0.383059     0.383059     0.831648\n",
      "56   0.168349  0.223919  0.224683  0.383049     0.383049     0.831651\n",
      "57   0.168344  0.223977  0.224636  0.383043     0.383043     0.831656\n",
      "58   0.168339  0.224027  0.224594  0.383040     0.383040     0.831661\n",
      "59   0.168333  0.224071  0.224557  0.383040     0.383040     0.831667\n"
     ]
    }
   ],
   "source": [
    "#add a columns that defines the upstate of the system\n",
    "\n",
    "sem=em.copy()\n",
    "sem[\"up_system_1\"]=em.iloc[:,len(em.iloc[0,:])-1]\n",
    "sem[\"up_system_2\"]=1-em.iloc[:,0]\n",
    "\n",
    "print(\"the evolution of the upstate by two definitions:\\n\",sem)"
   ]
  },
  {
   "cell_type": "code",
   "execution_count": 32,
   "metadata": {},
   "outputs": [
    {
     "data": {
      "image/png": "[encoded data removed]",
      "text/plain": [
       "<Figure size 432x288 with 1 Axes>"
      ]
     },
     "metadata": {
      "needs_background": "light"
     },
     "output_type": "display_data"
    }
   ],
   "source": [
    "#plot the system upstate in a graph\n",
    "\n",
    "fig = plt.figure()\n",
    "ax1 = fig.add_subplot(1,1,1) # one row, one column, first plot\n",
    "\n",
    "line, = ax1.step(sem.index,\n",
    "         sem[\"up_system_1\"],\n",
    "         where=\"post\",\n",
    "        label=\"up_system_1 definition\",\n",
    "        color=\"red\")\n",
    "\n",
    "line, = ax1.step(sem.index,\n",
    "         sem[\"up_system_2\"],\n",
    "         where=\"post\",\n",
    "        label=\"up_system_2 definition\",\n",
    "        color=\"black\",\n",
    "        linestyle=\"dashed\")\n",
    "\n",
    "xtext = ax1.set_xlabel('time in steps') # returns a Text instance\n",
    "ytext = ax1.set_ylabel('probability of the system to be up')\n",
    "\n",
    "plt.legend(title='Legend')\n",
    "#plt.savefig(\"C:/Users/Chris/Pythonprojects/RAMS/figures/StateTransitionPlot02.png\")\n",
    "plt.show()"
   ]
  },
  {
   "cell_type": "code",
   "execution_count": null,
   "metadata": {},
   "outputs": [],
   "source": []
  }
 ],
 "metadata": {
  "kernelspec": {
   "display_name": "Python 3",
   "language": "python",
   "name": "python3"
  },
  "language_info": {
   "codemirror_mode": {
    "name": "ipython",
    "version": 3
   },
   "file_extension": ".py",
   "mimetype": "text/x-python",
   "name": "python",
   "nbconvert_exporter": "python",
   "pygments_lexer": "ipython3",
   "version": "3.7.6"
  }
 },
 "nbformat": 4,
 "nbformat_minor": 4
}
